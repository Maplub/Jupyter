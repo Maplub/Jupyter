{
 "cells": [
  {
   "cell_type": "code",
   "execution_count": 2,
   "metadata": {
    "collapsed": false
   },
   "outputs": [],
   "source": [
    "data<-read.csv('hourlymarch.csv')"
   ]
  },
  {
   "cell_type": "code",
   "execution_count": 8,
   "metadata": {
    "collapsed": false
   },
   "outputs": [],
   "source": [
    "colnames(data)[1:5]<-c('id','y','m','d','h')"
   ]
  },
  {
   "cell_type": "code",
   "execution_count": 10,
   "metadata": {
    "collapsed": false
   },
   "outputs": [],
   "source": [
    "sensorlist<-read.csv('sensorlist.csv')"
   ]
  },
  {
   "cell_type": "code",
   "execution_count": 11,
   "metadata": {
    "collapsed": false
   },
   "outputs": [
    {
     "data": {
      "text/html": [
       "<table>\n",
       "<thead><tr><th scope=col>sensorid</th><th scope=col>name</th><th scope=col>province</th><th scope=col>amphoe</th><th scope=col>tambol</th><th scope=col>lat</th><th scope=col>lon</th></tr></thead>\n",
       "<tbody>\n",
       "\t<tr><td>CU-S0012                </td><td>องค์การบริหารส่วนตำบลเปือ   </td><td>น่าน                     </td><td>เชียงกลาง                </td><td>เปือ                     </td><td>19.33190                </td><td>100.8192                </td></tr>\n",
       "\t<tr><td>CU-S0006                </td><td>องค์การบริหารส่วนตำบลพระธาตุ</td><td>น่าน                     </td><td>เชียงกลาง                </td><td>พระธาตุ                  </td><td>19.33620                </td><td>100.8951                </td></tr>\n",
       "\t<tr><td>CU-S0014                </td><td>เทศบาลตำบลพระพุทธบาท     </td><td>น่าน                     </td><td>เชียงกลาง                </td><td>พระพุทธบาท               </td><td>19.27280                </td><td>100.8397                </td></tr>\n",
       "\t<tr><td>CU-S0047                </td><td>องค์การบริหารส่วนตำบลจอมพระ</td><td>น่าน                     </td><td>ท่าวังผา                  </td><td>จอมพระ                  </td><td>19.08279                </td><td>100.8509                </td></tr>\n",
       "\t<tr><td>CU-S0061                </td><td>องค์การบริหารส่วนตำบลตาลชุม </td><td>น่าน                     </td><td>ท่าวังผา                  </td><td>ตาลชุม                   </td><td>19.03684                </td><td>100.7986                </td></tr>\n",
       "\t<tr><td>CU-S0022                </td><td>เทศบาลตำบลท่าวังผา        </td><td>น่าน                     </td><td>ท่าวังผา                  </td><td>ท่าวังผา                  </td><td>19.09438                </td><td>100.8093                </td></tr>\n",
       "</tbody>\n",
       "</table>\n"
      ],
      "text/latex": [
       "\\begin{tabular}{r|lllllll}\n",
       " sensorid & name & province & amphoe & tambol & lat & lon\\\\\n",
       "\\hline\n",
       "\t CU-S0012                 & องค์การบริหารส่วนตำบลเปือ    & น่าน                      & เชียงกลาง                 & เปือ                      & 19.33190                 & 100.8192                \\\\\n",
       "\t CU-S0006                 & องค์การบริหารส่วนตำบลพระธาตุ & น่าน                      & เชียงกลาง                 & พระธาตุ                   & 19.33620                 & 100.8951                \\\\\n",
       "\t CU-S0014                 & เทศบาลตำบลพระพุทธบาท      & น่าน                      & เชียงกลาง                 & พระพุทธบาท                & 19.27280                 & 100.8397                \\\\\n",
       "\t CU-S0047                 & องค์การบริหารส่วนตำบลจอมพระ & น่าน                      & ท่าวังผา                   & จอมพระ                   & 19.08279                 & 100.8509                \\\\\n",
       "\t CU-S0061                 & องค์การบริหารส่วนตำบลตาลชุม  & น่าน                      & ท่าวังผา                   & ตาลชุม                    & 19.03684                 & 100.7986                \\\\\n",
       "\t CU-S0022                 & เทศบาลตำบลท่าวังผา         & น่าน                      & ท่าวังผา                   & ท่าวังผา                   & 19.09438                 & 100.8093                \\\\\n",
       "\\end{tabular}\n"
      ],
      "text/markdown": [
       "\n",
       "sensorid | name | province | amphoe | tambol | lat | lon | \n",
       "|---|---|---|---|---|---|\n",
       "| CU-S0012                 | องค์การบริหารส่วนตำบลเปือ    | น่าน                      | เชียงกลาง                 | เปือ                      | 19.33190                 | 100.8192                 | \n",
       "| CU-S0006                 | องค์การบริหารส่วนตำบลพระธาตุ | น่าน                      | เชียงกลาง                 | พระธาตุ                   | 19.33620                 | 100.8951                 | \n",
       "| CU-S0014                 | เทศบาลตำบลพระพุทธบาท      | น่าน                      | เชียงกลาง                 | พระพุทธบาท                | 19.27280                 | 100.8397                 | \n",
       "| CU-S0047                 | องค์การบริหารส่วนตำบลจอมพระ | น่าน                      | ท่าวังผา                   | จอมพระ                   | 19.08279                 | 100.8509                 | \n",
       "| CU-S0061                 | องค์การบริหารส่วนตำบลตาลชุม  | น่าน                      | ท่าวังผา                   | ตาลชุม                    | 19.03684                 | 100.7986                 | \n",
       "| CU-S0022                 | เทศบาลตำบลท่าวังผา         | น่าน                      | ท่าวังผา                   | ท่าวังผา                   | 19.09438                 | 100.8093                 | \n",
       "\n",
       "\n"
      ],
      "text/plain": [
       "  sensorid name                     province amphoe   tambol    lat     \n",
       "1 CU-S0012 องค์การบริหารส่วนตำบลเปือ    น่าน      เชียงกลาง เปือ       19.33190\n",
       "2 CU-S0006 องค์การบริหารส่วนตำบลพระธาตุ น่าน      เชียงกลาง พระธาตุ    19.33620\n",
       "3 CU-S0014 เทศบาลตำบลพระพุทธบาท      น่าน      เชียงกลาง พระพุทธบาท 19.27280\n",
       "4 CU-S0047 องค์การบริหารส่วนตำบลจอมพระ น่าน      ท่าวังผา   จอมพระ    19.08279\n",
       "5 CU-S0061 องค์การบริหารส่วนตำบลตาลชุม  น่าน      ท่าวังผา   ตาลชุม     19.03684\n",
       "6 CU-S0022 เทศบาลตำบลท่าวังผา         น่าน      ท่าวังผา   ท่าวังผา    19.09438\n",
       "  lon     \n",
       "1 100.8192\n",
       "2 100.8951\n",
       "3 100.8397\n",
       "4 100.8509\n",
       "5 100.7986\n",
       "6 100.8093"
      ]
     },
     "metadata": {},
     "output_type": "display_data"
    }
   ],
   "source": [
    "head(sensorlist)"
   ]
  },
  {
   "cell_type": "code",
   "execution_count": null,
   "metadata": {
    "collapsed": true
   },
   "outputs": [],
   "source": []
  }
 ],
 "metadata": {
  "kernelspec": {
   "display_name": "R",
   "language": "R",
   "name": "ir"
  },
  "language_info": {
   "codemirror_mode": "r",
   "file_extension": ".r",
   "mimetype": "text/x-r-source",
   "name": "R",
   "pygments_lexer": "r",
   "version": "3.4.0"
  }
 },
 "nbformat": 4,
 "nbformat_minor": 2
}
