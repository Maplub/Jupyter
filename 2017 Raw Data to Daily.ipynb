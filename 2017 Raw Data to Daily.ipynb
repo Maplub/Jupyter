{
 "cells": [
  {
   "cell_type": "markdown",
   "metadata": {},
   "source": [
    "## Download data and create POSIXct datetime"
   ]
  },
  {
   "cell_type": "code",
   "execution_count": 2,
   "metadata": {},
   "outputs": [
    {
     "name": "stderr",
     "output_type": "stream",
     "text": [
      "Loading required package: gsubfn\n",
      "Loading required package: proto\n",
      "Loading required package: RSQLite\n",
      "── Attaching packages ─────────────────────────────────────── tidyverse 1.2.1 ──\n",
      "✔ ggplot2 3.0.0     ✔ purrr   0.2.5\n",
      "✔ tibble  1.4.2     ✔ dplyr   0.7.6\n",
      "✔ tidyr   0.8.1     ✔ stringr 1.3.1\n",
      "✔ readr   1.1.1     ✔ forcats 0.3.0\n",
      "── Conflicts ────────────────────────────────────────── tidyverse_conflicts() ──\n",
      "✖ dplyr::filter() masks stats::filter()\n",
      "✖ dplyr::lag()    masks stats::lag()\n"
     ]
    }
   ],
   "source": [
    "library(sqldf)\n",
    "library(tidyverse)\n",
    "library(lubridate)"
   ]
  },
  {
   "cell_type": "code",
   "execution_count": 15,
   "metadata": {},
   "outputs": [],
   "source": [
    "airq<-read.csv(\"https://raw.githubusercontent.com/Maplub/MonthlyAirQuality/master/dataMar2017.csv\",stringsAsFactors = FALSE)"
   ]
  },
  {
   "cell_type": "code",
   "execution_count": 16,
   "metadata": {},
   "outputs": [
    {
     "data": {
      "text/html": [
       "<table>\n",
       "<thead><tr><th scope=col>payload.id</th><th scope=col>payload.time</th><th scope=col>payload.temp</th><th scope=col>payload.humid</th><th scope=col>payload.pm1</th><th scope=col>payload.pm25</th><th scope=col>payload.pm10</th></tr></thead>\n",
       "<tbody>\n",
       "\t<tr><td>CU-S0099                </td><td>2017-03-01T00:00:00.720Z</td><td>29.42                   </td><td>45.93                   </td><td>26.5                    </td><td>36.0                    </td><td>43.2                    </td></tr>\n",
       "\t<tr><td>CU-S0025                </td><td>2017-03-01T00:00:02.384Z</td><td>24.87                   </td><td>58.04                   </td><td>25.7                    </td><td>34.4                    </td><td>40.4                    </td></tr>\n",
       "\t<tr><td>CU-S0016                </td><td>2017-03-01T00:00:03.886Z</td><td>23.11                   </td><td>61.51                   </td><td>24.2                    </td><td>32.3                    </td><td>36.6                    </td></tr>\n",
       "\t<tr><td>CU-S0024                </td><td>2017-03-01T00:00:03.939Z</td><td>26.53                   </td><td>55.10                   </td><td>10.6                    </td><td>13.3                    </td><td>14.5                    </td></tr>\n",
       "\t<tr><td>CU-S0006                </td><td>2017-03-01T00:00:05.158Z</td><td>26.42                   </td><td>57.83                   </td><td>26.5                    </td><td>35.0                    </td><td>41.9                    </td></tr>\n",
       "\t<tr><td>CU-S0003                </td><td>2017-03-01T00:00:05.360Z</td><td>28.04                   </td><td>59.62                   </td><td>33.7                    </td><td>46.5                    </td><td>57.4                    </td></tr>\n",
       "</tbody>\n",
       "</table>\n"
      ],
      "text/latex": [
       "\\begin{tabular}{r|lllllll}\n",
       " payload.id & payload.time & payload.temp & payload.humid & payload.pm1 & payload.pm25 & payload.pm10\\\\\n",
       "\\hline\n",
       "\t CU-S0099                 & 2017-03-01T00:00:00.720Z & 29.42                    & 45.93                    & 26.5                     & 36.0                     & 43.2                    \\\\\n",
       "\t CU-S0025                 & 2017-03-01T00:00:02.384Z & 24.87                    & 58.04                    & 25.7                     & 34.4                     & 40.4                    \\\\\n",
       "\t CU-S0016                 & 2017-03-01T00:00:03.886Z & 23.11                    & 61.51                    & 24.2                     & 32.3                     & 36.6                    \\\\\n",
       "\t CU-S0024                 & 2017-03-01T00:00:03.939Z & 26.53                    & 55.10                    & 10.6                     & 13.3                     & 14.5                    \\\\\n",
       "\t CU-S0006                 & 2017-03-01T00:00:05.158Z & 26.42                    & 57.83                    & 26.5                     & 35.0                     & 41.9                    \\\\\n",
       "\t CU-S0003                 & 2017-03-01T00:00:05.360Z & 28.04                    & 59.62                    & 33.7                     & 46.5                     & 57.4                    \\\\\n",
       "\\end{tabular}\n"
      ],
      "text/markdown": [
       "\n",
       "payload.id | payload.time | payload.temp | payload.humid | payload.pm1 | payload.pm25 | payload.pm10 | \n",
       "|---|---|---|---|---|---|\n",
       "| CU-S0099                 | 2017-03-01T00:00:00.720Z | 29.42                    | 45.93                    | 26.5                     | 36.0                     | 43.2                     | \n",
       "| CU-S0025                 | 2017-03-01T00:00:02.384Z | 24.87                    | 58.04                    | 25.7                     | 34.4                     | 40.4                     | \n",
       "| CU-S0016                 | 2017-03-01T00:00:03.886Z | 23.11                    | 61.51                    | 24.2                     | 32.3                     | 36.6                     | \n",
       "| CU-S0024                 | 2017-03-01T00:00:03.939Z | 26.53                    | 55.10                    | 10.6                     | 13.3                     | 14.5                     | \n",
       "| CU-S0006                 | 2017-03-01T00:00:05.158Z | 26.42                    | 57.83                    | 26.5                     | 35.0                     | 41.9                     | \n",
       "| CU-S0003                 | 2017-03-01T00:00:05.360Z | 28.04                    | 59.62                    | 33.7                     | 46.5                     | 57.4                     | \n",
       "\n",
       "\n"
      ],
      "text/plain": [
       "  payload.id payload.time             payload.temp payload.humid payload.pm1\n",
       "1 CU-S0099   2017-03-01T00:00:00.720Z 29.42        45.93         26.5       \n",
       "2 CU-S0025   2017-03-01T00:00:02.384Z 24.87        58.04         25.7       \n",
       "3 CU-S0016   2017-03-01T00:00:03.886Z 23.11        61.51         24.2       \n",
       "4 CU-S0024   2017-03-01T00:00:03.939Z 26.53        55.10         10.6       \n",
       "5 CU-S0006   2017-03-01T00:00:05.158Z 26.42        57.83         26.5       \n",
       "6 CU-S0003   2017-03-01T00:00:05.360Z 28.04        59.62         33.7       \n",
       "  payload.pm25 payload.pm10\n",
       "1 36.0         43.2        \n",
       "2 34.4         40.4        \n",
       "3 32.3         36.6        \n",
       "4 13.3         14.5        \n",
       "5 35.0         41.9        \n",
       "6 46.5         57.4        "
      ]
     },
     "metadata": {},
     "output_type": "display_data"
    }
   ],
   "source": [
    "head(airq)"
   ]
  },
  {
   "cell_type": "code",
   "execution_count": 17,
   "metadata": {},
   "outputs": [],
   "source": [
    "colnames(airq)<-gsub(\"payload.\", \"\", colnames(airq))"
   ]
  },
  {
   "cell_type": "code",
   "execution_count": 33,
   "metadata": {},
   "outputs": [],
   "source": [
    "airq$datetime<-as.POSIXct(airq$time,format=\"%Y-%m-%dT%H:%M:%S\")"
   ]
  },
  {
   "cell_type": "code",
   "execution_count": 31,
   "metadata": {},
   "outputs": [],
   "source": [
    "airq$date<-as.Date(airq$time,format=\"%Y-%m-%d\")"
   ]
  },
  {
   "cell_type": "code",
   "execution_count": 37,
   "metadata": {},
   "outputs": [],
   "source": [
    "airq$hour<-hour(airq$datetime)"
   ]
  },
  {
   "cell_type": "markdown",
   "metadata": {},
   "source": [
    "## Get daily average and hourly average"
   ]
  },
  {
   "cell_type": "code",
   "execution_count": 44,
   "metadata": {},
   "outputs": [],
   "source": [
    "dailyairq<-aggregate(airq[\"pm25\"], by=airq[c(\"id\",\"date\")], FUN=mean,na.rm=TRUE)"
   ]
  },
  {
   "cell_type": "code",
   "execution_count": 50,
   "metadata": {},
   "outputs": [],
   "source": [
    "hourlyairq<-aggregate(airq[\"pm25\"], by=airq[c(\"id\",\"date\",\"hour\")], FUN=mean,na.rm=TRUE)"
   ]
  }
 ],
 "metadata": {
  "kernelspec": {
   "display_name": "R",
   "language": "R",
   "name": "ir"
  },
  "language_info": {
   "codemirror_mode": "r",
   "file_extension": ".r",
   "mimetype": "text/x-r-source",
   "name": "R",
   "pygments_lexer": "r",
   "version": "3.5.1"
  }
 },
 "nbformat": 4,
 "nbformat_minor": 2
}
