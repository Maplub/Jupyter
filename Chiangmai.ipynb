{
 "cells": [
  {
   "cell_type": "markdown",
   "metadata": {},
   "source": [
    "read file from a folder named in Thai. Failed!"
   ]
  },
  {
   "cell_type": "code",
   "execution_count": 1,
   "metadata": {
    "collapsed": false,
    "scrolled": true
   },
   "outputs": [
    {
     "name": "stderr",
     "output_type": "stream",
     "text": [
      "Warning message in file(file, \"rt\"):\n",
      "\"cannot open file 'C:\\Users\\garavig\\OneDrive\\<U+0E40><U+0E2D><U+0E01><U+0E2A><U+0E32><U+0E23>\\Haze\\chiangmai.csv': Invalid argument\""
     ]
    },
    {
     "ename": "ERROR",
     "evalue": "Error in file(file, \"rt\"): cannot open the connection\n",
     "output_type": "error",
     "traceback": [
      "Error in file(file, \"rt\"): cannot open the connection\nTraceback:\n",
      "1. read.csv(\"C:\\\\Users\\\\garavig\\\\OneDrive\\\\<U+0E40><U+0E2D><U+0E01><U+0E2A><U+0E32><U+0E23>\\\\Haze\\\\chiangmai.csv\")",
      "2. read.table(file = file, header = header, sep = sep, quote = quote, \n .     dec = dec, fill = fill, comment.char = comment.char, ...)",
      "3. file(file, \"rt\")"
     ]
    }
   ],
   "source": [
    "read.csv('C:\\\\Users\\\\garavig\\\\OneDrive\\\\เอกสาร\\\\Haze\\\\chiangmai.csv')"
   ]
  },
  {
   "cell_type": "markdown",
   "metadata": {},
   "source": [
    "Move the file to the current folder. OK!"
   ]
  },
  {
   "cell_type": "code",
   "execution_count": 3,
   "metadata": {
    "collapsed": false,
    "scrolled": false
   },
   "outputs": [],
   "source": [
    "data<-read.csv('chiangmai.csv')"
   ]
  },
  {
   "cell_type": "code",
   "execution_count": 4,
   "metadata": {
    "collapsed": false
   },
   "outputs": [
    {
     "data": {
      "text/html": [
       "<table>\n",
       "<thead><tr><th scope=col>Date</th><th scope=col>Time</th><th scope=col>PM2.5</th><th scope=col>PM10</th><th scope=col>Temp</th><th scope=col>Humid</th></tr></thead>\n",
       "<tbody>\n",
       "\t<tr><td>23-Mar-16</td><td>23:15    </td><td> 89      </td><td> 98      </td><td>27       </td><td>44       </td></tr>\n",
       "\t<tr><td>23-Mar-16</td><td>23:48    </td><td> 90      </td><td> 98      </td><td>27       </td><td>44       </td></tr>\n",
       "\t<tr><td>24-Mar-16</td><td>0:38     </td><td>104      </td><td>114      </td><td>26       </td><td>44       </td></tr>\n",
       "\t<tr><td>24-Mar-16</td><td>6:04     </td><td>152      </td><td>169      </td><td>24       </td><td>44       </td></tr>\n",
       "\t<tr><td>24-Mar-16</td><td>6:18     </td><td>155      </td><td>173      </td><td>24       </td><td>44       </td></tr>\n",
       "\t<tr><td>24-Mar-16</td><td>6:29     </td><td>159      </td><td>178      </td><td>24       </td><td>44       </td></tr>\n",
       "</tbody>\n",
       "</table>\n"
      ],
      "text/latex": [
       "\\begin{tabular}{r|llllll}\n",
       " Date & Time & PM2.5 & PM10 & Temp & Humid\\\\\n",
       "\\hline\n",
       "\t 23-Mar-16 & 23:15     &  89       &  98       & 27        & 44       \\\\\n",
       "\t 23-Mar-16 & 23:48     &  90       &  98       & 27        & 44       \\\\\n",
       "\t 24-Mar-16 & 0:38      & 104       & 114       & 26        & 44       \\\\\n",
       "\t 24-Mar-16 & 6:04      & 152       & 169       & 24        & 44       \\\\\n",
       "\t 24-Mar-16 & 6:18      & 155       & 173       & 24        & 44       \\\\\n",
       "\t 24-Mar-16 & 6:29      & 159       & 178       & 24        & 44       \\\\\n",
       "\\end{tabular}\n"
      ],
      "text/markdown": [
       "\n",
       "Date | Time | PM2.5 | PM10 | Temp | Humid | \n",
       "|---|---|---|---|---|---|\n",
       "| 23-Mar-16 | 23:15     |  89       |  98       | 27        | 44        | \n",
       "| 23-Mar-16 | 23:48     |  90       |  98       | 27        | 44        | \n",
       "| 24-Mar-16 | 0:38      | 104       | 114       | 26        | 44        | \n",
       "| 24-Mar-16 | 6:04      | 152       | 169       | 24        | 44        | \n",
       "| 24-Mar-16 | 6:18      | 155       | 173       | 24        | 44        | \n",
       "| 24-Mar-16 | 6:29      | 159       | 178       | 24        | 44        | \n",
       "\n",
       "\n"
      ],
      "text/plain": [
       "  Date      Time  PM2.5 PM10 Temp Humid\n",
       "1 23-Mar-16 23:15  89    98  27   44   \n",
       "2 23-Mar-16 23:48  90    98  27   44   \n",
       "3 24-Mar-16 0:38  104   114  26   44   \n",
       "4 24-Mar-16 6:04  152   169  24   44   \n",
       "5 24-Mar-16 6:18  155   173  24   44   \n",
       "6 24-Mar-16 6:29  159   178  24   44   "
      ]
     },
     "metadata": {},
     "output_type": "display_data"
    }
   ],
   "source": [
    "head(data)"
   ]
  },
  {
   "cell_type": "code",
   "execution_count": 8,
   "metadata": {
    "collapsed": false
   },
   "outputs": [],
   "source": [
    "data<-read.csv('chiangmai.csv')"
   ]
  },
  {
   "cell_type": "code",
   "execution_count": 9,
   "metadata": {
    "collapsed": false
   },
   "outputs": [
    {
     "data": {
      "text/html": [
       "<table>\n",
       "<thead><tr><th scope=col>Date</th><th scope=col>Time</th><th scope=col>PM2.5</th><th scope=col>PM10</th><th scope=col>Temp</th><th scope=col>Humid</th></tr></thead>\n",
       "<tbody>\n",
       "\t<tr><td>23-Mar-2016</td><td>23:15      </td><td> 89        </td><td> 98        </td><td>27         </td><td>44         </td></tr>\n",
       "\t<tr><td>23-Mar-2016</td><td>23:48      </td><td> 90        </td><td> 98        </td><td>27         </td><td>44         </td></tr>\n",
       "\t<tr><td>24-Mar-2016</td><td>0:38       </td><td>104        </td><td>114        </td><td>26         </td><td>44         </td></tr>\n",
       "\t<tr><td>24-Mar-2016</td><td>6:04       </td><td>152        </td><td>169        </td><td>24         </td><td>44         </td></tr>\n",
       "\t<tr><td>24-Mar-2016</td><td>6:18       </td><td>155        </td><td>173        </td><td>24         </td><td>44         </td></tr>\n",
       "\t<tr><td>24-Mar-2016</td><td>6:29       </td><td>159        </td><td>178        </td><td>24         </td><td>44         </td></tr>\n",
       "</tbody>\n",
       "</table>\n"
      ],
      "text/latex": [
       "\\begin{tabular}{r|llllll}\n",
       " Date & Time & PM2.5 & PM10 & Temp & Humid\\\\\n",
       "\\hline\n",
       "\t 23-Mar-2016 & 23:15       &  89         &  98         & 27          & 44         \\\\\n",
       "\t 23-Mar-2016 & 23:48       &  90         &  98         & 27          & 44         \\\\\n",
       "\t 24-Mar-2016 & 0:38        & 104         & 114         & 26          & 44         \\\\\n",
       "\t 24-Mar-2016 & 6:04        & 152         & 169         & 24          & 44         \\\\\n",
       "\t 24-Mar-2016 & 6:18        & 155         & 173         & 24          & 44         \\\\\n",
       "\t 24-Mar-2016 & 6:29        & 159         & 178         & 24          & 44         \\\\\n",
       "\\end{tabular}\n"
      ],
      "text/markdown": [
       "\n",
       "Date | Time | PM2.5 | PM10 | Temp | Humid | \n",
       "|---|---|---|---|---|---|\n",
       "| 23-Mar-2016 | 23:15       |  89         |  98         | 27          | 44          | \n",
       "| 23-Mar-2016 | 23:48       |  90         |  98         | 27          | 44          | \n",
       "| 24-Mar-2016 | 0:38        | 104         | 114         | 26          | 44          | \n",
       "| 24-Mar-2016 | 6:04        | 152         | 169         | 24          | 44          | \n",
       "| 24-Mar-2016 | 6:18        | 155         | 173         | 24          | 44          | \n",
       "| 24-Mar-2016 | 6:29        | 159         | 178         | 24          | 44          | \n",
       "\n",
       "\n"
      ],
      "text/plain": [
       "  Date        Time  PM2.5 PM10 Temp Humid\n",
       "1 23-Mar-2016 23:15  89    98  27   44   \n",
       "2 23-Mar-2016 23:48  90    98  27   44   \n",
       "3 24-Mar-2016 0:38  104   114  26   44   \n",
       "4 24-Mar-2016 6:04  152   169  24   44   \n",
       "5 24-Mar-2016 6:18  155   173  24   44   \n",
       "6 24-Mar-2016 6:29  159   178  24   44   "
      ]
     },
     "metadata": {},
     "output_type": "display_data"
    }
   ],
   "source": [
    "head(data)"
   ]
  },
  {
   "cell_type": "code",
   "execution_count": 14,
   "metadata": {
    "collapsed": false
   },
   "outputs": [
    {
     "ename": "ERROR",
     "evalue": "Error in parse(text = x, srcfile = src): <text>:2:0: unexpected end of input\n1: data$dt <- chron(dates=data[,1],times=data[,2]+':00',format=c('d-m-y','h:m:ss')\n   ^\n",
     "output_type": "error",
     "traceback": [
      "Error in parse(text = x, srcfile = src): <text>:2:0: unexpected end of input\n1: data$dt <- chron(dates=data[,1],times=data[,2]+':00',format=c('d-m-y','h:m:ss')\n   ^\nTraceback:\n"
     ]
    }
   ],
   "source": [
    "data$dt <- chron(dates=data[,1],times=data[,2]+':00',format=c('d-m-y','h:m:ss')"
   ]
  },
  {
   "cell_type": "code",
   "execution_count": 19,
   "metadata": {
    "collapsed": false
   },
   "outputs": [],
   "source": [
    "data$date2<-as.Date(data[,1],format='%d-%b-%Y')"
   ]
  },
  {
   "cell_type": "code",
   "execution_count": 24,
   "metadata": {
    "collapsed": false
   },
   "outputs": [],
   "source": [
    "data$dt<-as.POSIXct(paste(data$date2, data$Time), format=\"%Y-%m-%d %H:%M\")"
   ]
  },
  {
   "cell_type": "code",
   "execution_count": 20,
   "metadata": {
    "collapsed": false,
    "scrolled": true
   },
   "outputs": [
    {
     "data": {
      "text/html": [
       "<table>\n",
       "<thead><tr><th scope=col>Date</th><th scope=col>Time</th><th scope=col>PM2.5</th><th scope=col>PM10</th><th scope=col>Temp</th><th scope=col>Humid</th><th scope=col>date2</th></tr></thead>\n",
       "<tbody>\n",
       "\t<tr><td>23-Mar-2016</td><td>23:15      </td><td> 89        </td><td> 98        </td><td>27         </td><td>44         </td><td>2016-03-23 </td></tr>\n",
       "\t<tr><td>23-Mar-2016</td><td>23:48      </td><td> 90        </td><td> 98        </td><td>27         </td><td>44         </td><td>2016-03-23 </td></tr>\n",
       "\t<tr><td>24-Mar-2016</td><td>0:38       </td><td>104        </td><td>114        </td><td>26         </td><td>44         </td><td>2016-03-24 </td></tr>\n",
       "\t<tr><td>24-Mar-2016</td><td>6:04       </td><td>152        </td><td>169        </td><td>24         </td><td>44         </td><td>2016-03-24 </td></tr>\n",
       "\t<tr><td>24-Mar-2016</td><td>6:18       </td><td>155        </td><td>173        </td><td>24         </td><td>44         </td><td>2016-03-24 </td></tr>\n",
       "\t<tr><td>24-Mar-2016</td><td>6:29       </td><td>159        </td><td>178        </td><td>24         </td><td>44         </td><td>2016-03-24 </td></tr>\n",
       "</tbody>\n",
       "</table>\n"
      ],
      "text/latex": [
       "\\begin{tabular}{r|lllllll}\n",
       " Date & Time & PM2.5 & PM10 & Temp & Humid & date2\\\\\n",
       "\\hline\n",
       "\t 23-Mar-2016 & 23:15       &  89         &  98         & 27          & 44          & 2016-03-23 \\\\\n",
       "\t 23-Mar-2016 & 23:48       &  90         &  98         & 27          & 44          & 2016-03-23 \\\\\n",
       "\t 24-Mar-2016 & 0:38        & 104         & 114         & 26          & 44          & 2016-03-24 \\\\\n",
       "\t 24-Mar-2016 & 6:04        & 152         & 169         & 24          & 44          & 2016-03-24 \\\\\n",
       "\t 24-Mar-2016 & 6:18        & 155         & 173         & 24          & 44          & 2016-03-24 \\\\\n",
       "\t 24-Mar-2016 & 6:29        & 159         & 178         & 24          & 44          & 2016-03-24 \\\\\n",
       "\\end{tabular}\n"
      ],
      "text/markdown": [
       "\n",
       "Date | Time | PM2.5 | PM10 | Temp | Humid | date2 | \n",
       "|---|---|---|---|---|---|\n",
       "| 23-Mar-2016 | 23:15       |  89         |  98         | 27          | 44          | 2016-03-23  | \n",
       "| 23-Mar-2016 | 23:48       |  90         |  98         | 27          | 44          | 2016-03-23  | \n",
       "| 24-Mar-2016 | 0:38        | 104         | 114         | 26          | 44          | 2016-03-24  | \n",
       "| 24-Mar-2016 | 6:04        | 152         | 169         | 24          | 44          | 2016-03-24  | \n",
       "| 24-Mar-2016 | 6:18        | 155         | 173         | 24          | 44          | 2016-03-24  | \n",
       "| 24-Mar-2016 | 6:29        | 159         | 178         | 24          | 44          | 2016-03-24  | \n",
       "\n",
       "\n"
      ],
      "text/plain": [
       "  Date        Time  PM2.5 PM10 Temp Humid date2     \n",
       "1 23-Mar-2016 23:15  89    98  27   44    2016-03-23\n",
       "2 23-Mar-2016 23:48  90    98  27   44    2016-03-23\n",
       "3 24-Mar-2016 0:38  104   114  26   44    2016-03-24\n",
       "4 24-Mar-2016 6:04  152   169  24   44    2016-03-24\n",
       "5 24-Mar-2016 6:18  155   173  24   44    2016-03-24\n",
       "6 24-Mar-2016 6:29  159   178  24   44    2016-03-24"
      ]
     },
     "metadata": {},
     "output_type": "display_data"
    }
   ],
   "source": [
    "head(data)"
   ]
  },
  {
   "cell_type": "code",
   "execution_count": 29,
   "metadata": {
    "collapsed": false
   },
   "outputs": [],
   "source": [
    "data$hour<-as.numeric(format(data$dt, \"%H\")) "
   ]
  },
  {
   "cell_type": "code",
   "execution_count": 30,
   "metadata": {
    "collapsed": false,
    "scrolled": true
   },
   "outputs": [
    {
     "data": {
      "text/html": [
       "<table>\n",
       "<thead><tr><th scope=col>Date</th><th scope=col>Time</th><th scope=col>PM2.5</th><th scope=col>PM10</th><th scope=col>Temp</th><th scope=col>Humid</th><th scope=col>date2</th><th scope=col>dt</th><th scope=col>hour</th></tr></thead>\n",
       "<tbody>\n",
       "\t<tr><td>23-Mar-2016        </td><td>23:15              </td><td> 89                </td><td> 98                </td><td>27                 </td><td>44                 </td><td>2016-03-23         </td><td>2016-03-23 23:15:00</td><td>23                 </td></tr>\n",
       "\t<tr><td>23-Mar-2016        </td><td>23:48              </td><td> 90                </td><td> 98                </td><td>27                 </td><td>44                 </td><td>2016-03-23         </td><td>2016-03-23 23:48:00</td><td>23                 </td></tr>\n",
       "\t<tr><td>24-Mar-2016        </td><td>0:38               </td><td>104                </td><td>114                </td><td>26                 </td><td>44                 </td><td>2016-03-24         </td><td>2016-03-24 00:38:00</td><td> 0                 </td></tr>\n",
       "\t<tr><td>24-Mar-2016        </td><td>6:04               </td><td>152                </td><td>169                </td><td>24                 </td><td>44                 </td><td>2016-03-24         </td><td>2016-03-24 06:04:00</td><td> 6                 </td></tr>\n",
       "\t<tr><td>24-Mar-2016        </td><td>6:18               </td><td>155                </td><td>173                </td><td>24                 </td><td>44                 </td><td>2016-03-24         </td><td>2016-03-24 06:18:00</td><td> 6                 </td></tr>\n",
       "\t<tr><td>24-Mar-2016        </td><td>6:29               </td><td>159                </td><td>178                </td><td>24                 </td><td>44                 </td><td>2016-03-24         </td><td>2016-03-24 06:29:00</td><td> 6                 </td></tr>\n",
       "</tbody>\n",
       "</table>\n"
      ],
      "text/latex": [
       "\\begin{tabular}{r|lllllllll}\n",
       " Date & Time & PM2.5 & PM10 & Temp & Humid & date2 & dt & hour\\\\\n",
       "\\hline\n",
       "\t 23-Mar-2016         & 23:15               &  89                 &  98                 & 27                  & 44                  & 2016-03-23          & 2016-03-23 23:15:00 & 23                 \\\\\n",
       "\t 23-Mar-2016         & 23:48               &  90                 &  98                 & 27                  & 44                  & 2016-03-23          & 2016-03-23 23:48:00 & 23                 \\\\\n",
       "\t 24-Mar-2016         & 0:38                & 104                 & 114                 & 26                  & 44                  & 2016-03-24          & 2016-03-24 00:38:00 &  0                 \\\\\n",
       "\t 24-Mar-2016         & 6:04                & 152                 & 169                 & 24                  & 44                  & 2016-03-24          & 2016-03-24 06:04:00 &  6                 \\\\\n",
       "\t 24-Mar-2016         & 6:18                & 155                 & 173                 & 24                  & 44                  & 2016-03-24          & 2016-03-24 06:18:00 &  6                 \\\\\n",
       "\t 24-Mar-2016         & 6:29                & 159                 & 178                 & 24                  & 44                  & 2016-03-24          & 2016-03-24 06:29:00 &  6                 \\\\\n",
       "\\end{tabular}\n"
      ],
      "text/markdown": [
       "\n",
       "Date | Time | PM2.5 | PM10 | Temp | Humid | date2 | dt | hour | \n",
       "|---|---|---|---|---|---|\n",
       "| 23-Mar-2016         | 23:15               |  89                 |  98                 | 27                  | 44                  | 2016-03-23          | 2016-03-23 23:15:00 | 23                  | \n",
       "| 23-Mar-2016         | 23:48               |  90                 |  98                 | 27                  | 44                  | 2016-03-23          | 2016-03-23 23:48:00 | 23                  | \n",
       "| 24-Mar-2016         | 0:38                | 104                 | 114                 | 26                  | 44                  | 2016-03-24          | 2016-03-24 00:38:00 |  0                  | \n",
       "| 24-Mar-2016         | 6:04                | 152                 | 169                 | 24                  | 44                  | 2016-03-24          | 2016-03-24 06:04:00 |  6                  | \n",
       "| 24-Mar-2016         | 6:18                | 155                 | 173                 | 24                  | 44                  | 2016-03-24          | 2016-03-24 06:18:00 |  6                  | \n",
       "| 24-Mar-2016         | 6:29                | 159                 | 178                 | 24                  | 44                  | 2016-03-24          | 2016-03-24 06:29:00 |  6                  | \n",
       "\n",
       "\n"
      ],
      "text/plain": [
       "  Date        Time  PM2.5 PM10 Temp Humid date2      dt                  hour\n",
       "1 23-Mar-2016 23:15  89    98  27   44    2016-03-23 2016-03-23 23:15:00 23  \n",
       "2 23-Mar-2016 23:48  90    98  27   44    2016-03-23 2016-03-23 23:48:00 23  \n",
       "3 24-Mar-2016 0:38  104   114  26   44    2016-03-24 2016-03-24 00:38:00  0  \n",
       "4 24-Mar-2016 6:04  152   169  24   44    2016-03-24 2016-03-24 06:04:00  6  \n",
       "5 24-Mar-2016 6:18  155   173  24   44    2016-03-24 2016-03-24 06:18:00  6  \n",
       "6 24-Mar-2016 6:29  159   178  24   44    2016-03-24 2016-03-24 06:29:00  6  "
      ]
     },
     "metadata": {},
     "output_type": "display_data"
    }
   ],
   "source": [
    "head(data)"
   ]
  },
  {
   "cell_type": "code",
   "execution_count": 31,
   "metadata": {
    "collapsed": false
   },
   "outputs": [
    {
     "name": "stderr",
     "output_type": "stream",
     "text": [
      "Loading required package: gsubfn\n",
      "Loading required package: proto\n",
      "Loading required package: RSQLite\n"
     ]
    }
   ],
   "source": [
    "library(sqldf)"
   ]
  },
  {
   "cell_type": "code",
   "execution_count": 47,
   "metadata": {
    "collapsed": false
   },
   "outputs": [],
   "source": [
    "colnames(data)[3]<-'PM25'\n",
    "hourlydata<-sqldf(\"select Date,hour,PM25,PM10,Temp,Humid from data group by Date,hour order by dt\")"
   ]
  },
  {
   "cell_type": "code",
   "execution_count": 48,
   "metadata": {
    "collapsed": false
   },
   "outputs": [
    {
     "data": {
      "text/html": [
       "<table>\n",
       "<thead><tr><th scope=col>Date</th><th scope=col>hour</th><th scope=col>PM25</th><th scope=col>PM10</th><th scope=col>Temp</th><th scope=col>Humid</th></tr></thead>\n",
       "<tbody>\n",
       "\t<tr><td>23-Mar-2016</td><td>23         </td><td> 90        </td><td> 98        </td><td>27         </td><td>44         </td></tr>\n",
       "\t<tr><td>24-Mar-2016</td><td> 0         </td><td>104        </td><td>114        </td><td>26         </td><td>44         </td></tr>\n",
       "\t<tr><td>24-Mar-2016</td><td> 6         </td><td>159        </td><td>178        </td><td>24         </td><td>50         </td></tr>\n",
       "\t<tr><td>24-Mar-2016</td><td> 7         </td><td>152        </td><td>170        </td><td>24         </td><td>51         </td></tr>\n",
       "\t<tr><td>24-Mar-2016</td><td> 8         </td><td>166        </td><td>189        </td><td>26         </td><td>44         </td></tr>\n",
       "\t<tr><td>24-Mar-2016</td><td> 9         </td><td>220        </td><td>250        </td><td>28         </td><td>44         </td></tr>\n",
       "\t<tr><td>24-Mar-2016</td><td>10         </td><td>197        </td><td>222        </td><td>29         </td><td>45         </td></tr>\n",
       "\t<tr><td>24-Mar-2016</td><td>12         </td><td> 92        </td><td>100        </td><td>34         </td><td>33         </td></tr>\n",
       "\t<tr><td>24-Mar-2016</td><td>14         </td><td> 60        </td><td> 67        </td><td>36         </td><td>33         </td></tr>\n",
       "\t<tr><td>24-Mar-2016</td><td>15         </td><td> 57        </td><td> 66        </td><td>36         </td><td>30         </td></tr>\n",
       "\t<tr><td>24-Mar-2016</td><td>17         </td><td> 53        </td><td> 65        </td><td>34         </td><td>34         </td></tr>\n",
       "\t<tr><td>24-Mar-2016</td><td>18         </td><td> 58        </td><td> 69        </td><td>32         </td><td>45         </td></tr>\n",
       "\t<tr><td>24-Mar-2016</td><td>19         </td><td> 59        </td><td> 70        </td><td>32         </td><td>45         </td></tr>\n",
       "\t<tr><td>24-Mar-2016</td><td>21         </td><td> 65        </td><td> 75        </td><td>30         </td><td>45         </td></tr>\n",
       "\t<tr><td>25-Mar-2016</td><td> 6         </td><td> 76        </td><td> 83        </td><td>24         </td><td>56         </td></tr>\n",
       "\t<tr><td>25-Mar-2016</td><td> 7         </td><td> 91        </td><td>100        </td><td>24         </td><td>53         </td></tr>\n",
       "\t<tr><td>25-Mar-2016</td><td> 8         </td><td> 89        </td><td> 99        </td><td>25         </td><td>44         </td></tr>\n",
       "\t<tr><td>25-Mar-2016</td><td> 9         </td><td> 98        </td><td>108        </td><td>28         </td><td>44         </td></tr>\n",
       "\t<tr><td>25-Mar-2016</td><td>10         </td><td> 77        </td><td> 83        </td><td>30         </td><td>45         </td></tr>\n",
       "\t<tr><td>25-Mar-2016</td><td>11         </td><td> 60        </td><td> 70        </td><td>32         </td><td>45         </td></tr>\n",
       "\t<tr><td>25-Mar-2016</td><td>12         </td><td> 53        </td><td> 66        </td><td>33         </td><td>41         </td></tr>\n",
       "\t<tr><td>25-Mar-2016</td><td>13         </td><td> 35        </td><td> 42        </td><td>35         </td><td>29         </td></tr>\n",
       "\t<tr><td>25-Mar-2016</td><td>17         </td><td> 31        </td><td> 36        </td><td>35         </td><td>25         </td></tr>\n",
       "\t<tr><td>25-Mar-2016</td><td>18         </td><td> 40        </td><td> 49        </td><td>34         </td><td>26         </td></tr>\n",
       "\t<tr><td>25-Mar-2016</td><td>19         </td><td> 41        </td><td> 50        </td><td>34         </td><td>28         </td></tr>\n",
       "</tbody>\n",
       "</table>\n"
      ],
      "text/latex": [
       "\\begin{tabular}{r|llllll}\n",
       " Date & hour & PM25 & PM10 & Temp & Humid\\\\\n",
       "\\hline\n",
       "\t 23-Mar-2016 & 23          &  90         &  98         & 27          & 44         \\\\\n",
       "\t 24-Mar-2016 &  0          & 104         & 114         & 26          & 44         \\\\\n",
       "\t 24-Mar-2016 &  6          & 159         & 178         & 24          & 50         \\\\\n",
       "\t 24-Mar-2016 &  7          & 152         & 170         & 24          & 51         \\\\\n",
       "\t 24-Mar-2016 &  8          & 166         & 189         & 26          & 44         \\\\\n",
       "\t 24-Mar-2016 &  9          & 220         & 250         & 28          & 44         \\\\\n",
       "\t 24-Mar-2016 & 10          & 197         & 222         & 29          & 45         \\\\\n",
       "\t 24-Mar-2016 & 12          &  92         & 100         & 34          & 33         \\\\\n",
       "\t 24-Mar-2016 & 14          &  60         &  67         & 36          & 33         \\\\\n",
       "\t 24-Mar-2016 & 15          &  57         &  66         & 36          & 30         \\\\\n",
       "\t 24-Mar-2016 & 17          &  53         &  65         & 34          & 34         \\\\\n",
       "\t 24-Mar-2016 & 18          &  58         &  69         & 32          & 45         \\\\\n",
       "\t 24-Mar-2016 & 19          &  59         &  70         & 32          & 45         \\\\\n",
       "\t 24-Mar-2016 & 21          &  65         &  75         & 30          & 45         \\\\\n",
       "\t 25-Mar-2016 &  6          &  76         &  83         & 24          & 56         \\\\\n",
       "\t 25-Mar-2016 &  7          &  91         & 100         & 24          & 53         \\\\\n",
       "\t 25-Mar-2016 &  8          &  89         &  99         & 25          & 44         \\\\\n",
       "\t 25-Mar-2016 &  9          &  98         & 108         & 28          & 44         \\\\\n",
       "\t 25-Mar-2016 & 10          &  77         &  83         & 30          & 45         \\\\\n",
       "\t 25-Mar-2016 & 11          &  60         &  70         & 32          & 45         \\\\\n",
       "\t 25-Mar-2016 & 12          &  53         &  66         & 33          & 41         \\\\\n",
       "\t 25-Mar-2016 & 13          &  35         &  42         & 35          & 29         \\\\\n",
       "\t 25-Mar-2016 & 17          &  31         &  36         & 35          & 25         \\\\\n",
       "\t 25-Mar-2016 & 18          &  40         &  49         & 34          & 26         \\\\\n",
       "\t 25-Mar-2016 & 19          &  41         &  50         & 34          & 28         \\\\\n",
       "\\end{tabular}\n"
      ],
      "text/markdown": [
       "\n",
       "Date | hour | PM25 | PM10 | Temp | Humid | \n",
       "|---|---|---|---|---|---|---|---|---|---|---|---|---|---|---|---|---|---|---|---|---|---|---|---|---|\n",
       "| 23-Mar-2016 | 23          |  90         |  98         | 27          | 44          | \n",
       "| 24-Mar-2016 |  0          | 104         | 114         | 26          | 44          | \n",
       "| 24-Mar-2016 |  6          | 159         | 178         | 24          | 50          | \n",
       "| 24-Mar-2016 |  7          | 152         | 170         | 24          | 51          | \n",
       "| 24-Mar-2016 |  8          | 166         | 189         | 26          | 44          | \n",
       "| 24-Mar-2016 |  9          | 220         | 250         | 28          | 44          | \n",
       "| 24-Mar-2016 | 10          | 197         | 222         | 29          | 45          | \n",
       "| 24-Mar-2016 | 12          |  92         | 100         | 34          | 33          | \n",
       "| 24-Mar-2016 | 14          |  60         |  67         | 36          | 33          | \n",
       "| 24-Mar-2016 | 15          |  57         |  66         | 36          | 30          | \n",
       "| 24-Mar-2016 | 17          |  53         |  65         | 34          | 34          | \n",
       "| 24-Mar-2016 | 18          |  58         |  69         | 32          | 45          | \n",
       "| 24-Mar-2016 | 19          |  59         |  70         | 32          | 45          | \n",
       "| 24-Mar-2016 | 21          |  65         |  75         | 30          | 45          | \n",
       "| 25-Mar-2016 |  6          |  76         |  83         | 24          | 56          | \n",
       "| 25-Mar-2016 |  7          |  91         | 100         | 24          | 53          | \n",
       "| 25-Mar-2016 |  8          |  89         |  99         | 25          | 44          | \n",
       "| 25-Mar-2016 |  9          |  98         | 108         | 28          | 44          | \n",
       "| 25-Mar-2016 | 10          |  77         |  83         | 30          | 45          | \n",
       "| 25-Mar-2016 | 11          |  60         |  70         | 32          | 45          | \n",
       "| 25-Mar-2016 | 12          |  53         |  66         | 33          | 41          | \n",
       "| 25-Mar-2016 | 13          |  35         |  42         | 35          | 29          | \n",
       "| 25-Mar-2016 | 17          |  31         |  36         | 35          | 25          | \n",
       "| 25-Mar-2016 | 18          |  40         |  49         | 34          | 26          | \n",
       "| 25-Mar-2016 | 19          |  41         |  50         | 34          | 28          | \n",
       "\n",
       "\n"
      ],
      "text/plain": [
       "   Date        hour PM25 PM10 Temp Humid\n",
       "1  23-Mar-2016 23    90   98  27   44   \n",
       "2  24-Mar-2016  0   104  114  26   44   \n",
       "3  24-Mar-2016  6   159  178  24   50   \n",
       "4  24-Mar-2016  7   152  170  24   51   \n",
       "5  24-Mar-2016  8   166  189  26   44   \n",
       "6  24-Mar-2016  9   220  250  28   44   \n",
       "7  24-Mar-2016 10   197  222  29   45   \n",
       "8  24-Mar-2016 12    92  100  34   33   \n",
       "9  24-Mar-2016 14    60   67  36   33   \n",
       "10 24-Mar-2016 15    57   66  36   30   \n",
       "11 24-Mar-2016 17    53   65  34   34   \n",
       "12 24-Mar-2016 18    58   69  32   45   \n",
       "13 24-Mar-2016 19    59   70  32   45   \n",
       "14 24-Mar-2016 21    65   75  30   45   \n",
       "15 25-Mar-2016  6    76   83  24   56   \n",
       "16 25-Mar-2016  7    91  100  24   53   \n",
       "17 25-Mar-2016  8    89   99  25   44   \n",
       "18 25-Mar-2016  9    98  108  28   44   \n",
       "19 25-Mar-2016 10    77   83  30   45   \n",
       "20 25-Mar-2016 11    60   70  32   45   \n",
       "21 25-Mar-2016 12    53   66  33   41   \n",
       "22 25-Mar-2016 13    35   42  35   29   \n",
       "23 25-Mar-2016 17    31   36  35   25   \n",
       "24 25-Mar-2016 18    40   49  34   26   \n",
       "25 25-Mar-2016 19    41   50  34   28   "
      ]
     },
     "metadata": {},
     "output_type": "display_data"
    }
   ],
   "source": [
    "hourlydata"
   ]
  },
  {
   "cell_type": "code",
   "execution_count": null,
   "metadata": {
    "collapsed": true
   },
   "outputs": [],
   "source": []
  }
 ],
 "metadata": {
  "kernelspec": {
   "display_name": "R",
   "language": "R",
   "name": "ir"
  },
  "language_info": {
   "codemirror_mode": "r",
   "file_extension": ".r",
   "mimetype": "text/x-r-source",
   "name": "R",
   "pygments_lexer": "r",
   "version": "3.3.3"
  }
 },
 "nbformat": 4,
 "nbformat_minor": 2
}
