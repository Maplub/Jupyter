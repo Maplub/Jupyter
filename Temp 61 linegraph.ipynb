{
 "cells": [
  {
   "cell_type": "code",
   "execution_count": 2,
   "metadata": {
    "collapsed": false
   },
   "outputs": [
    {
     "data": {
      "text/html": [
       "'Thai_Thailand.874'"
      ],
      "text/latex": [
       "'Thai\\_Thailand.874'"
      ],
      "text/markdown": [
       "'Thai_Thailand.874'"
      ],
      "text/plain": [
       "[1] \"Thai_Thailand.874\""
      ]
     },
     "metadata": {},
     "output_type": "display_data"
    }
   ],
   "source": [
    "Sys.setlocale(\"LC_CTYPE\", \"thai\")\n",
    "options(encoding=\"UTF-8\")"
   ]
  },
  {
   "cell_type": "code",
   "execution_count": 3,
   "metadata": {
    "collapsed": false
   },
   "outputs": [
    {
     "name": "stderr",
     "output_type": "stream",
     "text": [
      "Loading required package: gsubfn\n",
      "Loading required package: proto\n",
      "Loading required package: RSQLite\n"
     ]
    }
   ],
   "source": [
    "library(sqldf)\n",
    "library(ggplot2)"
   ]
  },
  {
   "cell_type": "code",
   "execution_count": 4,
   "metadata": {
    "collapsed": true
   },
   "outputs": [],
   "source": [
    "setwd(\"C:\\\\Users\\\\garavig\\\\Documents\\\\Haze\\\\HazeAnalysis\\\\Data\")"
   ]
  },
  {
   "cell_type": "code",
   "execution_count": 5,
   "metadata": {
    "collapsed": false
   },
   "outputs": [],
   "source": [
    "data<-read.csv(\"temp_2018.csv\")"
   ]
  },
  {
   "cell_type": "code",
   "execution_count": 6,
   "metadata": {
    "collapsed": false
   },
   "outputs": [
    {
     "data": {
      "text/html": [
       "<table>\n",
       "<thead><tr><th scope=col>sensorid</th><th scope=col>Time</th><th scope=col>Value</th></tr></thead>\n",
       "<tbody>\n",
       "\t<tr><td>CU-S0001  </td><td>2018-02-28</td><td>28.22000  </td></tr>\n",
       "\t<tr><td>CU-S0002  </td><td>2018-02-12</td><td>23.01076  </td></tr>\n",
       "\t<tr><td>CU-S0002  </td><td>2018-02-13</td><td>26.41272  </td></tr>\n",
       "\t<tr><td>CU-S0002  </td><td>2018-02-14</td><td>26.74646  </td></tr>\n",
       "\t<tr><td>CU-S0002  </td><td>2018-02-15</td><td>27.88713  </td></tr>\n",
       "\t<tr><td>CU-S0002  </td><td>2018-02-16</td><td>27.24380  </td></tr>\n",
       "\t<tr><td>CU-S0002  </td><td>2018-02-17</td><td>22.97767  </td></tr>\n",
       "\t<tr><td>CU-S0002  </td><td>2018-02-18</td><td>23.13985  </td></tr>\n",
       "\t<tr><td>CU-S0002  </td><td>2018-02-19</td><td>29.29380  </td></tr>\n",
       "\t<tr><td>CU-S0002  </td><td>2018-02-20</td><td>29.16325  </td></tr>\n",
       "\t<tr><td>CU-S0002  </td><td>2018-02-21</td><td>31.25373  </td></tr>\n",
       "\t<tr><td>CU-S0002  </td><td>2018-02-22</td><td>26.77814  </td></tr>\n",
       "\t<tr><td>CU-S0002  </td><td>2018-02-23</td><td>26.99251  </td></tr>\n",
       "\t<tr><td>CU-S0002  </td><td>2018-02-24</td><td>27.79580  </td></tr>\n",
       "\t<tr><td>CU-S0002  </td><td>2018-02-25</td><td>27.50000  </td></tr>\n",
       "\t<tr><td>CU-S0002  </td><td>2018-02-26</td><td>27.98060  </td></tr>\n",
       "\t<tr><td>CU-S0002  </td><td>2018-02-27</td><td>29.26032  </td></tr>\n",
       "\t<tr><td>CU-S0002  </td><td>2018-02-28</td><td>28.29115  </td></tr>\n",
       "\t<tr><td>CU-S0002  </td><td>2018-03-01</td><td>28.37205  </td></tr>\n",
       "\t<tr><td>CU-S0002  </td><td>2018-03-02</td><td>29.02365  </td></tr>\n",
       "\t<tr><td>CU-S0002  </td><td>2018-03-03</td><td>28.52723  </td></tr>\n",
       "\t<tr><td>CU-S0002  </td><td>2018-03-04</td><td>25.99358  </td></tr>\n",
       "\t<tr><td>CU-S0002  </td><td>2018-03-05</td><td>28.32010  </td></tr>\n",
       "\t<tr><td>CU-S0002  </td><td>2018-03-06</td><td>32.65880  </td></tr>\n",
       "\t<tr><td>CU-S0002  </td><td>2018-03-08</td><td>31.53160  </td></tr>\n",
       "\t<tr><td>CU-S0002  </td><td>2018-03-09</td><td>26.94486  </td></tr>\n",
       "\t<tr><td>CU-S0002  </td><td>2018-03-10</td><td>27.42691  </td></tr>\n",
       "\t<tr><td>CU-S0002  </td><td>2018-03-11</td><td>28.86392  </td></tr>\n",
       "\t<tr><td>CU-S0002  </td><td>2018-03-12</td><td>29.61463  </td></tr>\n",
       "\t<tr><td>CU-S0002  </td><td>2018-03-13</td><td>23.76689  </td></tr>\n",
       "\t<tr><td>...</td><td>...</td><td>...</td></tr>\n",
       "\t<tr><td>CU-S0103  </td><td>2018-03-24</td><td>24.76174  </td></tr>\n",
       "\t<tr><td>CU-S0103  </td><td>2018-03-25</td><td>25.73226  </td></tr>\n",
       "\t<tr><td>CU-S0103  </td><td>2018-03-26</td><td>23.08569  </td></tr>\n",
       "\t<tr><td>CU-S0104  </td><td>2018-02-23</td><td>25.56248  </td></tr>\n",
       "\t<tr><td>CU-S0104  </td><td>2018-02-24</td><td>27.92446  </td></tr>\n",
       "\t<tr><td>CU-S0104  </td><td>2018-02-25</td><td>28.64756  </td></tr>\n",
       "\t<tr><td>CU-S0104  </td><td>2018-02-26</td><td>28.91896  </td></tr>\n",
       "\t<tr><td>CU-S0104  </td><td>2018-02-27</td><td>28.43274  </td></tr>\n",
       "\t<tr><td>CU-S0104  </td><td>2018-02-28</td><td>27.64326  </td></tr>\n",
       "\t<tr><td>CU-S0104  </td><td>2018-03-01</td><td>27.58247  </td></tr>\n",
       "\t<tr><td>CU-S0104  </td><td>2018-03-02</td><td>28.04674  </td></tr>\n",
       "\t<tr><td>CU-S0104  </td><td>2018-03-06</td><td>24.72023  </td></tr>\n",
       "\t<tr><td>CU-S0104  </td><td>2018-03-07</td><td>24.43345  </td></tr>\n",
       "\t<tr><td>CU-S0104  </td><td>2018-03-11</td><td>29.53487  </td></tr>\n",
       "\t<tr><td>CU-S0104  </td><td>2018-03-14</td><td>25.49248  </td></tr>\n",
       "\t<tr><td>CU-S0104  </td><td>2018-03-15</td><td>28.05399  </td></tr>\n",
       "\t<tr><td>CU-S0104  </td><td>2018-03-16</td><td>28.55298  </td></tr>\n",
       "\t<tr><td>CU-S0104  </td><td>2018-03-17</td><td>29.44448  </td></tr>\n",
       "\t<tr><td>CU-S0104  </td><td>2018-03-18</td><td>29.64365  </td></tr>\n",
       "\t<tr><td>CU-S0104  </td><td>2018-03-19</td><td>29.57622  </td></tr>\n",
       "\t<tr><td>CU-S0104  </td><td>2018-03-20</td><td>33.12645  </td></tr>\n",
       "\t<tr><td>CU-S0104  </td><td>2018-03-21</td><td>27.20732  </td></tr>\n",
       "\t<tr><td>CU-S0104  </td><td>2018-03-22</td><td>28.55118  </td></tr>\n",
       "\t<tr><td>CU-S0104  </td><td>2018-03-23</td><td>29.48631  </td></tr>\n",
       "\t<tr><td>CU-S0104  </td><td>2018-03-24</td><td>30.36257  </td></tr>\n",
       "\t<tr><td>CU-S0104  </td><td>2018-03-25</td><td>29.75387  </td></tr>\n",
       "\t<tr><td>CU-S0104  </td><td>2018-03-26</td><td>27.88087  </td></tr>\n",
       "\t<tr><td>CU-S0104  </td><td>2018-03-27</td><td>26.23477  </td></tr>\n",
       "\t<tr><td>CU-S0104  </td><td>2018-03-28</td><td>23.20438  </td></tr>\n",
       "\t<tr><td>CU-S0094  </td><td>2018-02-28</td><td>25.91000  </td></tr>\n",
       "</tbody>\n",
       "</table>\n"
      ],
      "text/latex": [
       "\\begin{tabular}{r|lll}\n",
       " sensorid & Time & Value\\\\\n",
       "\\hline\n",
       "\t CU-S0001   & 2018-02-28 & 28.22000  \\\\\n",
       "\t CU-S0002   & 2018-02-12 & 23.01076  \\\\\n",
       "\t CU-S0002   & 2018-02-13 & 26.41272  \\\\\n",
       "\t CU-S0002   & 2018-02-14 & 26.74646  \\\\\n",
       "\t CU-S0002   & 2018-02-15 & 27.88713  \\\\\n",
       "\t CU-S0002   & 2018-02-16 & 27.24380  \\\\\n",
       "\t CU-S0002   & 2018-02-17 & 22.97767  \\\\\n",
       "\t CU-S0002   & 2018-02-18 & 23.13985  \\\\\n",
       "\t CU-S0002   & 2018-02-19 & 29.29380  \\\\\n",
       "\t CU-S0002   & 2018-02-20 & 29.16325  \\\\\n",
       "\t CU-S0002   & 2018-02-21 & 31.25373  \\\\\n",
       "\t CU-S0002   & 2018-02-22 & 26.77814  \\\\\n",
       "\t CU-S0002   & 2018-02-23 & 26.99251  \\\\\n",
       "\t CU-S0002   & 2018-02-24 & 27.79580  \\\\\n",
       "\t CU-S0002   & 2018-02-25 & 27.50000  \\\\\n",
       "\t CU-S0002   & 2018-02-26 & 27.98060  \\\\\n",
       "\t CU-S0002   & 2018-02-27 & 29.26032  \\\\\n",
       "\t CU-S0002   & 2018-02-28 & 28.29115  \\\\\n",
       "\t CU-S0002   & 2018-03-01 & 28.37205  \\\\\n",
       "\t CU-S0002   & 2018-03-02 & 29.02365  \\\\\n",
       "\t CU-S0002   & 2018-03-03 & 28.52723  \\\\\n",
       "\t CU-S0002   & 2018-03-04 & 25.99358  \\\\\n",
       "\t CU-S0002   & 2018-03-05 & 28.32010  \\\\\n",
       "\t CU-S0002   & 2018-03-06 & 32.65880  \\\\\n",
       "\t CU-S0002   & 2018-03-08 & 31.53160  \\\\\n",
       "\t CU-S0002   & 2018-03-09 & 26.94486  \\\\\n",
       "\t CU-S0002   & 2018-03-10 & 27.42691  \\\\\n",
       "\t CU-S0002   & 2018-03-11 & 28.86392  \\\\\n",
       "\t CU-S0002   & 2018-03-12 & 29.61463  \\\\\n",
       "\t CU-S0002   & 2018-03-13 & 23.76689  \\\\\n",
       "\t ... & ... & ...\\\\\n",
       "\t CU-S0103   & 2018-03-24 & 24.76174  \\\\\n",
       "\t CU-S0103   & 2018-03-25 & 25.73226  \\\\\n",
       "\t CU-S0103   & 2018-03-26 & 23.08569  \\\\\n",
       "\t CU-S0104   & 2018-02-23 & 25.56248  \\\\\n",
       "\t CU-S0104   & 2018-02-24 & 27.92446  \\\\\n",
       "\t CU-S0104   & 2018-02-25 & 28.64756  \\\\\n",
       "\t CU-S0104   & 2018-02-26 & 28.91896  \\\\\n",
       "\t CU-S0104   & 2018-02-27 & 28.43274  \\\\\n",
       "\t CU-S0104   & 2018-02-28 & 27.64326  \\\\\n",
       "\t CU-S0104   & 2018-03-01 & 27.58247  \\\\\n",
       "\t CU-S0104   & 2018-03-02 & 28.04674  \\\\\n",
       "\t CU-S0104   & 2018-03-06 & 24.72023  \\\\\n",
       "\t CU-S0104   & 2018-03-07 & 24.43345  \\\\\n",
       "\t CU-S0104   & 2018-03-11 & 29.53487  \\\\\n",
       "\t CU-S0104   & 2018-03-14 & 25.49248  \\\\\n",
       "\t CU-S0104   & 2018-03-15 & 28.05399  \\\\\n",
       "\t CU-S0104   & 2018-03-16 & 28.55298  \\\\\n",
       "\t CU-S0104   & 2018-03-17 & 29.44448  \\\\\n",
       "\t CU-S0104   & 2018-03-18 & 29.64365  \\\\\n",
       "\t CU-S0104   & 2018-03-19 & 29.57622  \\\\\n",
       "\t CU-S0104   & 2018-03-20 & 33.12645  \\\\\n",
       "\t CU-S0104   & 2018-03-21 & 27.20732  \\\\\n",
       "\t CU-S0104   & 2018-03-22 & 28.55118  \\\\\n",
       "\t CU-S0104   & 2018-03-23 & 29.48631  \\\\\n",
       "\t CU-S0104   & 2018-03-24 & 30.36257  \\\\\n",
       "\t CU-S0104   & 2018-03-25 & 29.75387  \\\\\n",
       "\t CU-S0104   & 2018-03-26 & 27.88087  \\\\\n",
       "\t CU-S0104   & 2018-03-27 & 26.23477  \\\\\n",
       "\t CU-S0104   & 2018-03-28 & 23.20438  \\\\\n",
       "\t CU-S0094   & 2018-02-28 & 25.91000  \\\\\n",
       "\\end{tabular}\n"
      ],
      "text/markdown": [
       "\n",
       "sensorid | Time | Value | \n",
       "|---|---|---|---|---|---|---|---|---|---|---|---|---|---|---|---|---|---|---|---|---|---|---|---|---|---|---|---|---|---|---|---|---|---|---|---|---|---|---|---|---|---|---|---|---|---|---|---|---|---|---|---|---|---|---|---|---|---|---|---|---|\n",
       "| CU-S0001   | 2018-02-28 | 28.22000   | \n",
       "| CU-S0002   | 2018-02-12 | 23.01076   | \n",
       "| CU-S0002   | 2018-02-13 | 26.41272   | \n",
       "| CU-S0002   | 2018-02-14 | 26.74646   | \n",
       "| CU-S0002   | 2018-02-15 | 27.88713   | \n",
       "| CU-S0002   | 2018-02-16 | 27.24380   | \n",
       "| CU-S0002   | 2018-02-17 | 22.97767   | \n",
       "| CU-S0002   | 2018-02-18 | 23.13985   | \n",
       "| CU-S0002   | 2018-02-19 | 29.29380   | \n",
       "| CU-S0002   | 2018-02-20 | 29.16325   | \n",
       "| CU-S0002   | 2018-02-21 | 31.25373   | \n",
       "| CU-S0002   | 2018-02-22 | 26.77814   | \n",
       "| CU-S0002   | 2018-02-23 | 26.99251   | \n",
       "| CU-S0002   | 2018-02-24 | 27.79580   | \n",
       "| CU-S0002   | 2018-02-25 | 27.50000   | \n",
       "| CU-S0002   | 2018-02-26 | 27.98060   | \n",
       "| CU-S0002   | 2018-02-27 | 29.26032   | \n",
       "| CU-S0002   | 2018-02-28 | 28.29115   | \n",
       "| CU-S0002   | 2018-03-01 | 28.37205   | \n",
       "| CU-S0002   | 2018-03-02 | 29.02365   | \n",
       "| CU-S0002   | 2018-03-03 | 28.52723   | \n",
       "| CU-S0002   | 2018-03-04 | 25.99358   | \n",
       "| CU-S0002   | 2018-03-05 | 28.32010   | \n",
       "| CU-S0002   | 2018-03-06 | 32.65880   | \n",
       "| CU-S0002   | 2018-03-08 | 31.53160   | \n",
       "| CU-S0002   | 2018-03-09 | 26.94486   | \n",
       "| CU-S0002   | 2018-03-10 | 27.42691   | \n",
       "| CU-S0002   | 2018-03-11 | 28.86392   | \n",
       "| CU-S0002   | 2018-03-12 | 29.61463   | \n",
       "| CU-S0002   | 2018-03-13 | 23.76689   | \n",
       "| ... | ... | ... | \n",
       "| CU-S0103   | 2018-03-24 | 24.76174   | \n",
       "| CU-S0103   | 2018-03-25 | 25.73226   | \n",
       "| CU-S0103   | 2018-03-26 | 23.08569   | \n",
       "| CU-S0104   | 2018-02-23 | 25.56248   | \n",
       "| CU-S0104   | 2018-02-24 | 27.92446   | \n",
       "| CU-S0104   | 2018-02-25 | 28.64756   | \n",
       "| CU-S0104   | 2018-02-26 | 28.91896   | \n",
       "| CU-S0104   | 2018-02-27 | 28.43274   | \n",
       "| CU-S0104   | 2018-02-28 | 27.64326   | \n",
       "| CU-S0104   | 2018-03-01 | 27.58247   | \n",
       "| CU-S0104   | 2018-03-02 | 28.04674   | \n",
       "| CU-S0104   | 2018-03-06 | 24.72023   | \n",
       "| CU-S0104   | 2018-03-07 | 24.43345   | \n",
       "| CU-S0104   | 2018-03-11 | 29.53487   | \n",
       "| CU-S0104   | 2018-03-14 | 25.49248   | \n",
       "| CU-S0104   | 2018-03-15 | 28.05399   | \n",
       "| CU-S0104   | 2018-03-16 | 28.55298   | \n",
       "| CU-S0104   | 2018-03-17 | 29.44448   | \n",
       "| CU-S0104   | 2018-03-18 | 29.64365   | \n",
       "| CU-S0104   | 2018-03-19 | 29.57622   | \n",
       "| CU-S0104   | 2018-03-20 | 33.12645   | \n",
       "| CU-S0104   | 2018-03-21 | 27.20732   | \n",
       "| CU-S0104   | 2018-03-22 | 28.55118   | \n",
       "| CU-S0104   | 2018-03-23 | 29.48631   | \n",
       "| CU-S0104   | 2018-03-24 | 30.36257   | \n",
       "| CU-S0104   | 2018-03-25 | 29.75387   | \n",
       "| CU-S0104   | 2018-03-26 | 27.88087   | \n",
       "| CU-S0104   | 2018-03-27 | 26.23477   | \n",
       "| CU-S0104   | 2018-03-28 | 23.20438   | \n",
       "| CU-S0094   | 2018-02-28 | 25.91000   | \n",
       "\n",
       "\n"
      ],
      "text/plain": [
       "     sensorid Time       Value   \n",
       "1    CU-S0001 2018-02-28 28.22000\n",
       "2    CU-S0002 2018-02-12 23.01076\n",
       "3    CU-S0002 2018-02-13 26.41272\n",
       "4    CU-S0002 2018-02-14 26.74646\n",
       "5    CU-S0002 2018-02-15 27.88713\n",
       "6    CU-S0002 2018-02-16 27.24380\n",
       "7    CU-S0002 2018-02-17 22.97767\n",
       "8    CU-S0002 2018-02-18 23.13985\n",
       "9    CU-S0002 2018-02-19 29.29380\n",
       "10   CU-S0002 2018-02-20 29.16325\n",
       "11   CU-S0002 2018-02-21 31.25373\n",
       "12   CU-S0002 2018-02-22 26.77814\n",
       "13   CU-S0002 2018-02-23 26.99251\n",
       "14   CU-S0002 2018-02-24 27.79580\n",
       "15   CU-S0002 2018-02-25 27.50000\n",
       "16   CU-S0002 2018-02-26 27.98060\n",
       "17   CU-S0002 2018-02-27 29.26032\n",
       "18   CU-S0002 2018-02-28 28.29115\n",
       "19   CU-S0002 2018-03-01 28.37205\n",
       "20   CU-S0002 2018-03-02 29.02365\n",
       "21   CU-S0002 2018-03-03 28.52723\n",
       "22   CU-S0002 2018-03-04 25.99358\n",
       "23   CU-S0002 2018-03-05 28.32010\n",
       "24   CU-S0002 2018-03-06 32.65880\n",
       "25   CU-S0002 2018-03-08 31.53160\n",
       "26   CU-S0002 2018-03-09 26.94486\n",
       "27   CU-S0002 2018-03-10 27.42691\n",
       "28   CU-S0002 2018-03-11 28.86392\n",
       "29   CU-S0002 2018-03-12 29.61463\n",
       "30   CU-S0002 2018-03-13 23.76689\n",
       "...  ...      ...        ...     \n",
       "4777 CU-S0103 2018-03-24 24.76174\n",
       "4778 CU-S0103 2018-03-25 25.73226\n",
       "4779 CU-S0103 2018-03-26 23.08569\n",
       "4780 CU-S0104 2018-02-23 25.56248\n",
       "4781 CU-S0104 2018-02-24 27.92446\n",
       "4782 CU-S0104 2018-02-25 28.64756\n",
       "4783 CU-S0104 2018-02-26 28.91896\n",
       "4784 CU-S0104 2018-02-27 28.43274\n",
       "4785 CU-S0104 2018-02-28 27.64326\n",
       "4786 CU-S0104 2018-03-01 27.58247\n",
       "4787 CU-S0104 2018-03-02 28.04674\n",
       "4788 CU-S0104 2018-03-06 24.72023\n",
       "4789 CU-S0104 2018-03-07 24.43345\n",
       "4790 CU-S0104 2018-03-11 29.53487\n",
       "4791 CU-S0104 2018-03-14 25.49248\n",
       "4792 CU-S0104 2018-03-15 28.05399\n",
       "4793 CU-S0104 2018-03-16 28.55298\n",
       "4794 CU-S0104 2018-03-17 29.44448\n",
       "4795 CU-S0104 2018-03-18 29.64365\n",
       "4796 CU-S0104 2018-03-19 29.57622\n",
       "4797 CU-S0104 2018-03-20 33.12645\n",
       "4798 CU-S0104 2018-03-21 27.20732\n",
       "4799 CU-S0104 2018-03-22 28.55118\n",
       "4800 CU-S0104 2018-03-23 29.48631\n",
       "4801 CU-S0104 2018-03-24 30.36257\n",
       "4802 CU-S0104 2018-03-25 29.75387\n",
       "4803 CU-S0104 2018-03-26 27.88087\n",
       "4804 CU-S0104 2018-03-27 26.23477\n",
       "4805 CU-S0104 2018-03-28 23.20438\n",
       "4806 CU-S0094 2018-02-28 25.91000"
      ]
     },
     "metadata": {},
     "output_type": "display_data"
    }
   ],
   "source": [
    "data"
   ]
  },
  {
   "cell_type": "code",
   "execution_count": 7,
   "metadata": {
    "collapsed": false
   },
   "outputs": [],
   "source": [
    "data$date<-as.Date(data$Time,format=\"%Y-%m-%d\")"
   ]
  },
  {
   "cell_type": "code",
   "execution_count": 8,
   "metadata": {
    "collapsed": false
   },
   "outputs": [],
   "source": [
    "meantemp<-sqldf(\"select date,avg(Value) as meantemp from data group by date\")"
   ]
  },
  {
   "cell_type": "code",
   "execution_count": 9,
   "metadata": {
    "collapsed": false
   },
   "outputs": [],
   "source": [
    "meantemp$month<-as.numeric(format(meantemp$date, \"%m\"))"
   ]
  },
  {
   "cell_type": "code",
   "execution_count": 10,
   "metadata": {
    "collapsed": true
   },
   "outputs": [],
   "source": [
    "meantemp$day<-as.numeric(format(meantemp$date, \"%d\"))"
   ]
  },
  {
   "cell_type": "code",
   "execution_count": 11,
   "metadata": {
    "collapsed": false
   },
   "outputs": [],
   "source": [
    "febdata<-sqldf(\"select * from meantemp where month=4\")"
   ]
  },
  {
   "cell_type": "code",
   "execution_count": 12,
   "metadata": {
    "collapsed": false
   },
   "outputs": [
    {
     "data": {
      "text/html": [
       "<table>\n",
       "<thead><tr><th scope=col>date</th><th scope=col>meantemp</th><th scope=col>month</th><th scope=col>day</th></tr></thead>\n",
       "<tbody>\n",
       "\t<tr><td>2018-04-01</td><td>27.31774  </td><td>4         </td><td> 1        </td></tr>\n",
       "\t<tr><td>2018-04-02</td><td>29.42539  </td><td>4         </td><td> 2        </td></tr>\n",
       "\t<tr><td>2018-04-03</td><td>29.43169  </td><td>4         </td><td> 3        </td></tr>\n",
       "\t<tr><td>2018-04-04</td><td>29.75643  </td><td>4         </td><td> 4        </td></tr>\n",
       "\t<tr><td>2018-04-05</td><td>29.48938  </td><td>4         </td><td> 5        </td></tr>\n",
       "\t<tr><td>2018-04-06</td><td>30.02599  </td><td>4         </td><td> 6        </td></tr>\n",
       "\t<tr><td>2018-04-07</td><td>22.18485  </td><td>4         </td><td> 7        </td></tr>\n",
       "\t<tr><td>2018-04-08</td><td>25.32747  </td><td>4         </td><td> 8        </td></tr>\n",
       "\t<tr><td>2018-04-09</td><td>28.00593  </td><td>4         </td><td> 9        </td></tr>\n",
       "\t<tr><td>2018-04-10</td><td>29.69745  </td><td>4         </td><td>10        </td></tr>\n",
       "\t<tr><td>2018-04-11</td><td>31.26984  </td><td>4         </td><td>11        </td></tr>\n",
       "\t<tr><td>2018-04-12</td><td>31.35854  </td><td>4         </td><td>12        </td></tr>\n",
       "\t<tr><td>2018-04-13</td><td>31.59738  </td><td>4         </td><td>13        </td></tr>\n",
       "\t<tr><td>2018-04-14</td><td>32.07257  </td><td>4         </td><td>14        </td></tr>\n",
       "\t<tr><td>2018-04-15</td><td>31.99564  </td><td>4         </td><td>15        </td></tr>\n",
       "\t<tr><td>2018-04-16</td><td>30.08536  </td><td>4         </td><td>16        </td></tr>\n",
       "\t<tr><td>2018-04-17</td><td>28.20226  </td><td>4         </td><td>17        </td></tr>\n",
       "\t<tr><td>2018-04-18</td><td>28.33955  </td><td>4         </td><td>18        </td></tr>\n",
       "\t<tr><td>2018-04-19</td><td>28.53273  </td><td>4         </td><td>19        </td></tr>\n",
       "\t<tr><td>2018-04-20</td><td>29.18728  </td><td>4         </td><td>20        </td></tr>\n",
       "\t<tr><td>2018-04-21</td><td>30.09750  </td><td>4         </td><td>21        </td></tr>\n",
       "\t<tr><td>2018-04-22</td><td>30.68431  </td><td>4         </td><td>22        </td></tr>\n",
       "\t<tr><td>2018-04-23</td><td>31.57250  </td><td>4         </td><td>23        </td></tr>\n",
       "\t<tr><td>2018-04-24</td><td>31.68195  </td><td>4         </td><td>24        </td></tr>\n",
       "\t<tr><td>2018-04-25</td><td>31.70846  </td><td>4         </td><td>25        </td></tr>\n",
       "\t<tr><td>2018-04-26</td><td>29.61022  </td><td>4         </td><td>26        </td></tr>\n",
       "\t<tr><td>2018-04-27</td><td>30.53440  </td><td>4         </td><td>27        </td></tr>\n",
       "\t<tr><td>2018-04-28</td><td>27.57184  </td><td>4         </td><td>28        </td></tr>\n",
       "\t<tr><td>2018-04-29</td><td>29.18072  </td><td>4         </td><td>29        </td></tr>\n",
       "</tbody>\n",
       "</table>\n"
      ],
      "text/latex": [
       "\\begin{tabular}{r|llll}\n",
       " date & meantemp & month & day\\\\\n",
       "\\hline\n",
       "\t 2018-04-01 & 27.31774   & 4          &  1        \\\\\n",
       "\t 2018-04-02 & 29.42539   & 4          &  2        \\\\\n",
       "\t 2018-04-03 & 29.43169   & 4          &  3        \\\\\n",
       "\t 2018-04-04 & 29.75643   & 4          &  4        \\\\\n",
       "\t 2018-04-05 & 29.48938   & 4          &  5        \\\\\n",
       "\t 2018-04-06 & 30.02599   & 4          &  6        \\\\\n",
       "\t 2018-04-07 & 22.18485   & 4          &  7        \\\\\n",
       "\t 2018-04-08 & 25.32747   & 4          &  8        \\\\\n",
       "\t 2018-04-09 & 28.00593   & 4          &  9        \\\\\n",
       "\t 2018-04-10 & 29.69745   & 4          & 10        \\\\\n",
       "\t 2018-04-11 & 31.26984   & 4          & 11        \\\\\n",
       "\t 2018-04-12 & 31.35854   & 4          & 12        \\\\\n",
       "\t 2018-04-13 & 31.59738   & 4          & 13        \\\\\n",
       "\t 2018-04-14 & 32.07257   & 4          & 14        \\\\\n",
       "\t 2018-04-15 & 31.99564   & 4          & 15        \\\\\n",
       "\t 2018-04-16 & 30.08536   & 4          & 16        \\\\\n",
       "\t 2018-04-17 & 28.20226   & 4          & 17        \\\\\n",
       "\t 2018-04-18 & 28.33955   & 4          & 18        \\\\\n",
       "\t 2018-04-19 & 28.53273   & 4          & 19        \\\\\n",
       "\t 2018-04-20 & 29.18728   & 4          & 20        \\\\\n",
       "\t 2018-04-21 & 30.09750   & 4          & 21        \\\\\n",
       "\t 2018-04-22 & 30.68431   & 4          & 22        \\\\\n",
       "\t 2018-04-23 & 31.57250   & 4          & 23        \\\\\n",
       "\t 2018-04-24 & 31.68195   & 4          & 24        \\\\\n",
       "\t 2018-04-25 & 31.70846   & 4          & 25        \\\\\n",
       "\t 2018-04-26 & 29.61022   & 4          & 26        \\\\\n",
       "\t 2018-04-27 & 30.53440   & 4          & 27        \\\\\n",
       "\t 2018-04-28 & 27.57184   & 4          & 28        \\\\\n",
       "\t 2018-04-29 & 29.18072   & 4          & 29        \\\\\n",
       "\\end{tabular}\n"
      ],
      "text/markdown": [
       "\n",
       "date | meantemp | month | day | \n",
       "|---|---|---|---|---|---|---|---|---|---|---|---|---|---|---|---|---|---|---|---|---|---|---|---|---|---|---|---|---|\n",
       "| 2018-04-01 | 27.31774   | 4          |  1         | \n",
       "| 2018-04-02 | 29.42539   | 4          |  2         | \n",
       "| 2018-04-03 | 29.43169   | 4          |  3         | \n",
       "| 2018-04-04 | 29.75643   | 4          |  4         | \n",
       "| 2018-04-05 | 29.48938   | 4          |  5         | \n",
       "| 2018-04-06 | 30.02599   | 4          |  6         | \n",
       "| 2018-04-07 | 22.18485   | 4          |  7         | \n",
       "| 2018-04-08 | 25.32747   | 4          |  8         | \n",
       "| 2018-04-09 | 28.00593   | 4          |  9         | \n",
       "| 2018-04-10 | 29.69745   | 4          | 10         | \n",
       "| 2018-04-11 | 31.26984   | 4          | 11         | \n",
       "| 2018-04-12 | 31.35854   | 4          | 12         | \n",
       "| 2018-04-13 | 31.59738   | 4          | 13         | \n",
       "| 2018-04-14 | 32.07257   | 4          | 14         | \n",
       "| 2018-04-15 | 31.99564   | 4          | 15         | \n",
       "| 2018-04-16 | 30.08536   | 4          | 16         | \n",
       "| 2018-04-17 | 28.20226   | 4          | 17         | \n",
       "| 2018-04-18 | 28.33955   | 4          | 18         | \n",
       "| 2018-04-19 | 28.53273   | 4          | 19         | \n",
       "| 2018-04-20 | 29.18728   | 4          | 20         | \n",
       "| 2018-04-21 | 30.09750   | 4          | 21         | \n",
       "| 2018-04-22 | 30.68431   | 4          | 22         | \n",
       "| 2018-04-23 | 31.57250   | 4          | 23         | \n",
       "| 2018-04-24 | 31.68195   | 4          | 24         | \n",
       "| 2018-04-25 | 31.70846   | 4          | 25         | \n",
       "| 2018-04-26 | 29.61022   | 4          | 26         | \n",
       "| 2018-04-27 | 30.53440   | 4          | 27         | \n",
       "| 2018-04-28 | 27.57184   | 4          | 28         | \n",
       "| 2018-04-29 | 29.18072   | 4          | 29         | \n",
       "\n",
       "\n"
      ],
      "text/plain": [
       "   date       meantemp month day\n",
       "1  2018-04-01 27.31774 4      1 \n",
       "2  2018-04-02 29.42539 4      2 \n",
       "3  2018-04-03 29.43169 4      3 \n",
       "4  2018-04-04 29.75643 4      4 \n",
       "5  2018-04-05 29.48938 4      5 \n",
       "6  2018-04-06 30.02599 4      6 \n",
       "7  2018-04-07 22.18485 4      7 \n",
       "8  2018-04-08 25.32747 4      8 \n",
       "9  2018-04-09 28.00593 4      9 \n",
       "10 2018-04-10 29.69745 4     10 \n",
       "11 2018-04-11 31.26984 4     11 \n",
       "12 2018-04-12 31.35854 4     12 \n",
       "13 2018-04-13 31.59738 4     13 \n",
       "14 2018-04-14 32.07257 4     14 \n",
       "15 2018-04-15 31.99564 4     15 \n",
       "16 2018-04-16 30.08536 4     16 \n",
       "17 2018-04-17 28.20226 4     17 \n",
       "18 2018-04-18 28.33955 4     18 \n",
       "19 2018-04-19 28.53273 4     19 \n",
       "20 2018-04-20 29.18728 4     20 \n",
       "21 2018-04-21 30.09750 4     21 \n",
       "22 2018-04-22 30.68431 4     22 \n",
       "23 2018-04-23 31.57250 4     23 \n",
       "24 2018-04-24 31.68195 4     24 \n",
       "25 2018-04-25 31.70846 4     25 \n",
       "26 2018-04-26 29.61022 4     26 \n",
       "27 2018-04-27 30.53440 4     27 \n",
       "28 2018-04-28 27.57184 4     28 \n",
       "29 2018-04-29 29.18072 4     29 "
      ]
     },
     "metadata": {},
     "output_type": "display_data"
    }
   ],
   "source": [
    "febdata"
   ]
  },
  {
   "cell_type": "code",
   "execution_count": 13,
   "metadata": {
    "collapsed": false
   },
   "outputs": [
    {
     "data": {},
     "metadata": {},
     "output_type": "display_data"
    },
    {
     "data": {
      "image/png": "[encoded data removed]",
      "text/plain": [
       "plot without title"
      ]
     },
     "metadata": {},
     "output_type": "display_data"
    }
   ],
   "source": [
    "ggplot(data=febdata,aes(x=day,y=meantemp))+geom_line()+scale_x_continuous(breaks=c(1,3,5,7,9,11,13,15,17,19,21,23,25,27,29,31))\n",
    "ggsave(paste(\"tempapr61\",\".png\"),width=6,height=3,dpi=300)"
   ]
  },
  {
   "cell_type": "code",
   "execution_count": null,
   "metadata": {
    "collapsed": true
   },
   "outputs": [],
   "source": []
  }
 ],
 "metadata": {
  "kernelspec": {
   "display_name": "R",
   "language": "R",
   "name": "ir"
  },
  "language_info": {
   "codemirror_mode": "r",
   "file_extension": ".r",
   "mimetype": "text/x-r-source",
   "name": "R",
   "pygments_lexer": "r",
   "version": "3.3.3"
  }
 },
 "nbformat": 4,
 "nbformat_minor": 2
}
