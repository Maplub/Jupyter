{
 "cells": [
  {
   "cell_type": "code",
   "execution_count": 1,
   "metadata": {
    "collapsed": false
   },
   "outputs": [
    {
     "name": "stderr",
     "output_type": "stream",
     "text": [
      "Loading required package: gsubfn\n",
      "Loading required package: proto\n",
      "Loading required package: RSQLite\n",
      "\n",
      "Attaching package: ‘dplyr’\n",
      "\n",
      "The following objects are masked from ‘package:stats’:\n",
      "\n",
      "    filter, lag\n",
      "\n",
      "The following objects are masked from ‘package:base’:\n",
      "\n",
      "    intersect, setdiff, setequal, union\n",
      "\n"
     ]
    }
   ],
   "source": [
    "library(sqldf)\n",
    "library(dplyr)"
   ]
  },
  {
   "cell_type": "code",
   "execution_count": 2,
   "metadata": {
    "collapsed": true
   },
   "outputs": [],
   "source": [
    "airq25<-read.csv(\"Daily_PM2.5.csv\")\n",
    "airq10<-read.csv(\"Daily_PM10.csv\")\n",
    "sensorlist<-read.csv(\"sensorlist.csv\")"
   ]
  },
  {
   "cell_type": "code",
   "execution_count": 9,
   "metadata": {
    "collapsed": false
   },
   "outputs": [
    {
     "data": {
      "text/html": [
       "<table>\n",
       "<thead><tr><th scope=col>Series</th><th scope=col>Time</th><th scope=col>pm25</th><th scope=col>pm10</th></tr></thead>\n",
       "<tbody>\n",
       "\t<tr><td>mqtt_consumer.mean {topic: chula/CU-S0005}</td><td>7/2/2018                                  </td><td>71.67067                                  </td><td>225.0769                                  </td></tr>\n",
       "\t<tr><td>mqtt_consumer.mean {topic: chula/CU-S0006}</td><td>7/2/2018                                  </td><td>72.07493                                  </td><td>228.9455                                  </td></tr>\n",
       "\t<tr><td>mqtt_consumer.mean {topic: chula/CU-S0009}</td><td>7/2/2018                                  </td><td>72.37891                                  </td><td>238.4050                                  </td></tr>\n",
       "\t<tr><td>mqtt_consumer.mean {topic: chula/CU-S0010}</td><td>5/2/2018                                  </td><td>68.93370                                  </td><td>227.6419                                  </td></tr>\n",
       "\t<tr><td>mqtt_consumer.mean {topic: chula/CU-S0010}</td><td>5/2/2018                                  </td><td>68.93370                                  </td><td>228.4266                                  </td></tr>\n",
       "\t<tr><td>mqtt_consumer.mean {topic: chula/CU-S0010}</td><td>5/2/2018                                  </td><td>68.93370                                  </td><td>266.8325                                  </td></tr>\n",
       "</tbody>\n",
       "</table>\n"
      ],
      "text/latex": [
       "\\begin{tabular}{r|llll}\n",
       " Series & Time & pm25 & pm10\\\\\n",
       "\\hline\n",
       "\t mqtt\\_consumer.mean \\{topic: chula/CU-S0005\\} & 7/2/2018                                         & 71.67067                                         & 225.0769                                        \\\\\n",
       "\t mqtt\\_consumer.mean \\{topic: chula/CU-S0006\\} & 7/2/2018                                         & 72.07493                                         & 228.9455                                        \\\\\n",
       "\t mqtt\\_consumer.mean \\{topic: chula/CU-S0009\\} & 7/2/2018                                         & 72.37891                                         & 238.4050                                        \\\\\n",
       "\t mqtt\\_consumer.mean \\{topic: chula/CU-S0010\\} & 5/2/2018                                         & 68.93370                                         & 227.6419                                        \\\\\n",
       "\t mqtt\\_consumer.mean \\{topic: chula/CU-S0010\\} & 5/2/2018                                         & 68.93370                                         & 228.4266                                        \\\\\n",
       "\t mqtt\\_consumer.mean \\{topic: chula/CU-S0010\\} & 5/2/2018                                         & 68.93370                                         & 266.8325                                        \\\\\n",
       "\\end{tabular}\n"
      ],
      "text/markdown": [
       "\n",
       "Series | Time | pm25 | pm10 | \n",
       "|---|---|---|---|---|---|\n",
       "| mqtt_consumer.mean {topic: chula/CU-S0005} | 7/2/2018                                   | 71.67067                                   | 225.0769                                   | \n",
       "| mqtt_consumer.mean {topic: chula/CU-S0006} | 7/2/2018                                   | 72.07493                                   | 228.9455                                   | \n",
       "| mqtt_consumer.mean {topic: chula/CU-S0009} | 7/2/2018                                   | 72.37891                                   | 238.4050                                   | \n",
       "| mqtt_consumer.mean {topic: chula/CU-S0010} | 5/2/2018                                   | 68.93370                                   | 227.6419                                   | \n",
       "| mqtt_consumer.mean {topic: chula/CU-S0010} | 5/2/2018                                   | 68.93370                                   | 228.4266                                   | \n",
       "| mqtt_consumer.mean {topic: chula/CU-S0010} | 5/2/2018                                   | 68.93370                                   | 266.8325                                   | \n",
       "\n",
       "\n"
      ],
      "text/plain": [
       "  Series                                     Time     pm25     pm10    \n",
       "1 mqtt_consumer.mean {topic: chula/CU-S0005} 7/2/2018 71.67067 225.0769\n",
       "2 mqtt_consumer.mean {topic: chula/CU-S0006} 7/2/2018 72.07493 228.9455\n",
       "3 mqtt_consumer.mean {topic: chula/CU-S0009} 7/2/2018 72.37891 238.4050\n",
       "4 mqtt_consumer.mean {topic: chula/CU-S0010} 5/2/2018 68.93370 227.6419\n",
       "5 mqtt_consumer.mean {topic: chula/CU-S0010} 5/2/2018 68.93370 228.4266\n",
       "6 mqtt_consumer.mean {topic: chula/CU-S0010} 5/2/2018 68.93370 266.8325"
      ]
     },
     "metadata": {},
     "output_type": "display_data"
    }
   ],
   "source": [
    "head(airq)"
   ]
  },
  {
   "cell_type": "code",
   "execution_count": 3,
   "metadata": {
    "collapsed": false
   },
   "outputs": [
    {
     "name": "stderr",
     "output_type": "stream",
     "text": [
      "Loading required package: tcltk\n",
      "Warning message:\n",
      "“Quoted identifiers should have class SQL, use DBI::SQL() if the caller performs the quoting.”"
     ]
    }
   ],
   "source": [
    "airq<-sqldf('select a.Series,a.Time,a.Value as pm25, b.value as pm10 from airq25 a, airq10 b where a.Series=b.Series')"
   ]
  },
  {
   "cell_type": "code",
   "execution_count": 4,
   "metadata": {
    "collapsed": false
   },
   "outputs": [],
   "source": [
    "airq<-sqldf('select * from airq where pm25 <> \"null\"')\n",
    "airq<-sqldf('select * from airq where pm10 <> \"null\"')"
   ]
  },
  {
   "cell_type": "code",
   "execution_count": 5,
   "metadata": {
    "collapsed": false
   },
   "outputs": [],
   "source": [
    "airq$pm25 <- as.numeric(as.character(airq$pm25))\n",
    "airq$pm10 <- as.numeric(as.character(airq$pm10))\n",
    "airq$pm25 <- airq$pm25/0.8\n",
    "airq$pm10 <- airq$pm10/0.5"
   ]
  },
  {
   "cell_type": "code",
   "execution_count": 6,
   "metadata": {
    "collapsed": false
   },
   "outputs": [],
   "source": [
    "airq$Series <- as.character(airq$Series)"
   ]
  },
  {
   "cell_type": "code",
   "execution_count": 12,
   "metadata": {
    "collapsed": false
   },
   "outputs": [],
   "source": [
    "s<-unlist(strsplit(airq$Series, split=\"/\"))"
   ]
  },
  {
   "cell_type": "code",
   "execution_count": 18,
   "metadata": {
    "collapsed": false
   },
   "outputs": [
    {
     "data": {
      "text/html": [
       "<ol class=list-inline>\n",
       "\t<li>'mqtt_consumer.mean {topic: chula'</li>\n",
       "\t<li>'CU-S0005}'</li>\n",
       "\t<li>'mqtt_consumer.mean {topic: chula'</li>\n",
       "\t<li>'CU-S0006}'</li>\n",
       "\t<li>'mqtt_consumer.mean {topic: chula'</li>\n",
       "</ol>\n"
      ],
      "text/latex": [
       "\\begin{enumerate*}\n",
       "\\item 'mqtt\\_consumer.mean \\{topic: chula'\n",
       "\\item 'CU-S0005\\}'\n",
       "\\item 'mqtt\\_consumer.mean \\{topic: chula'\n",
       "\\item 'CU-S0006\\}'\n",
       "\\item 'mqtt\\_consumer.mean \\{topic: chula'\n",
       "\\end{enumerate*}\n"
      ],
      "text/markdown": [
       "1. 'mqtt_consumer.mean {topic: chula'\n",
       "2. 'CU-S0005}'\n",
       "3. 'mqtt_consumer.mean {topic: chula'\n",
       "4. 'CU-S0006}'\n",
       "5. 'mqtt_consumer.mean {topic: chula'\n",
       "\n",
       "\n"
      ],
      "text/plain": [
       "[1] \"mqtt_consumer.mean {topic: chula\" \"CU-S0005}\"                       \n",
       "[3] \"mqtt_consumer.mean {topic: chula\" \"CU-S0006}\"                       \n",
       "[5] \"mqtt_consumer.mean {topic: chula\""
      ]
     },
     "metadata": {},
     "output_type": "display_data"
    }
   ],
   "source": [
    "s[1:5]"
   ]
  },
  {
   "cell_type": "code",
   "execution_count": null,
   "metadata": {
    "collapsed": true
   },
   "outputs": [],
   "source": []
  }
 ],
 "metadata": {
  "kernelspec": {
   "display_name": "R",
   "language": "R",
   "name": "ir"
  },
  "language_info": {
   "codemirror_mode": "r",
   "file_extension": ".r",
   "mimetype": "text/x-r-source",
   "name": "R",
   "pygments_lexer": "r",
   "version": "3.4.0"
  }
 },
 "nbformat": 4,
 "nbformat_minor": 2
}
