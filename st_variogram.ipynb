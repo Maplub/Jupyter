{
 "cells": [
  {
   "cell_type": "markdown",
   "metadata": {},
   "source": [
    "### Spatio-Temporal Variogram"
   ]
  },
  {
   "cell_type": "markdown",
   "metadata": {},
   "source": [
    "First, load library and set encoding"
   ]
  },
  {
   "cell_type": "code",
   "execution_count": 14,
   "metadata": {
    "collapsed": false
   },
   "outputs": [
    {
     "data": {
      "text/html": [
       "'Thai_Thailand.874'"
      ],
      "text/latex": [
       "'Thai\\_Thailand.874'"
      ],
      "text/markdown": [
       "'Thai_Thailand.874'"
      ],
      "text/plain": [
       "[1] \"Thai_Thailand.874\""
      ]
     },
     "metadata": {},
     "output_type": "display_data"
    }
   ],
   "source": [
    "library(ggplot2)\n",
    "library(sqldf)\n",
    "library(dplyr)\n",
    "library(sp)\n",
    "library(spacetime)\n",
    "Sys.setlocale(\"LC_CTYPE\", \"thai\")\n",
    "options(encoding=\"UTF-8\")"
   ]
  },
  {
   "cell_type": "markdown",
   "metadata": {},
   "source": [
    "Set working directory (if needed)"
   ]
  },
  {
   "cell_type": "code",
   "execution_count": 2,
   "metadata": {
    "collapsed": true
   },
   "outputs": [],
   "source": [
    "setwd(\"C:\\\\Users\\\\garavig\\\\Documents\\\\Haze\\\\HazeAnalysis\\\\Data\")"
   ]
  },
  {
   "cell_type": "markdown",
   "metadata": {},
   "source": [
    "Load and update sensorlist id to the newest. เบอร์ของเก่าปีที่แล้วมันผิด มี 0 เยอะเกิน ต้องแก้ไขก่อน"
   ]
  },
  {
   "cell_type": "code",
   "execution_count": 3,
   "metadata": {
    "collapsed": true
   },
   "outputs": [],
   "source": [
    "sensorlist<-read.csv(\"https://raw.githubusercontent.com/Maplub/MonthlyAirQuality/master/sensorlist.csv\",stringsAsFactors = FALSE)\n",
    "sensorlist[sensorlist$sensorid==\"CU-S00054\",1]<-\"CU-S0054\"\n",
    "sensorlist[sensorlist$sensorid==\"CU-S00083\",1]<-\"CU-S0083\"\n",
    "sensorlist[sensorlist$sensorid==\"CU-S00103\",1]<-\"CU-S0103\"\n",
    "sensorlist[sensorlist$sensorid==\"CU-S00104\",1]<-\"CU-S0104\"\n",
    "sensorlist$sensorid <- as.factor(sensorlist$sensorid)"
   ]
  },
  {
   "cell_type": "markdown",
   "metadata": {},
   "source": [
    "Load hourly data"
   ]
  },
  {
   "cell_type": "code",
   "execution_count": 5,
   "metadata": {
    "collapsed": false
   },
   "outputs": [],
   "source": [
    "hour<-read.csv(\"https://raw.githubusercontent.com/Maplub/AirQualityData/master/H_Mar_PM25_2561.csv\")"
   ]
  },
  {
   "cell_type": "code",
   "execution_count": 20,
   "metadata": {
    "collapsed": false
   },
   "outputs": [
    {
     "data": {
      "text/html": [
       "<table>\n",
       "<thead><tr><th scope=col>sensorid</th><th scope=col>date</th><th scope=col>h</th><th scope=col>pm25</th><th scope=col>timepos</th></tr></thead>\n",
       "<tbody>\n",
       "\t<tr><td>CU-S0002           </td><td>2018-03-01         </td><td> 9                 </td><td>43.06250           </td><td>2018-03-01 09:00:00</td></tr>\n",
       "\t<tr><td>CU-S0002           </td><td>2018-03-01         </td><td>10                 </td><td>45.21875           </td><td>2018-03-01 10:00:00</td></tr>\n",
       "\t<tr><td>CU-S0002           </td><td>2018-03-01         </td><td>11                 </td><td>48.02083           </td><td>2018-03-01 11:00:00</td></tr>\n",
       "\t<tr><td>CU-S0002           </td><td>2018-03-01         </td><td>12                 </td><td>46.94792           </td><td>2018-03-01 12:00:00</td></tr>\n",
       "\t<tr><td>CU-S0002           </td><td>2018-03-01         </td><td>13                 </td><td>44.92708           </td><td>2018-03-01 13:00:00</td></tr>\n",
       "\t<tr><td>CU-S0002           </td><td>2018-03-01         </td><td>14                 </td><td>45.35417           </td><td>2018-03-01 14:00:00</td></tr>\n",
       "</tbody>\n",
       "</table>\n"
      ],
      "text/latex": [
       "\\begin{tabular}{r|lllll}\n",
       " sensorid & date & h & pm25 & timepos\\\\\n",
       "\\hline\n",
       "\t CU-S0002            & 2018-03-01          &  9                  & 43.06250            & 2018-03-01 09:00:00\\\\\n",
       "\t CU-S0002            & 2018-03-01          & 10                  & 45.21875            & 2018-03-01 10:00:00\\\\\n",
       "\t CU-S0002            & 2018-03-01          & 11                  & 48.02083            & 2018-03-01 11:00:00\\\\\n",
       "\t CU-S0002            & 2018-03-01          & 12                  & 46.94792            & 2018-03-01 12:00:00\\\\\n",
       "\t CU-S0002            & 2018-03-01          & 13                  & 44.92708            & 2018-03-01 13:00:00\\\\\n",
       "\t CU-S0002            & 2018-03-01          & 14                  & 45.35417            & 2018-03-01 14:00:00\\\\\n",
       "\\end{tabular}\n"
      ],
      "text/markdown": [
       "\n",
       "sensorid | date | h | pm25 | timepos | \n",
       "|---|---|---|---|---|---|\n",
       "| CU-S0002            | 2018-03-01          |  9                  | 43.06250            | 2018-03-01 09:00:00 | \n",
       "| CU-S0002            | 2018-03-01          | 10                  | 45.21875            | 2018-03-01 10:00:00 | \n",
       "| CU-S0002            | 2018-03-01          | 11                  | 48.02083            | 2018-03-01 11:00:00 | \n",
       "| CU-S0002            | 2018-03-01          | 12                  | 46.94792            | 2018-03-01 12:00:00 | \n",
       "| CU-S0002            | 2018-03-01          | 13                  | 44.92708            | 2018-03-01 13:00:00 | \n",
       "| CU-S0002            | 2018-03-01          | 14                  | 45.35417            | 2018-03-01 14:00:00 | \n",
       "\n",
       "\n"
      ],
      "text/plain": [
       "  sensorid date       h  pm25     timepos            \n",
       "1 CU-S0002 2018-03-01  9 43.06250 2018-03-01 09:00:00\n",
       "2 CU-S0002 2018-03-01 10 45.21875 2018-03-01 10:00:00\n",
       "3 CU-S0002 2018-03-01 11 48.02083 2018-03-01 11:00:00\n",
       "4 CU-S0002 2018-03-01 12 46.94792 2018-03-01 12:00:00\n",
       "5 CU-S0002 2018-03-01 13 44.92708 2018-03-01 13:00:00\n",
       "6 CU-S0002 2018-03-01 14 45.35417 2018-03-01 14:00:00"
      ]
     },
     "metadata": {},
     "output_type": "display_data"
    }
   ],
   "source": [
    "head(hour)"
   ]
  },
  {
   "cell_type": "markdown",
   "metadata": {},
   "source": [
    "Update time to POSIXct"
   ]
  },
  {
   "cell_type": "code",
   "execution_count": 6,
   "metadata": {
    "collapsed": true
   },
   "outputs": [],
   "source": [
    "hour$timepos <- as.POSIXct(strptime(paste(hour$date,hour$h), \"%Y-%m-%d %H\"))"
   ]
  },
  {
   "cell_type": "markdown",
   "metadata": {},
   "source": [
    "Select only one day, then order it by sensorid and timepos respectively."
   ]
  },
  {
   "cell_type": "code",
   "execution_count": null,
   "metadata": {
    "collapsed": true
   },
   "outputs": [],
   "source": [
    "newhour<-hour[hour$timepos>=\"2018-03-08 00:00:00\" & hour$timepos<=\"2018-03-08 23:00:00\",]\n",
    "newhour <- newhour[order(newhour$sensorid, newhour$timepos),]"
   ]
  },
  {
   "cell_type": "markdown",
   "metadata": {},
   "source": [
    "Count number of rows per id to check the completeness of data. เช็คว่าข้อมูลทุก sensor มีครบ 24 ชั่วโมงหรือไม่"
   ]
  },
  {
   "cell_type": "code",
   "execution_count": 8,
   "metadata": {
    "collapsed": true
   },
   "outputs": [],
   "source": [
    "count<-sqldf(\"select sensorid,count() from newhour group by sensorid\") \n",
    "colnames(count)<-c(\"sensorid\",\"c\")\n",
    "sensorFull <-as.matrix(count[count$c == 24,]$sensorid)"
   ]
  },
  {
   "cell_type": "markdown",
   "metadata": {},
   "source": [
    "Select only sensors that has 24 hour data"
   ]
  },
  {
   "cell_type": "code",
   "execution_count": 9,
   "metadata": {
    "collapsed": true
   },
   "outputs": [],
   "source": [
    "newhour<-subset(newhour,sensorid %in% sensorFull)"
   ]
  },
  {
   "cell_type": "markdown",
   "metadata": {},
   "source": [
    "The model use 3 inputs:\n",
    "1. Unique datetime list in order (วันที่แบบเรียงลำดับ)\n",
    "2. Unique sensorid in order (id แบบ เรียงลำดับ)\n",
    "3. Sensor data order by sensorid and time respectively (ข้อมูลเรียงลำดับตาม id กับ เวลา เพื่อให้เชื่อมกับ 1 กับ 2)"
   ]
  },
  {
   "cell_type": "code",
   "execution_count": null,
   "metadata": {
    "collapsed": true
   },
   "outputs": [],
   "source": [
    "datetime<-sqldf('select distinct(timepos) from newhour') #USE THIS\n",
    "sensorid<-subset(sensorlist,sensorid %in% sensorFull)\n",
    "sensorid <- sensorid[order(sensorid$sensorid),]"
   ]
  },
  {
   "cell_type": "markdown",
   "metadata": {},
   "source": [
    "Create a SpatialPointsDataFrame"
   ]
  },
  {
   "cell_type": "code",
   "execution_count": 12,
   "metadata": {
    "collapsed": false
   },
   "outputs": [],
   "source": [
    "coordinates(sensorid)=~lon+lat\n",
    "proj4string(sensorid)=CRS(\"+init=epsg:4326\")"
   ]
  },
  {
   "cell_type": "code",
   "execution_count": 16,
   "metadata": {
    "collapsed": true
   },
   "outputs": [],
   "source": [
    "sensoridSP <- SpatialPoints(sensorid@coords,CRS(\"+init=epsg:4326\")) "
   ]
  },
  {
   "cell_type": "markdown",
   "metadata": {},
   "source": [
    "Create spatio-temporal using STFDF function from spacetime library"
   ]
  },
  {
   "cell_type": "code",
   "execution_count": 18,
   "metadata": {
    "collapsed": false,
    "scrolled": true
   },
   "outputs": [],
   "source": [
    "stdata<-STFDF(sensoridSP,datetime$timepos,data.frame(PM2.5=as.vector(newhour$pm25)),delta(datetime$timepos))"
   ]
  },
  {
   "cell_type": "markdown",
   "metadata": {},
   "source": [
    "Then plot it"
   ]
  },
  {
   "cell_type": "code",
   "execution_count": 19,
   "metadata": {
    "collapsed": false
   },
   "outputs": [
    {
     "data": {},
     "metadata": {},
     "output_type": "display_data"
    },
    {
     "data": {
      "image/png": "[encoded data removed]",
      "text/plain": [
       "plot without title"
      ]
     },
     "metadata": {},
     "output_type": "display_data"
    }
   ],
   "source": [
    "stplot(stdata)"
   ]
  }
 ],
 "metadata": {
  "kernelspec": {
   "display_name": "R",
   "language": "R",
   "name": "ir"
  },
  "language_info": {
   "codemirror_mode": "r",
   "file_extension": ".r",
   "mimetype": "text/x-r-source",
   "name": "R",
   "pygments_lexer": "r",
   "version": "3.3.3"
  }
 },
 "nbformat": 4,
 "nbformat_minor": 2
}
