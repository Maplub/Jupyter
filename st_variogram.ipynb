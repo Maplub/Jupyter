{
 "cells": [
  {
   "cell_type": "markdown",
   "metadata": {},
   "source": [
    "## Spatio-Temporal Variogram"
   ]
  },
  {
   "cell_type": "markdown",
   "metadata": {},
   "source": [
    "### Clean the data"
   ]
  },
  {
   "cell_type": "markdown",
   "metadata": {},
   "source": [
    "First, load library and set encoding"
   ]
  },
  {
   "cell_type": "code",
   "execution_count": 1,
   "metadata": {
    "collapsed": false
   },
   "outputs": [
    {
     "name": "stderr",
     "output_type": "stream",
     "text": [
      "Loading required package: gsubfn\n",
      "Loading required package: proto\n",
      "Loading required package: RSQLite\n",
      "\n",
      "Attaching package: 'dplyr'\n",
      "\n",
      "The following objects are masked from 'package:stats':\n",
      "\n",
      "    filter, lag\n",
      "\n",
      "The following objects are masked from 'package:base':\n",
      "\n",
      "    intersect, setdiff, setequal, union\n",
      "\n"
     ]
    },
    {
     "data": {
      "text/html": [
       "'Thai_Thailand.874'"
      ],
      "text/latex": [
       "'Thai\\_Thailand.874'"
      ],
      "text/markdown": [
       "'Thai_Thailand.874'"
      ],
      "text/plain": [
       "[1] \"Thai_Thailand.874\""
      ]
     },
     "metadata": {},
     "output_type": "display_data"
    }
   ],
   "source": [
    "library(ggplot2)\n",
    "library(sqldf)\n",
    "library(dplyr)\n",
    "library(sp)\n",
    "library(spacetime)\n",
    "Sys.setlocale(\"LC_CTYPE\", \"thai\")\n",
    "options(encoding=\"UTF-8\")"
   ]
  },
  {
   "cell_type": "markdown",
   "metadata": {},
   "source": [
    "Set working directory (if needed)"
   ]
  },
  {
   "cell_type": "code",
   "execution_count": 2,
   "metadata": {
    "collapsed": true
   },
   "outputs": [],
   "source": [
    "#setwd(\"C:\\\\Users\\\\garavig\\\\Documents\\\\Haze\\\\HazeAnalysis\\\\Data\")"
   ]
  },
  {
   "cell_type": "markdown",
   "metadata": {},
   "source": [
    "Load and update sensorlist id to the newest. เบอร์ของเก่าปีที่แล้วมันผิด มี 0 เยอะเกิน ต้องแก้ไขก่อน"
   ]
  },
  {
   "cell_type": "code",
   "execution_count": 3,
   "metadata": {
    "collapsed": true
   },
   "outputs": [],
   "source": [
    "sensorlist<-read.csv(\"https://raw.githubusercontent.com/Maplub/MonthlyAirQuality/master/sensorlist.csv\",stringsAsFactors = FALSE)\n",
    "sensorlist[sensorlist$sensorid==\"CU-S00054\",1]<-\"CU-S0054\"\n",
    "sensorlist[sensorlist$sensorid==\"CU-S00083\",1]<-\"CU-S0083\"\n",
    "sensorlist[sensorlist$sensorid==\"CU-S00103\",1]<-\"CU-S0103\"\n",
    "sensorlist[sensorlist$sensorid==\"CU-S00104\",1]<-\"CU-S0104\"\n",
    "sensorlist$sensorid <- as.factor(sensorlist$sensorid)"
   ]
  },
  {
   "cell_type": "markdown",
   "metadata": {},
   "source": [
    "Load hourly data"
   ]
  },
  {
   "cell_type": "code",
   "execution_count": 4,
   "metadata": {
    "collapsed": false
   },
   "outputs": [],
   "source": [
    "#hour<-read.csv(\"https://raw.githubusercontent.com/Maplub/AirQualityData/master/H_Mar_PM25_2561.csv\")\n",
    "daily<-read.csv(\"https://raw.githubusercontent.com/Maplub/AirQualityData/master/PM2-5_2018_Daily.csv\")"
   ]
  },
  {
   "cell_type": "code",
   "execution_count": 5,
   "metadata": {
    "collapsed": false
   },
   "outputs": [
    {
     "data": {
      "text/html": [
       "<table>\n",
       "<thead><tr><th scope=col>sensorid</th><th scope=col>date</th><th scope=col>pm25</th></tr></thead>\n",
       "<tbody>\n",
       "\t<tr><td>CU-S0001  </td><td>28-02-2018</td><td>52.52500  </td></tr>\n",
       "\t<tr><td>CU-S0002  </td><td>15-02-2018</td><td>62.89826  </td></tr>\n",
       "\t<tr><td>CU-S0002  </td><td>16-02-2018</td><td>50.96376  </td></tr>\n",
       "\t<tr><td>CU-S0002  </td><td>17-02-2018</td><td>77.15833  </td></tr>\n",
       "\t<tr><td>CU-S0002  </td><td>18-02-2018</td><td>79.91827  </td></tr>\n",
       "\t<tr><td>CU-S0002  </td><td>19-02-2018</td><td>72.95452  </td></tr>\n",
       "</tbody>\n",
       "</table>\n"
      ],
      "text/latex": [
       "\\begin{tabular}{r|lll}\n",
       " sensorid & date & pm25\\\\\n",
       "\\hline\n",
       "\t CU-S0001   & 28-02-2018 & 52.52500  \\\\\n",
       "\t CU-S0002   & 15-02-2018 & 62.89826  \\\\\n",
       "\t CU-S0002   & 16-02-2018 & 50.96376  \\\\\n",
       "\t CU-S0002   & 17-02-2018 & 77.15833  \\\\\n",
       "\t CU-S0002   & 18-02-2018 & 79.91827  \\\\\n",
       "\t CU-S0002   & 19-02-2018 & 72.95452  \\\\\n",
       "\\end{tabular}\n"
      ],
      "text/markdown": [
       "\n",
       "sensorid | date | pm25 | \n",
       "|---|---|---|---|---|---|\n",
       "| CU-S0001   | 28-02-2018 | 52.52500   | \n",
       "| CU-S0002   | 15-02-2018 | 62.89826   | \n",
       "| CU-S0002   | 16-02-2018 | 50.96376   | \n",
       "| CU-S0002   | 17-02-2018 | 77.15833   | \n",
       "| CU-S0002   | 18-02-2018 | 79.91827   | \n",
       "| CU-S0002   | 19-02-2018 | 72.95452   | \n",
       "\n",
       "\n"
      ],
      "text/plain": [
       "  sensorid date       pm25    \n",
       "1 CU-S0001 28-02-2018 52.52500\n",
       "2 CU-S0002 15-02-2018 62.89826\n",
       "3 CU-S0002 16-02-2018 50.96376\n",
       "4 CU-S0002 17-02-2018 77.15833\n",
       "5 CU-S0002 18-02-2018 79.91827\n",
       "6 CU-S0002 19-02-2018 72.95452"
      ]
     },
     "metadata": {},
     "output_type": "display_data"
    }
   ],
   "source": [
    "#head(hour)\n",
    "colnames(daily)<-c('sensorid','date','pm25')\n",
    "head(daily)"
   ]
  },
  {
   "cell_type": "code",
   "execution_count": 7,
   "metadata": {
    "collapsed": false
   },
   "outputs": [],
   "source": [
    "#hour[hour$sensorid==\"CU-SOO94\",1]<-\"CU-S0094\"\n",
    "daily[daily$sensorid==\"CU-SOO94\",1]<-\"CU-S0094\""
   ]
  },
  {
   "cell_type": "code",
   "execution_count": 12,
   "metadata": {
    "collapsed": false
   },
   "outputs": [
    {
     "data": {
      "text/html": [
       "<table>\n",
       "<thead><tr><th scope=col>sensorid</th><th scope=col>count(pm25)</th><th scope=col>min(date)</th><th scope=col>max(date)</th></tr></thead>\n",
       "<tbody>\n",
       "\t<tr><td>CU-S0001  </td><td>  1       </td><td>28-02-2018</td><td>28-02-2018</td></tr>\n",
       "\t<tr><td>CU-S0002  </td><td> 97       </td><td>01-03-2018</td><td>31-05-2018</td></tr>\n",
       "\t<tr><td>CU-S0003  </td><td>108       </td><td>01-03-2018</td><td>31-05-2018</td></tr>\n",
       "\t<tr><td>CU-S0004  </td><td> 87       </td><td>01-03-2018</td><td>31-03-2018</td></tr>\n",
       "\t<tr><td>CU-S0005  </td><td> 99       </td><td>01-03-2018</td><td>31-05-2018</td></tr>\n",
       "\t<tr><td>CU-S0006  </td><td>102       </td><td>01-03-2018</td><td>31-05-2018</td></tr>\n",
       "\t<tr><td>CU-S0007  </td><td>  1       </td><td>28-02-2018</td><td>28-02-2018</td></tr>\n",
       "\t<tr><td>CU-S0008  </td><td>106       </td><td>01-03-2018</td><td>31-05-2018</td></tr>\n",
       "\t<tr><td>CU-S0009  </td><td> 54       </td><td>01-06-2018</td><td>31-05-2018</td></tr>\n",
       "\t<tr><td>CU-S0010  </td><td> 84       </td><td>01-03-2018</td><td>31-05-2018</td></tr>\n",
       "\t<tr><td>CU-S0011  </td><td>100       </td><td>01-03-2018</td><td>31-05-2018</td></tr>\n",
       "\t<tr><td>CU-S0012  </td><td>  3       </td><td>08-03-2018</td><td>23-05-2018</td></tr>\n",
       "\t<tr><td>CU-S0013  </td><td> 96       </td><td>01-03-2018</td><td>31-05-2018</td></tr>\n",
       "\t<tr><td>CU-S0014  </td><td>111       </td><td>01-03-2018</td><td>31-05-2018</td></tr>\n",
       "\t<tr><td>CU-S0015  </td><td>109       </td><td>01-03-2018</td><td>31-05-2018</td></tr>\n",
       "\t<tr><td>CU-S0016  </td><td> 92       </td><td>01-04-2018</td><td>31-05-2018</td></tr>\n",
       "\t<tr><td>CU-S0017  </td><td>101       </td><td>01-03-2018</td><td>31-05-2018</td></tr>\n",
       "\t<tr><td>CU-S0018  </td><td> 83       </td><td>01-03-2018</td><td>31-05-2018</td></tr>\n",
       "\t<tr><td>CU-S0019  </td><td>101       </td><td>01-04-2018</td><td>31-05-2018</td></tr>\n",
       "\t<tr><td>CU-S0020  </td><td> 65       </td><td>01-03-2018</td><td>31-03-2018</td></tr>\n",
       "\t<tr><td>CU-S0021  </td><td>100       </td><td>01-03-2018</td><td>31-05-2018</td></tr>\n",
       "\t<tr><td>CU-S0022  </td><td>112       </td><td>01-03-2018</td><td>31-05-2018</td></tr>\n",
       "\t<tr><td>CU-S0023  </td><td>106       </td><td>01-03-2018</td><td>31-05-2018</td></tr>\n",
       "\t<tr><td>CU-S0024  </td><td>113       </td><td>01-03-2018</td><td>31-05-2018</td></tr>\n",
       "\t<tr><td>CU-S0025  </td><td> 79       </td><td>01-03-2018</td><td>31-05-2018</td></tr>\n",
       "\t<tr><td>CU-S0026  </td><td> 51       </td><td>02-03-2018</td><td>30-03-2018</td></tr>\n",
       "\t<tr><td>CU-S0027  </td><td> 95       </td><td>01-03-2018</td><td>31-03-2018</td></tr>\n",
       "\t<tr><td>CU-S0028  </td><td>105       </td><td>01-04-2018</td><td>31-05-2018</td></tr>\n",
       "\t<tr><td>CU-S0029  </td><td> 97       </td><td>01-03-2018</td><td>31-05-2018</td></tr>\n",
       "\t<tr><td>CU-S0030  </td><td>110       </td><td>01-03-2018</td><td>31-05-2018</td></tr>\n",
       "\t<tr><td>...</td><td>...</td><td>...</td><td>...</td></tr>\n",
       "\t<tr><td>CU-S0072  </td><td> 80       </td><td>01-03-2018</td><td>31-05-2018</td></tr>\n",
       "\t<tr><td>CU-S0073  </td><td>101       </td><td>01-03-2018</td><td>31-05-2018</td></tr>\n",
       "\t<tr><td>CU-S0074  </td><td> 90       </td><td>01-03-2018</td><td>31-05-2018</td></tr>\n",
       "\t<tr><td>CU-S0075  </td><td>113       </td><td>01-04-2018</td><td>31-05-2018</td></tr>\n",
       "\t<tr><td>CU-S0076  </td><td>111       </td><td>01-03-2018</td><td>31-05-2018</td></tr>\n",
       "\t<tr><td>CU-S0077  </td><td>  2       </td><td>14-06-2018</td><td>30-03-2018</td></tr>\n",
       "\t<tr><td>CU-S0078  </td><td> 81       </td><td>01-03-2018</td><td>31-05-2018</td></tr>\n",
       "\t<tr><td>CU-S0079  </td><td> 87       </td><td>01-05-2018</td><td>31-05-2018</td></tr>\n",
       "\t<tr><td>CU-S0080  </td><td> 47       </td><td>03-03-2018</td><td>31-05-2018</td></tr>\n",
       "\t<tr><td>CU-S0081  </td><td>100       </td><td>01-03-2018</td><td>31-05-2018</td></tr>\n",
       "\t<tr><td>CU-S0082  </td><td>102       </td><td>01-03-2018</td><td>31-05-2018</td></tr>\n",
       "\t<tr><td>CU-S0083  </td><td>  6       </td><td>14-06-2018</td><td>27-02-2018</td></tr>\n",
       "\t<tr><td>CU-S0085  </td><td> 53       </td><td>01-03-2018</td><td>31-05-2018</td></tr>\n",
       "\t<tr><td>CU-S0086  </td><td>112       </td><td>01-03-2018</td><td>31-05-2018</td></tr>\n",
       "\t<tr><td>CU-S0087  </td><td> 23       </td><td>03-04-2018</td><td>30-03-2018</td></tr>\n",
       "\t<tr><td>CU-S0088  </td><td> 43       </td><td>02-03-2018</td><td>31-03-2018</td></tr>\n",
       "\t<tr><td>CU-S0090  </td><td>110       </td><td>01-03-2018</td><td>31-05-2018</td></tr>\n",
       "\t<tr><td>CU-S0091  </td><td>109       </td><td>01-03-2018</td><td>31-05-2018</td></tr>\n",
       "\t<tr><td>CU-S0092  </td><td>  1       </td><td>19-03-2018</td><td>19-03-2018</td></tr>\n",
       "\t<tr><td>CU-S0093  </td><td>105       </td><td>01-03-2018</td><td>31-05-2018</td></tr>\n",
       "\t<tr><td>CU-S0094  </td><td> 97       </td><td>01-04-2018</td><td>31-05-2018</td></tr>\n",
       "\t<tr><td>CU-S0096  </td><td>107       </td><td>01-04-2018</td><td>31-05-2018</td></tr>\n",
       "\t<tr><td>CU-S0097  </td><td>  3       </td><td>21-03-2018</td><td>27-02-2018</td></tr>\n",
       "\t<tr><td>CU-S0098  </td><td>101       </td><td>01-03-2018</td><td>31-05-2018</td></tr>\n",
       "\t<tr><td>CU-S0099  </td><td> 94       </td><td>01-04-2018</td><td>31-05-2018</td></tr>\n",
       "\t<tr><td>CU-S0100  </td><td> 75       </td><td>01-05-2018</td><td>31-05-2018</td></tr>\n",
       "\t<tr><td>CU-S0101  </td><td>108       </td><td>01-03-2018</td><td>31-05-2018</td></tr>\n",
       "\t<tr><td>CU-S0102  </td><td> 83       </td><td>01-03-2018</td><td>31-05-2018</td></tr>\n",
       "\t<tr><td>CU-S0103  </td><td> 20       </td><td>01-03-2018</td><td>28-02-2018</td></tr>\n",
       "\t<tr><td>CU-S0104  </td><td> 26       </td><td>01-03-2018</td><td>28-03-2018</td></tr>\n",
       "</tbody>\n",
       "</table>\n"
      ],
      "text/latex": [
       "\\begin{tabular}{r|llll}\n",
       " sensorid & count(pm25) & min(date) & max(date)\\\\\n",
       "\\hline\n",
       "\t CU-S0001   &   1        & 28-02-2018 & 28-02-2018\\\\\n",
       "\t CU-S0002   &  97        & 01-03-2018 & 31-05-2018\\\\\n",
       "\t CU-S0003   & 108        & 01-03-2018 & 31-05-2018\\\\\n",
       "\t CU-S0004   &  87        & 01-03-2018 & 31-03-2018\\\\\n",
       "\t CU-S0005   &  99        & 01-03-2018 & 31-05-2018\\\\\n",
       "\t CU-S0006   & 102        & 01-03-2018 & 31-05-2018\\\\\n",
       "\t CU-S0007   &   1        & 28-02-2018 & 28-02-2018\\\\\n",
       "\t CU-S0008   & 106        & 01-03-2018 & 31-05-2018\\\\\n",
       "\t CU-S0009   &  54        & 01-06-2018 & 31-05-2018\\\\\n",
       "\t CU-S0010   &  84        & 01-03-2018 & 31-05-2018\\\\\n",
       "\t CU-S0011   & 100        & 01-03-2018 & 31-05-2018\\\\\n",
       "\t CU-S0012   &   3        & 08-03-2018 & 23-05-2018\\\\\n",
       "\t CU-S0013   &  96        & 01-03-2018 & 31-05-2018\\\\\n",
       "\t CU-S0014   & 111        & 01-03-2018 & 31-05-2018\\\\\n",
       "\t CU-S0015   & 109        & 01-03-2018 & 31-05-2018\\\\\n",
       "\t CU-S0016   &  92        & 01-04-2018 & 31-05-2018\\\\\n",
       "\t CU-S0017   & 101        & 01-03-2018 & 31-05-2018\\\\\n",
       "\t CU-S0018   &  83        & 01-03-2018 & 31-05-2018\\\\\n",
       "\t CU-S0019   & 101        & 01-04-2018 & 31-05-2018\\\\\n",
       "\t CU-S0020   &  65        & 01-03-2018 & 31-03-2018\\\\\n",
       "\t CU-S0021   & 100        & 01-03-2018 & 31-05-2018\\\\\n",
       "\t CU-S0022   & 112        & 01-03-2018 & 31-05-2018\\\\\n",
       "\t CU-S0023   & 106        & 01-03-2018 & 31-05-2018\\\\\n",
       "\t CU-S0024   & 113        & 01-03-2018 & 31-05-2018\\\\\n",
       "\t CU-S0025   &  79        & 01-03-2018 & 31-05-2018\\\\\n",
       "\t CU-S0026   &  51        & 02-03-2018 & 30-03-2018\\\\\n",
       "\t CU-S0027   &  95        & 01-03-2018 & 31-03-2018\\\\\n",
       "\t CU-S0028   & 105        & 01-04-2018 & 31-05-2018\\\\\n",
       "\t CU-S0029   &  97        & 01-03-2018 & 31-05-2018\\\\\n",
       "\t CU-S0030   & 110        & 01-03-2018 & 31-05-2018\\\\\n",
       "\t ... & ... & ... & ...\\\\\n",
       "\t CU-S0072   &  80        & 01-03-2018 & 31-05-2018\\\\\n",
       "\t CU-S0073   & 101        & 01-03-2018 & 31-05-2018\\\\\n",
       "\t CU-S0074   &  90        & 01-03-2018 & 31-05-2018\\\\\n",
       "\t CU-S0075   & 113        & 01-04-2018 & 31-05-2018\\\\\n",
       "\t CU-S0076   & 111        & 01-03-2018 & 31-05-2018\\\\\n",
       "\t CU-S0077   &   2        & 14-06-2018 & 30-03-2018\\\\\n",
       "\t CU-S0078   &  81        & 01-03-2018 & 31-05-2018\\\\\n",
       "\t CU-S0079   &  87        & 01-05-2018 & 31-05-2018\\\\\n",
       "\t CU-S0080   &  47        & 03-03-2018 & 31-05-2018\\\\\n",
       "\t CU-S0081   & 100        & 01-03-2018 & 31-05-2018\\\\\n",
       "\t CU-S0082   & 102        & 01-03-2018 & 31-05-2018\\\\\n",
       "\t CU-S0083   &   6        & 14-06-2018 & 27-02-2018\\\\\n",
       "\t CU-S0085   &  53        & 01-03-2018 & 31-05-2018\\\\\n",
       "\t CU-S0086   & 112        & 01-03-2018 & 31-05-2018\\\\\n",
       "\t CU-S0087   &  23        & 03-04-2018 & 30-03-2018\\\\\n",
       "\t CU-S0088   &  43        & 02-03-2018 & 31-03-2018\\\\\n",
       "\t CU-S0090   & 110        & 01-03-2018 & 31-05-2018\\\\\n",
       "\t CU-S0091   & 109        & 01-03-2018 & 31-05-2018\\\\\n",
       "\t CU-S0092   &   1        & 19-03-2018 & 19-03-2018\\\\\n",
       "\t CU-S0093   & 105        & 01-03-2018 & 31-05-2018\\\\\n",
       "\t CU-S0094   &  97        & 01-04-2018 & 31-05-2018\\\\\n",
       "\t CU-S0096   & 107        & 01-04-2018 & 31-05-2018\\\\\n",
       "\t CU-S0097   &   3        & 21-03-2018 & 27-02-2018\\\\\n",
       "\t CU-S0098   & 101        & 01-03-2018 & 31-05-2018\\\\\n",
       "\t CU-S0099   &  94        & 01-04-2018 & 31-05-2018\\\\\n",
       "\t CU-S0100   &  75        & 01-05-2018 & 31-05-2018\\\\\n",
       "\t CU-S0101   & 108        & 01-03-2018 & 31-05-2018\\\\\n",
       "\t CU-S0102   &  83        & 01-03-2018 & 31-05-2018\\\\\n",
       "\t CU-S0103   &  20        & 01-03-2018 & 28-02-2018\\\\\n",
       "\t CU-S0104   &  26        & 01-03-2018 & 28-03-2018\\\\\n",
       "\\end{tabular}\n"
      ],
      "text/markdown": [
       "\n",
       "sensorid | count(pm25) | min(date) | max(date) | \n",
       "|---|---|---|---|---|---|---|---|---|---|---|---|---|---|---|---|---|---|---|---|---|---|---|---|---|---|---|---|---|---|---|---|---|---|---|---|---|---|---|---|---|---|---|---|---|---|---|---|---|---|---|---|---|---|---|---|---|---|---|---|---|\n",
       "| CU-S0001   |   1        | 28-02-2018 | 28-02-2018 | \n",
       "| CU-S0002   |  97        | 01-03-2018 | 31-05-2018 | \n",
       "| CU-S0003   | 108        | 01-03-2018 | 31-05-2018 | \n",
       "| CU-S0004   |  87        | 01-03-2018 | 31-03-2018 | \n",
       "| CU-S0005   |  99        | 01-03-2018 | 31-05-2018 | \n",
       "| CU-S0006   | 102        | 01-03-2018 | 31-05-2018 | \n",
       "| CU-S0007   |   1        | 28-02-2018 | 28-02-2018 | \n",
       "| CU-S0008   | 106        | 01-03-2018 | 31-05-2018 | \n",
       "| CU-S0009   |  54        | 01-06-2018 | 31-05-2018 | \n",
       "| CU-S0010   |  84        | 01-03-2018 | 31-05-2018 | \n",
       "| CU-S0011   | 100        | 01-03-2018 | 31-05-2018 | \n",
       "| CU-S0012   |   3        | 08-03-2018 | 23-05-2018 | \n",
       "| CU-S0013   |  96        | 01-03-2018 | 31-05-2018 | \n",
       "| CU-S0014   | 111        | 01-03-2018 | 31-05-2018 | \n",
       "| CU-S0015   | 109        | 01-03-2018 | 31-05-2018 | \n",
       "| CU-S0016   |  92        | 01-04-2018 | 31-05-2018 | \n",
       "| CU-S0017   | 101        | 01-03-2018 | 31-05-2018 | \n",
       "| CU-S0018   |  83        | 01-03-2018 | 31-05-2018 | \n",
       "| CU-S0019   | 101        | 01-04-2018 | 31-05-2018 | \n",
       "| CU-S0020   |  65        | 01-03-2018 | 31-03-2018 | \n",
       "| CU-S0021   | 100        | 01-03-2018 | 31-05-2018 | \n",
       "| CU-S0022   | 112        | 01-03-2018 | 31-05-2018 | \n",
       "| CU-S0023   | 106        | 01-03-2018 | 31-05-2018 | \n",
       "| CU-S0024   | 113        | 01-03-2018 | 31-05-2018 | \n",
       "| CU-S0025   |  79        | 01-03-2018 | 31-05-2018 | \n",
       "| CU-S0026   |  51        | 02-03-2018 | 30-03-2018 | \n",
       "| CU-S0027   |  95        | 01-03-2018 | 31-03-2018 | \n",
       "| CU-S0028   | 105        | 01-04-2018 | 31-05-2018 | \n",
       "| CU-S0029   |  97        | 01-03-2018 | 31-05-2018 | \n",
       "| CU-S0030   | 110        | 01-03-2018 | 31-05-2018 | \n",
       "| ... | ... | ... | ... | \n",
       "| CU-S0072   |  80        | 01-03-2018 | 31-05-2018 | \n",
       "| CU-S0073   | 101        | 01-03-2018 | 31-05-2018 | \n",
       "| CU-S0074   |  90        | 01-03-2018 | 31-05-2018 | \n",
       "| CU-S0075   | 113        | 01-04-2018 | 31-05-2018 | \n",
       "| CU-S0076   | 111        | 01-03-2018 | 31-05-2018 | \n",
       "| CU-S0077   |   2        | 14-06-2018 | 30-03-2018 | \n",
       "| CU-S0078   |  81        | 01-03-2018 | 31-05-2018 | \n",
       "| CU-S0079   |  87        | 01-05-2018 | 31-05-2018 | \n",
       "| CU-S0080   |  47        | 03-03-2018 | 31-05-2018 | \n",
       "| CU-S0081   | 100        | 01-03-2018 | 31-05-2018 | \n",
       "| CU-S0082   | 102        | 01-03-2018 | 31-05-2018 | \n",
       "| CU-S0083   |   6        | 14-06-2018 | 27-02-2018 | \n",
       "| CU-S0085   |  53        | 01-03-2018 | 31-05-2018 | \n",
       "| CU-S0086   | 112        | 01-03-2018 | 31-05-2018 | \n",
       "| CU-S0087   |  23        | 03-04-2018 | 30-03-2018 | \n",
       "| CU-S0088   |  43        | 02-03-2018 | 31-03-2018 | \n",
       "| CU-S0090   | 110        | 01-03-2018 | 31-05-2018 | \n",
       "| CU-S0091   | 109        | 01-03-2018 | 31-05-2018 | \n",
       "| CU-S0092   |   1        | 19-03-2018 | 19-03-2018 | \n",
       "| CU-S0093   | 105        | 01-03-2018 | 31-05-2018 | \n",
       "| CU-S0094   |  97        | 01-04-2018 | 31-05-2018 | \n",
       "| CU-S0096   | 107        | 01-04-2018 | 31-05-2018 | \n",
       "| CU-S0097   |   3        | 21-03-2018 | 27-02-2018 | \n",
       "| CU-S0098   | 101        | 01-03-2018 | 31-05-2018 | \n",
       "| CU-S0099   |  94        | 01-04-2018 | 31-05-2018 | \n",
       "| CU-S0100   |  75        | 01-05-2018 | 31-05-2018 | \n",
       "| CU-S0101   | 108        | 01-03-2018 | 31-05-2018 | \n",
       "| CU-S0102   |  83        | 01-03-2018 | 31-05-2018 | \n",
       "| CU-S0103   |  20        | 01-03-2018 | 28-02-2018 | \n",
       "| CU-S0104   |  26        | 01-03-2018 | 28-03-2018 | \n",
       "\n",
       "\n"
      ],
      "text/plain": [
       "    sensorid count(pm25) min(date)  max(date) \n",
       "1   CU-S0001   1         28-02-2018 28-02-2018\n",
       "2   CU-S0002  97         01-03-2018 31-05-2018\n",
       "3   CU-S0003 108         01-03-2018 31-05-2018\n",
       "4   CU-S0004  87         01-03-2018 31-03-2018\n",
       "5   CU-S0005  99         01-03-2018 31-05-2018\n",
       "6   CU-S0006 102         01-03-2018 31-05-2018\n",
       "7   CU-S0007   1         28-02-2018 28-02-2018\n",
       "8   CU-S0008 106         01-03-2018 31-05-2018\n",
       "9   CU-S0009  54         01-06-2018 31-05-2018\n",
       "10  CU-S0010  84         01-03-2018 31-05-2018\n",
       "11  CU-S0011 100         01-03-2018 31-05-2018\n",
       "12  CU-S0012   3         08-03-2018 23-05-2018\n",
       "13  CU-S0013  96         01-03-2018 31-05-2018\n",
       "14  CU-S0014 111         01-03-2018 31-05-2018\n",
       "15  CU-S0015 109         01-03-2018 31-05-2018\n",
       "16  CU-S0016  92         01-04-2018 31-05-2018\n",
       "17  CU-S0017 101         01-03-2018 31-05-2018\n",
       "18  CU-S0018  83         01-03-2018 31-05-2018\n",
       "19  CU-S0019 101         01-04-2018 31-05-2018\n",
       "20  CU-S0020  65         01-03-2018 31-03-2018\n",
       "21  CU-S0021 100         01-03-2018 31-05-2018\n",
       "22  CU-S0022 112         01-03-2018 31-05-2018\n",
       "23  CU-S0023 106         01-03-2018 31-05-2018\n",
       "24  CU-S0024 113         01-03-2018 31-05-2018\n",
       "25  CU-S0025  79         01-03-2018 31-05-2018\n",
       "26  CU-S0026  51         02-03-2018 30-03-2018\n",
       "27  CU-S0027  95         01-03-2018 31-03-2018\n",
       "28  CU-S0028 105         01-04-2018 31-05-2018\n",
       "29  CU-S0029  97         01-03-2018 31-05-2018\n",
       "30  CU-S0030 110         01-03-2018 31-05-2018\n",
       "... ...      ...         ...        ...       \n",
       "64  CU-S0072  80         01-03-2018 31-05-2018\n",
       "65  CU-S0073 101         01-03-2018 31-05-2018\n",
       "66  CU-S0074  90         01-03-2018 31-05-2018\n",
       "67  CU-S0075 113         01-04-2018 31-05-2018\n",
       "68  CU-S0076 111         01-03-2018 31-05-2018\n",
       "69  CU-S0077   2         14-06-2018 30-03-2018\n",
       "70  CU-S0078  81         01-03-2018 31-05-2018\n",
       "71  CU-S0079  87         01-05-2018 31-05-2018\n",
       "72  CU-S0080  47         03-03-2018 31-05-2018\n",
       "73  CU-S0081 100         01-03-2018 31-05-2018\n",
       "74  CU-S0082 102         01-03-2018 31-05-2018\n",
       "75  CU-S0083   6         14-06-2018 27-02-2018\n",
       "76  CU-S0085  53         01-03-2018 31-05-2018\n",
       "77  CU-S0086 112         01-03-2018 31-05-2018\n",
       "78  CU-S0087  23         03-04-2018 30-03-2018\n",
       "79  CU-S0088  43         02-03-2018 31-03-2018\n",
       "80  CU-S0090 110         01-03-2018 31-05-2018\n",
       "81  CU-S0091 109         01-03-2018 31-05-2018\n",
       "82  CU-S0092   1         19-03-2018 19-03-2018\n",
       "83  CU-S0093 105         01-03-2018 31-05-2018\n",
       "84  CU-S0094  97         01-04-2018 31-05-2018\n",
       "85  CU-S0096 107         01-04-2018 31-05-2018\n",
       "86  CU-S0097   3         21-03-2018 27-02-2018\n",
       "87  CU-S0098 101         01-03-2018 31-05-2018\n",
       "88  CU-S0099  94         01-04-2018 31-05-2018\n",
       "89  CU-S0100  75         01-05-2018 31-05-2018\n",
       "90  CU-S0101 108         01-03-2018 31-05-2018\n",
       "91  CU-S0102  83         01-03-2018 31-05-2018\n",
       "92  CU-S0103  20         01-03-2018 28-02-2018\n",
       "93  CU-S0104  26         01-03-2018 28-03-2018"
      ]
     },
     "metadata": {},
     "output_type": "display_data"
    }
   ],
   "source": [
    "sqldf(\"select sensorid,count(pm25),min(date),max(date) from daily group by sensorid\")"
   ]
  },
  {
   "cell_type": "markdown",
   "metadata": {},
   "source": [
    "Update time to POSIXct"
   ]
  },
  {
   "cell_type": "code",
   "execution_count": 13,
   "metadata": {
    "collapsed": false
   },
   "outputs": [],
   "source": [
    "#hour$timepos <- as.POSIXct(strptime(paste(hour$date,hour$h), \"%Y-%m-%d %H\"))\n",
    "daily$timepos <- as.POSIXct(strptime(daily$date, \"%d-%m-%Y\"))"
   ]
  },
  {
   "cell_type": "markdown",
   "metadata": {},
   "source": [
    "Select only one day, then order it by sensorid and timepos respectively."
   ]
  },
  {
   "cell_type": "code",
   "execution_count": 14,
   "metadata": {
    "collapsed": true
   },
   "outputs": [],
   "source": [
    "#newhour<-hour[hour$timepos>=\"2018-03-08 00:00:00\" & hour$timepos<=\"2018-03-08 23:00:00\",]\n",
    "#newhour <- newhour[order(newhour$sensorid, newhour$timepos),]\n",
    "newdaily<-daily[daily$timepos>=\"2018-03-01\" & daily$timepos<=\"2018-03-31\",]\n",
    "newdaily<- newdaily[order(newdaily$sensorid, newdaily$timepos),]"
   ]
  },
  {
   "cell_type": "markdown",
   "metadata": {},
   "source": [
    "Count number of rows per id to check the completeness of data. เช็คว่าข้อมูลทุก sensor มีครบ 24 ชั่วโมงหรือไม่"
   ]
  },
  {
   "cell_type": "code",
   "execution_count": 20,
   "metadata": {
    "collapsed": false
   },
   "outputs": [],
   "source": [
    "#count<-sqldf(\"select sensorid,count() from newhour group by sensorid\") \n",
    "count<-sqldf(\"select sensorid,count() from newdaily group by sensorid\") \n",
    "colnames(count)<-c(\"sensorid\",\"c\")\n",
    "#sensorFull <-as.matrix(count[count$c == 24,]$sensorid)\n",
    "sensorFull <-as.matrix(count[count$c == 31,]$sensorid)"
   ]
  },
  {
   "cell_type": "markdown",
   "metadata": {},
   "source": [
    "Select only sensors that has 24 hour data"
   ]
  },
  {
   "cell_type": "code",
   "execution_count": 27,
   "metadata": {
    "collapsed": false
   },
   "outputs": [],
   "source": [
    "#newhour<-subset(newhour,sensorid %in% sensorFull)\n",
    "newdaily<-subset(newdaily,sensorid %in% sensorFull)\n",
    "#sqldf(\"select sensorid,min(date),max(date) from newdaily group by sensorid\")"
   ]
  },
  {
   "cell_type": "markdown",
   "metadata": {},
   "source": [
    "Check whether there is a weird value in the data."
   ]
  },
  {
   "cell_type": "code",
   "execution_count": 28,
   "metadata": {
    "collapsed": false
   },
   "outputs": [
    {
     "data": {
      "text/html": [
       "<table>\n",
       "<thead><tr><th scope=col>sensorid</th><th scope=col>min(pm25)</th><th scope=col>max(pm25)</th><th scope=col>avg(pm25)</th></tr></thead>\n",
       "<tbody>\n",
       "\t<tr><td>CU-S0059 </td><td>29.553295</td><td>171.63920</td><td>94.61422 </td></tr>\n",
       "\t<tr><td>CU-S0050 </td><td>32.052113</td><td>154.17626</td><td>97.54773 </td></tr>\n",
       "\t<tr><td>CU-S0032 </td><td>31.415857</td><td>151.13732</td><td>93.71037 </td></tr>\n",
       "\t<tr><td>CU-S0082 </td><td>30.614242</td><td>147.61969</td><td>91.59067 </td></tr>\n",
       "\t<tr><td>CU-S0046 </td><td>25.849739</td><td>146.64490</td><td>75.52957 </td></tr>\n",
       "\t<tr><td>CU-S0076 </td><td>29.840341</td><td>146.43197</td><td>86.00739 </td></tr>\n",
       "\t<tr><td>CU-S0051 </td><td>34.120061</td><td>144.64447</td><td>89.43083 </td></tr>\n",
       "\t<tr><td>CU-S0098 </td><td>30.402699</td><td>142.41799</td><td>88.59156 </td></tr>\n",
       "\t<tr><td>CU-S0030 </td><td>31.475393</td><td>142.14235</td><td>90.66519 </td></tr>\n",
       "\t<tr><td>CU-S0035 </td><td>25.547982</td><td>137.17351</td><td>76.74935 </td></tr>\n",
       "\t<tr><td>CU-S0004 </td><td>29.940997</td><td>130.66093</td><td>85.02764 </td></tr>\n",
       "\t<tr><td>CU-S0039 </td><td>29.688725</td><td>125.89470</td><td>81.29165 </td></tr>\n",
       "\t<tr><td>CU-S0042 </td><td>22.751611</td><td>125.35577</td><td>77.45111 </td></tr>\n",
       "\t<tr><td>CU-S0029 </td><td>23.436198</td><td>123.64392</td><td>81.79421 </td></tr>\n",
       "\t<tr><td>CU-S0054 </td><td>26.319788</td><td>123.52077</td><td>83.50845 </td></tr>\n",
       "\t<tr><td>CU-S0090 </td><td>24.798177</td><td>122.99077</td><td>78.46832 </td></tr>\n",
       "\t<tr><td>CU-S0086 </td><td>25.888330</td><td>115.41115</td><td>80.92638 </td></tr>\n",
       "\t<tr><td>CU-S0047 </td><td>23.171385</td><td>112.23872</td><td>78.71663 </td></tr>\n",
       "\t<tr><td>CU-S0022 </td><td>21.355638</td><td>112.21895</td><td>73.77415 </td></tr>\n",
       "\t<tr><td>CU-S0014 </td><td>19.901792</td><td>110.25898</td><td>69.17784 </td></tr>\n",
       "\t<tr><td>CU-S0091 </td><td>23.597953</td><td>109.00839</td><td>71.90555 </td></tr>\n",
       "\t<tr><td>CU-S0011 </td><td>19.206788</td><td>105.37050</td><td>72.29801 </td></tr>\n",
       "\t<tr><td>CU-S0024 </td><td> 8.616572</td><td> 51.67278</td><td>36.38237 </td></tr>\n",
       "</tbody>\n",
       "</table>\n"
      ],
      "text/latex": [
       "\\begin{tabular}{r|llll}\n",
       " sensorid & min(pm25) & max(pm25) & avg(pm25)\\\\\n",
       "\\hline\n",
       "\t CU-S0059  & 29.553295 & 171.63920 & 94.61422 \\\\\n",
       "\t CU-S0050  & 32.052113 & 154.17626 & 97.54773 \\\\\n",
       "\t CU-S0032  & 31.415857 & 151.13732 & 93.71037 \\\\\n",
       "\t CU-S0082  & 30.614242 & 147.61969 & 91.59067 \\\\\n",
       "\t CU-S0046  & 25.849739 & 146.64490 & 75.52957 \\\\\n",
       "\t CU-S0076  & 29.840341 & 146.43197 & 86.00739 \\\\\n",
       "\t CU-S0051  & 34.120061 & 144.64447 & 89.43083 \\\\\n",
       "\t CU-S0098  & 30.402699 & 142.41799 & 88.59156 \\\\\n",
       "\t CU-S0030  & 31.475393 & 142.14235 & 90.66519 \\\\\n",
       "\t CU-S0035  & 25.547982 & 137.17351 & 76.74935 \\\\\n",
       "\t CU-S0004  & 29.940997 & 130.66093 & 85.02764 \\\\\n",
       "\t CU-S0039  & 29.688725 & 125.89470 & 81.29165 \\\\\n",
       "\t CU-S0042  & 22.751611 & 125.35577 & 77.45111 \\\\\n",
       "\t CU-S0029  & 23.436198 & 123.64392 & 81.79421 \\\\\n",
       "\t CU-S0054  & 26.319788 & 123.52077 & 83.50845 \\\\\n",
       "\t CU-S0090  & 24.798177 & 122.99077 & 78.46832 \\\\\n",
       "\t CU-S0086  & 25.888330 & 115.41115 & 80.92638 \\\\\n",
       "\t CU-S0047  & 23.171385 & 112.23872 & 78.71663 \\\\\n",
       "\t CU-S0022  & 21.355638 & 112.21895 & 73.77415 \\\\\n",
       "\t CU-S0014  & 19.901792 & 110.25898 & 69.17784 \\\\\n",
       "\t CU-S0091  & 23.597953 & 109.00839 & 71.90555 \\\\\n",
       "\t CU-S0011  & 19.206788 & 105.37050 & 72.29801 \\\\\n",
       "\t CU-S0024  &  8.616572 &  51.67278 & 36.38237 \\\\\n",
       "\\end{tabular}\n"
      ],
      "text/markdown": [
       "\n",
       "sensorid | min(pm25) | max(pm25) | avg(pm25) | \n",
       "|---|---|---|---|---|---|---|---|---|---|---|---|---|---|---|---|---|---|---|---|---|---|---|\n",
       "| CU-S0059  | 29.553295 | 171.63920 | 94.61422  | \n",
       "| CU-S0050  | 32.052113 | 154.17626 | 97.54773  | \n",
       "| CU-S0032  | 31.415857 | 151.13732 | 93.71037  | \n",
       "| CU-S0082  | 30.614242 | 147.61969 | 91.59067  | \n",
       "| CU-S0046  | 25.849739 | 146.64490 | 75.52957  | \n",
       "| CU-S0076  | 29.840341 | 146.43197 | 86.00739  | \n",
       "| CU-S0051  | 34.120061 | 144.64447 | 89.43083  | \n",
       "| CU-S0098  | 30.402699 | 142.41799 | 88.59156  | \n",
       "| CU-S0030  | 31.475393 | 142.14235 | 90.66519  | \n",
       "| CU-S0035  | 25.547982 | 137.17351 | 76.74935  | \n",
       "| CU-S0004  | 29.940997 | 130.66093 | 85.02764  | \n",
       "| CU-S0039  | 29.688725 | 125.89470 | 81.29165  | \n",
       "| CU-S0042  | 22.751611 | 125.35577 | 77.45111  | \n",
       "| CU-S0029  | 23.436198 | 123.64392 | 81.79421  | \n",
       "| CU-S0054  | 26.319788 | 123.52077 | 83.50845  | \n",
       "| CU-S0090  | 24.798177 | 122.99077 | 78.46832  | \n",
       "| CU-S0086  | 25.888330 | 115.41115 | 80.92638  | \n",
       "| CU-S0047  | 23.171385 | 112.23872 | 78.71663  | \n",
       "| CU-S0022  | 21.355638 | 112.21895 | 73.77415  | \n",
       "| CU-S0014  | 19.901792 | 110.25898 | 69.17784  | \n",
       "| CU-S0091  | 23.597953 | 109.00839 | 71.90555  | \n",
       "| CU-S0011  | 19.206788 | 105.37050 | 72.29801  | \n",
       "| CU-S0024  |  8.616572 |  51.67278 | 36.38237  | \n",
       "\n",
       "\n"
      ],
      "text/plain": [
       "   sensorid min(pm25) max(pm25) avg(pm25)\n",
       "1  CU-S0059 29.553295 171.63920 94.61422 \n",
       "2  CU-S0050 32.052113 154.17626 97.54773 \n",
       "3  CU-S0032 31.415857 151.13732 93.71037 \n",
       "4  CU-S0082 30.614242 147.61969 91.59067 \n",
       "5  CU-S0046 25.849739 146.64490 75.52957 \n",
       "6  CU-S0076 29.840341 146.43197 86.00739 \n",
       "7  CU-S0051 34.120061 144.64447 89.43083 \n",
       "8  CU-S0098 30.402699 142.41799 88.59156 \n",
       "9  CU-S0030 31.475393 142.14235 90.66519 \n",
       "10 CU-S0035 25.547982 137.17351 76.74935 \n",
       "11 CU-S0004 29.940997 130.66093 85.02764 \n",
       "12 CU-S0039 29.688725 125.89470 81.29165 \n",
       "13 CU-S0042 22.751611 125.35577 77.45111 \n",
       "14 CU-S0029 23.436198 123.64392 81.79421 \n",
       "15 CU-S0054 26.319788 123.52077 83.50845 \n",
       "16 CU-S0090 24.798177 122.99077 78.46832 \n",
       "17 CU-S0086 25.888330 115.41115 80.92638 \n",
       "18 CU-S0047 23.171385 112.23872 78.71663 \n",
       "19 CU-S0022 21.355638 112.21895 73.77415 \n",
       "20 CU-S0014 19.901792 110.25898 69.17784 \n",
       "21 CU-S0091 23.597953 109.00839 71.90555 \n",
       "22 CU-S0011 19.206788 105.37050 72.29801 \n",
       "23 CU-S0024  8.616572  51.67278 36.38237 "
      ]
     },
     "metadata": {},
     "output_type": "display_data"
    }
   ],
   "source": [
    "#sqldf(\"select sensorid, min(pm25), max(pm25), avg(pm25) from newhour group by sensorid\")\n",
    "sqldf(\"select sensorid, min(pm25), max(pm25), avg(pm25) from newdaily group by sensorid order by max(pm25) desc\")"
   ]
  },
  {
   "cell_type": "markdown",
   "metadata": {},
   "source": [
    "### Input into the model"
   ]
  },
  {
   "cell_type": "markdown",
   "metadata": {},
   "source": [
    "The model use 3 inputs:\n",
    "1. Unique datetime list in order (วันที่แบบเรียงลำดับ)\n",
    "2. Unique sensorid in order (id แบบ เรียงลำดับ)\n",
    "3. Sensor data order by sensorid and time respectively (ข้อมูลเรียงลำดับตาม id กับ เวลา เพื่อให้เชื่อมกับ 1 กับ 2)"
   ]
  },
  {
   "cell_type": "code",
   "execution_count": 29,
   "metadata": {
    "collapsed": false
   },
   "outputs": [],
   "source": [
    "#datetime<-sqldf('select distinct(timepos) from newhour') #USE THIS\n",
    "datetime<-sqldf('select distinct(timepos) from newdaily')\n",
    "datetime<-as.data.frame(datetime[order(datetime$timepos),])\n",
    "colnames(datetime)<-c(\"timepos\")\n",
    "sensorid<-subset(sensorlist,sensorid %in% sensorFull)\n",
    "sensorid <- sensorid[order(sensorid$sensorid),]\n",
    "row.names(sensorid) = sensorid$sensorid"
   ]
  },
  {
   "cell_type": "markdown",
   "metadata": {},
   "source": [
    "Create a SpatialPointsDataFrame"
   ]
  },
  {
   "cell_type": "code",
   "execution_count": 30,
   "metadata": {
    "collapsed": false
   },
   "outputs": [],
   "source": [
    "coordinates(sensorid)=~lon+lat\n",
    "proj4string(sensorid)=CRS(\"+init=epsg:4326\")"
   ]
  },
  {
   "cell_type": "code",
   "execution_count": 31,
   "metadata": {
    "collapsed": false
   },
   "outputs": [],
   "source": [
    "sensoridSP <- SpatialPoints(sensorid@coords,CRS(\"+init=epsg:4326\")) "
   ]
  },
  {
   "cell_type": "markdown",
   "metadata": {},
   "source": [
    "Create spatio-temporal using STFDF function from spacetime library\n",
    "STFDF ข้อมูลจะแหว่งไม่ได้เลย"
   ]
  },
  {
   "cell_type": "code",
   "execution_count": 33,
   "metadata": {
    "collapsed": false,
    "scrolled": true
   },
   "outputs": [],
   "source": [
    "#stdata<-STFDF(sensoridSP,datetime$timepos,data.frame(PM2.5=as.vector(newhour$pm25)),delta(datetime$timepos))\n",
    "stdata<-STFDF(sensoridSP,datetime$timepos,data.frame(PM2.5=as.vector(newdaily$pm25)),delta(datetime$timepos))"
   ]
  },
  {
   "cell_type": "markdown",
   "metadata": {},
   "source": [
    "Then plot it"
   ]
  },
  {
   "cell_type": "code",
   "execution_count": 75,
   "metadata": {
    "collapsed": false
   },
   "outputs": [
    {
     "data": {},
     "metadata": {},
     "output_type": "display_data"
    },
    {
     "data": {
      "image/png": "[encoded data removed]",
      "text/plain": [
       "plot without title"
      ]
     },
     "metadata": {},
     "output_type": "display_data"
    }
   ],
   "source": [
    "colorsetting=c(\"#A9D08E\",\"#FFFFBF\",\"#FDAE61\",\"#D7191C\",\"#54278F\")\n",
    "colorlabelPM25 = c(\"น้อยกว่า 15\",\"15.01-40.00\",\"40.01-65.00\",\"65-150\",\"มากกว่า 150\")\n",
    "\n",
    "scales <- list(x = list(rot = 45))\n",
    "\n",
    "stplot(stdata,mode=\"xt\",cuts=10,scales=scales,xlab=\"sensor ID\")"
   ]
  },
  {
   "cell_type": "code",
   "execution_count": 35,
   "metadata": {
    "collapsed": false
   },
   "outputs": [
    {
     "data": {
      "text/plain": [
       "Object of class STFDF\n",
       " with Dimensions (s, t, attr): (23, 31, 1)\n",
       "[[Spatial:]]\n",
       "Object of class SpatialPoints\n",
       "Coordinates:\n",
       "          min       max\n",
       "lon 100.45460 101.01180\n",
       "lat  18.57093  19.42211\n",
       "Is projected: FALSE \n",
       "proj4string :\n",
       "[+init=epsg:4326 +proj=longlat +datum=WGS84 +no_defs +ellps=WGS84\n",
       "+towgs84=0,0,0]\n",
       "Number of points: 23\n",
       "[[Temporal:]]\n",
       "     Index                       timeIndex   \n",
       " Min.   :2018-03-01 00:00:00   Min.   : 1.0  \n",
       " 1st Qu.:2018-03-08 12:00:00   1st Qu.: 8.5  \n",
       " Median :2018-03-16 00:00:00   Median :16.0  \n",
       " Mean   :2018-03-16 00:00:00   Mean   :16.0  \n",
       " 3rd Qu.:2018-03-23 12:00:00   3rd Qu.:23.5  \n",
       " Max.   :2018-03-31 00:00:00   Max.   :31.0  \n",
       "[[Data attributes:]]\n",
       "     PM2.5        \n",
       " Min.   :  8.617  \n",
       " 1st Qu.: 61.451  \n",
       " Median : 81.066  \n",
       " Mean   : 80.659  \n",
       " 3rd Qu.: 97.624  \n",
       " Max.   :171.639  "
      ]
     },
     "metadata": {},
     "output_type": "display_data"
    }
   ],
   "source": [
    "summary(stdata)"
   ]
  },
  {
   "cell_type": "markdown",
   "metadata": {},
   "source": [
    "เลือกกลุ่มแรกๆมาจากที่แบ่ง k-mean ใน 2018 Analysis"
   ]
  },
  {
   "cell_type": "code",
   "execution_count": 37,
   "metadata": {
    "collapsed": false
   },
   "outputs": [],
   "source": [
    "rn <- c(\"CU-S0059\",\"CU-S0064\",\"CU-S0046\",\"CU-S0081\",\"CU-S0093\",\"CU-S0072\")"
   ]
  },
  {
   "cell_type": "code",
   "execution_count": 38,
   "metadata": {
    "collapsed": false
   },
   "outputs": [
    {
     "data": {
      "image/png": "[encoded data removed]",
      "text/plain": [
       "Plot with title \"CU-S0046\""
      ]
     },
     "metadata": {},
     "output_type": "display_data"
    }
   ],
   "source": [
    "acf(na.omit(as(stdata[rn,],\"xts\")),lag=16)"
   ]
  },
  {
   "cell_type": "code",
   "execution_count": 47,
   "metadata": {
    "collapsed": false
   },
   "outputs": [],
   "source": [
    "library(gstat)\n",
    "vv = variogram(PM2.5~1, stdata, width=20, cutoff = 40, tlags=0:5)"
   ]
  },
  {
   "cell_type": "code",
   "execution_count": 44,
   "metadata": {
    "collapsed": false
   },
   "outputs": [
    {
     "data": {},
     "metadata": {},
     "output_type": "display_data"
    },
    {
     "data": {
      "image/png": "[encoded data removed]",
      "text/plain": [
       "plot without title"
      ]
     },
     "metadata": {},
     "output_type": "display_data"
    }
   ],
   "source": [
    "plot(vv)"
   ]
  },
  {
   "cell_type": "code",
   "execution_count": 45,
   "metadata": {
    "collapsed": false
   },
   "outputs": [
    {
     "data": {},
     "metadata": {},
     "output_type": "display_data"
    },
    {
     "data": {
      "image/png": "[encoded data removed]",
      "text/plain": [
       "plot without title"
      ]
     },
     "metadata": {},
     "output_type": "display_data"
    }
   ],
   "source": [
    "plot(vv, map = FALSE)"
   ]
  },
  {
   "cell_type": "code",
   "execution_count": 46,
   "metadata": {
    "collapsed": false
   },
   "outputs": [
    {
     "data": {},
     "metadata": {},
     "output_type": "display_data"
    },
    {
     "data": {
      "image/png": "[encoded data removed]",
      "text/plain": [
       "plot without title"
      ]
     },
     "metadata": {},
     "output_type": "display_data"
    }
   ],
   "source": [
    "library(lattice)\n",
    "plot(vv,all=T, wireframe=T)"
   ]
  }
 ],
 "metadata": {
  "kernelspec": {
   "display_name": "R",
   "language": "R",
   "name": "ir"
  },
  "language_info": {
   "codemirror_mode": "r",
   "file_extension": ".r",
   "mimetype": "text/x-r-source",
   "name": "R",
   "pygments_lexer": "r",
   "version": "3.3.3"
  }
 },
 "nbformat": 4,
 "nbformat_minor": 2
}
