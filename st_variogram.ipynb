{
 "cells": [
  {
   "cell_type": "markdown",
   "metadata": {},
   "source": [
    "### Spatio-Temporal Variogram"
   ]
  },
  {
   "cell_type": "markdown",
   "metadata": {},
   "source": [
    "First, load library and set encoding"
   ]
  },
  {
   "cell_type": "code",
   "execution_count": 2,
   "metadata": {
    "collapsed": false
   },
   "outputs": [
    {
     "name": "stderr",
     "output_type": "stream",
     "text": [
      "Loading required package: gsubfn\n",
      "Loading required package: proto\n",
      "Loading required package: RSQLite\n",
      "\n",
      "Attaching package: 'dplyr'\n",
      "\n",
      "The following objects are masked from 'package:stats':\n",
      "\n",
      "    filter, lag\n",
      "\n",
      "The following objects are masked from 'package:base':\n",
      "\n",
      "    intersect, setdiff, setequal, union\n",
      "\n"
     ]
    },
    {
     "data": {
      "text/html": [
       "'Thai_Thailand.874'"
      ],
      "text/latex": [
       "'Thai\\_Thailand.874'"
      ],
      "text/markdown": [
       "'Thai_Thailand.874'"
      ],
      "text/plain": [
       "[1] \"Thai_Thailand.874\""
      ]
     },
     "metadata": {},
     "output_type": "display_data"
    }
   ],
   "source": [
    "library(ggplot2)\n",
    "library(sqldf)\n",
    "library(dplyr)\n",
    "library(sp)\n",
    "library(spacetime)\n",
    "Sys.setlocale(\"LC_CTYPE\", \"thai\")\n",
    "options(encoding=\"UTF-8\")"
   ]
  },
  {
   "cell_type": "markdown",
   "metadata": {},
   "source": [
    "Set working directory (if needed)"
   ]
  },
  {
   "cell_type": "code",
   "execution_count": 3,
   "metadata": {
    "collapsed": true
   },
   "outputs": [],
   "source": [
    "#setwd(\"C:\\\\Users\\\\garavig\\\\Documents\\\\Haze\\\\HazeAnalysis\\\\Data\")"
   ]
  },
  {
   "cell_type": "markdown",
   "metadata": {},
   "source": [
    "Load and update sensorlist id to the newest. เบอร์ของเก่าปีที่แล้วมันผิด มี 0 เยอะเกิน ต้องแก้ไขก่อน"
   ]
  },
  {
   "cell_type": "code",
   "execution_count": 4,
   "metadata": {
    "collapsed": true
   },
   "outputs": [],
   "source": [
    "sensorlist<-read.csv(\"https://raw.githubusercontent.com/Maplub/MonthlyAirQuality/master/sensorlist.csv\",stringsAsFactors = FALSE)\n",
    "sensorlist[sensorlist$sensorid==\"CU-S00054\",1]<-\"CU-S0054\"\n",
    "sensorlist[sensorlist$sensorid==\"CU-S00083\",1]<-\"CU-S0083\"\n",
    "sensorlist[sensorlist$sensorid==\"CU-S00103\",1]<-\"CU-S0103\"\n",
    "sensorlist[sensorlist$sensorid==\"CU-S00104\",1]<-\"CU-S0104\"\n",
    "sensorlist$sensorid <- as.factor(sensorlist$sensorid)"
   ]
  },
  {
   "cell_type": "markdown",
   "metadata": {},
   "source": [
    "Load hourly data"
   ]
  },
  {
   "cell_type": "code",
   "execution_count": 5,
   "metadata": {
    "collapsed": false
   },
   "outputs": [],
   "source": [
    "hour<-read.csv(\"https://raw.githubusercontent.com/Maplub/AirQualityData/master/H_Mar_PM25_2561.csv\")"
   ]
  },
  {
   "cell_type": "code",
   "execution_count": 6,
   "metadata": {
    "collapsed": false
   },
   "outputs": [
    {
     "data": {
      "text/html": [
       "<table>\n",
       "<thead><tr><th scope=col>sensorid</th><th scope=col>date</th><th scope=col>h</th><th scope=col>pm25</th></tr></thead>\n",
       "<tbody>\n",
       "\t<tr><td>CU-S0002  </td><td>2018-03-01</td><td> 9        </td><td>43.06250  </td></tr>\n",
       "\t<tr><td>CU-S0002  </td><td>2018-03-01</td><td>10        </td><td>45.21875  </td></tr>\n",
       "\t<tr><td>CU-S0002  </td><td>2018-03-01</td><td>11        </td><td>48.02083  </td></tr>\n",
       "\t<tr><td>CU-S0002  </td><td>2018-03-01</td><td>12        </td><td>46.94792  </td></tr>\n",
       "\t<tr><td>CU-S0002  </td><td>2018-03-01</td><td>13        </td><td>44.92708  </td></tr>\n",
       "\t<tr><td>CU-S0002  </td><td>2018-03-01</td><td>14        </td><td>45.35417  </td></tr>\n",
       "</tbody>\n",
       "</table>\n"
      ],
      "text/latex": [
       "\\begin{tabular}{r|llll}\n",
       " sensorid & date & h & pm25\\\\\n",
       "\\hline\n",
       "\t CU-S0002   & 2018-03-01 &  9         & 43.06250  \\\\\n",
       "\t CU-S0002   & 2018-03-01 & 10         & 45.21875  \\\\\n",
       "\t CU-S0002   & 2018-03-01 & 11         & 48.02083  \\\\\n",
       "\t CU-S0002   & 2018-03-01 & 12         & 46.94792  \\\\\n",
       "\t CU-S0002   & 2018-03-01 & 13         & 44.92708  \\\\\n",
       "\t CU-S0002   & 2018-03-01 & 14         & 45.35417  \\\\\n",
       "\\end{tabular}\n"
      ],
      "text/markdown": [
       "\n",
       "sensorid | date | h | pm25 | \n",
       "|---|---|---|---|---|---|\n",
       "| CU-S0002   | 2018-03-01 |  9         | 43.06250   | \n",
       "| CU-S0002   | 2018-03-01 | 10         | 45.21875   | \n",
       "| CU-S0002   | 2018-03-01 | 11         | 48.02083   | \n",
       "| CU-S0002   | 2018-03-01 | 12         | 46.94792   | \n",
       "| CU-S0002   | 2018-03-01 | 13         | 44.92708   | \n",
       "| CU-S0002   | 2018-03-01 | 14         | 45.35417   | \n",
       "\n",
       "\n"
      ],
      "text/plain": [
       "  sensorid date       h  pm25    \n",
       "1 CU-S0002 2018-03-01  9 43.06250\n",
       "2 CU-S0002 2018-03-01 10 45.21875\n",
       "3 CU-S0002 2018-03-01 11 48.02083\n",
       "4 CU-S0002 2018-03-01 12 46.94792\n",
       "5 CU-S0002 2018-03-01 13 44.92708\n",
       "6 CU-S0002 2018-03-01 14 45.35417"
      ]
     },
     "metadata": {},
     "output_type": "display_data"
    }
   ],
   "source": [
    "head(hour)"
   ]
  },
  {
   "cell_type": "markdown",
   "metadata": {},
   "source": [
    "Update time to POSIXct"
   ]
  },
  {
   "cell_type": "code",
   "execution_count": 7,
   "metadata": {
    "collapsed": true
   },
   "outputs": [],
   "source": [
    "hour$timepos <- as.POSIXct(strptime(paste(hour$date,hour$h), \"%Y-%m-%d %H\"))"
   ]
  },
  {
   "cell_type": "markdown",
   "metadata": {},
   "source": [
    "Select only one day, then order it by sensorid and timepos respectively."
   ]
  },
  {
   "cell_type": "code",
   "execution_count": 8,
   "metadata": {
    "collapsed": true
   },
   "outputs": [],
   "source": [
    "newhour<-hour[hour$timepos>=\"2018-03-08 00:00:00\" & hour$timepos<=\"2018-03-08 23:00:00\",]\n",
    "newhour <- newhour[order(newhour$sensorid, newhour$timepos),]"
   ]
  },
  {
   "cell_type": "markdown",
   "metadata": {},
   "source": [
    "Count number of rows per id to check the completeness of data. เช็คว่าข้อมูลทุก sensor มีครบ 24 ชั่วโมงหรือไม่"
   ]
  },
  {
   "cell_type": "code",
   "execution_count": 9,
   "metadata": {
    "collapsed": true
   },
   "outputs": [],
   "source": [
    "count<-sqldf(\"select sensorid,count() from newhour group by sensorid\") \n",
    "colnames(count)<-c(\"sensorid\",\"c\")\n",
    "sensorFull <-as.matrix(count[count$c == 24,]$sensorid)"
   ]
  },
  {
   "cell_type": "markdown",
   "metadata": {},
   "source": [
    "Select only sensors that has 24 hour data"
   ]
  },
  {
   "cell_type": "code",
   "execution_count": 10,
   "metadata": {
    "collapsed": true
   },
   "outputs": [],
   "source": [
    "newhour<-subset(newhour,sensorid %in% sensorFull)"
   ]
  },
  {
   "cell_type": "markdown",
   "metadata": {},
   "source": [
    "Check whether there is a weird value in the data."
   ]
  },
  {
   "cell_type": "code",
   "execution_count": 31,
   "metadata": {
    "collapsed": false
   },
   "outputs": [
    {
     "data": {
      "text/html": [
       "<table>\n",
       "<thead><tr><th scope=col>sensorid</th><th scope=col>min(pm25)</th><th scope=col>max(pm25)</th><th scope=col>avg(pm25)</th></tr></thead>\n",
       "<tbody>\n",
       "\t<tr><td>CU-S0002 </td><td>54.89583 </td><td>211.13542</td><td>103.33701</td></tr>\n",
       "\t<tr><td>CU-S0003 </td><td>81.94792 </td><td>156.92708</td><td>114.85292</td></tr>\n",
       "\t<tr><td>CU-S0004 </td><td>78.12045 </td><td>162.11458</td><td>115.60325</td></tr>\n",
       "\t<tr><td>CU-S0005 </td><td>74.27083 </td><td>128.38542</td><td> 98.63508</td></tr>\n",
       "\t<tr><td>CU-S0006 </td><td>76.26042 </td><td>139.98958</td><td> 96.90617</td></tr>\n",
       "\t<tr><td>CU-S0014 </td><td>81.64583 </td><td>109.00000</td><td> 94.01910</td></tr>\n",
       "\t<tr><td>CU-S0015 </td><td>57.27083 </td><td>119.69792</td><td> 99.19884</td></tr>\n",
       "\t<tr><td>CU-S0017 </td><td>80.47727 </td><td>119.98958</td><td>101.82397</td></tr>\n",
       "\t<tr><td>CU-S0018 </td><td>73.77273 </td><td>140.77500</td><td> 98.00807</td></tr>\n",
       "\t<tr><td>CU-S0021 </td><td>80.78125 </td><td>128.77083</td><td>104.08898</td></tr>\n",
       "\t<tr><td>CU-S0023 </td><td>54.27083 </td><td>131.76042</td><td> 88.26649</td></tr>\n",
       "\t<tr><td>CU-S0024 </td><td>30.89773 </td><td> 68.42708</td><td> 47.34890</td></tr>\n",
       "\t<tr><td>CU-S0025 </td><td>70.00000 </td><td>117.45833</td><td> 93.98844</td></tr>\n",
       "\t<tr><td>CU-S0026 </td><td>59.12500 </td><td>164.70833</td><td>102.95005</td></tr>\n",
       "\t<tr><td>CU-S0027 </td><td>54.00000 </td><td>152.32955</td><td> 96.16929</td></tr>\n",
       "\t<tr><td>CU-S0028 </td><td>37.96875 </td><td> 81.75000</td><td> 57.67969</td></tr>\n",
       "\t<tr><td>CU-S0029 </td><td>79.52083 </td><td>132.55208</td><td>109.11762</td></tr>\n",
       "\t<tr><td>CU-S0030 </td><td>60.43750 </td><td>145.71875</td><td>107.69991</td></tr>\n",
       "\t<tr><td>CU-S0032 </td><td>61.69792 </td><td>184.82292</td><td>122.36581</td></tr>\n",
       "\t<tr><td>CU-S0033 </td><td>60.83333 </td><td>125.42708</td><td> 95.54871</td></tr>\n",
       "\t<tr><td>CU-S0035 </td><td>55.17708 </td><td>114.60417</td><td> 87.57393</td></tr>\n",
       "\t<tr><td>CU-S0040 </td><td>69.14583 </td><td>164.02083</td><td>112.63889</td></tr>\n",
       "\t<tr><td>CU-S0042 </td><td>75.70833 </td><td>129.73958</td><td> 97.45804</td></tr>\n",
       "\t<tr><td>CU-S0045 </td><td>60.53125 </td><td>176.35417</td><td>116.57865</td></tr>\n",
       "\t<tr><td>CU-S0046 </td><td>57.88542 </td><td>127.65625</td><td> 88.06630</td></tr>\n",
       "\t<tr><td>CU-S0047 </td><td>76.41667 </td><td>128.04167</td><td> 98.39410</td></tr>\n",
       "\t<tr><td>CU-S0050 </td><td>55.42708 </td><td>176.67708</td><td>112.31877</td></tr>\n",
       "\t<tr><td>CU-S0051 </td><td>52.03125 </td><td>191.25000</td><td>118.20401</td></tr>\n",
       "\t<tr><td>CU-S0052 </td><td>56.37500 </td><td> 97.33333</td><td> 81.89938</td></tr>\n",
       "\t<tr><td>CU-S0054 </td><td>75.45455 </td><td>169.11136</td><td>109.72700</td></tr>\n",
       "\t<tr><td>CU-S0056 </td><td>59.51042 </td><td>201.09375</td><td>132.51302</td></tr>\n",
       "\t<tr><td>CU-S0059 </td><td>61.00000 </td><td>132.48958</td><td>104.61215</td></tr>\n",
       "\t<tr><td>CU-S0060 </td><td>84.01042 </td><td>137.69792</td><td>107.99841</td></tr>\n",
       "\t<tr><td>CU-S0064 </td><td>67.98958 </td><td>113.94062</td><td> 87.55454</td></tr>\n",
       "\t<tr><td>CU-S0070 </td><td>53.34375 </td><td>138.97917</td><td> 93.36458</td></tr>\n",
       "\t<tr><td>CU-S0071 </td><td>70.35417 </td><td>126.40625</td><td> 98.82422</td></tr>\n",
       "\t<tr><td>CU-S0073 </td><td>85.69792 </td><td>168.90625</td><td>115.08333</td></tr>\n",
       "\t<tr><td>CU-S0076 </td><td>61.03125 </td><td>133.07292</td><td>100.10050</td></tr>\n",
       "\t<tr><td>CU-S0085 </td><td>82.33333 </td><td>149.17045</td><td>109.32964</td></tr>\n",
       "\t<tr><td>CU-S0086 </td><td>79.27083 </td><td>140.14896</td><td>106.51783</td></tr>\n",
       "\t<tr><td>CU-S0090 </td><td>76.51042 </td><td>134.94792</td><td>108.57118</td></tr>\n",
       "\t<tr><td>CU-S0091 </td><td>58.80208 </td><td>114.46875</td><td> 85.59121</td></tr>\n",
       "\t<tr><td>CU-S0093 </td><td>63.39583 </td><td>131.34375</td><td> 95.60772</td></tr>\n",
       "\t<tr><td>CU-S0096 </td><td>35.70833 </td><td> 92.15625</td><td> 55.12358</td></tr>\n",
       "\t<tr><td>CU-S0098 </td><td>63.08333 </td><td>130.02083</td><td> 98.46535</td></tr>\n",
       "</tbody>\n",
       "</table>\n"
      ],
      "text/latex": [
       "\\begin{tabular}{r|llll}\n",
       " sensorid & min(pm25) & max(pm25) & avg(pm25)\\\\\n",
       "\\hline\n",
       "\t CU-S0002  & 54.89583  & 211.13542 & 103.33701\\\\\n",
       "\t CU-S0003  & 81.94792  & 156.92708 & 114.85292\\\\\n",
       "\t CU-S0004  & 78.12045  & 162.11458 & 115.60325\\\\\n",
       "\t CU-S0005  & 74.27083  & 128.38542 &  98.63508\\\\\n",
       "\t CU-S0006  & 76.26042  & 139.98958 &  96.90617\\\\\n",
       "\t CU-S0014  & 81.64583  & 109.00000 &  94.01910\\\\\n",
       "\t CU-S0015  & 57.27083  & 119.69792 &  99.19884\\\\\n",
       "\t CU-S0017  & 80.47727  & 119.98958 & 101.82397\\\\\n",
       "\t CU-S0018  & 73.77273  & 140.77500 &  98.00807\\\\\n",
       "\t CU-S0021  & 80.78125  & 128.77083 & 104.08898\\\\\n",
       "\t CU-S0023  & 54.27083  & 131.76042 &  88.26649\\\\\n",
       "\t CU-S0024  & 30.89773  &  68.42708 &  47.34890\\\\\n",
       "\t CU-S0025  & 70.00000  & 117.45833 &  93.98844\\\\\n",
       "\t CU-S0026  & 59.12500  & 164.70833 & 102.95005\\\\\n",
       "\t CU-S0027  & 54.00000  & 152.32955 &  96.16929\\\\\n",
       "\t CU-S0028  & 37.96875  &  81.75000 &  57.67969\\\\\n",
       "\t CU-S0029  & 79.52083  & 132.55208 & 109.11762\\\\\n",
       "\t CU-S0030  & 60.43750  & 145.71875 & 107.69991\\\\\n",
       "\t CU-S0032  & 61.69792  & 184.82292 & 122.36581\\\\\n",
       "\t CU-S0033  & 60.83333  & 125.42708 &  95.54871\\\\\n",
       "\t CU-S0035  & 55.17708  & 114.60417 &  87.57393\\\\\n",
       "\t CU-S0040  & 69.14583  & 164.02083 & 112.63889\\\\\n",
       "\t CU-S0042  & 75.70833  & 129.73958 &  97.45804\\\\\n",
       "\t CU-S0045  & 60.53125  & 176.35417 & 116.57865\\\\\n",
       "\t CU-S0046  & 57.88542  & 127.65625 &  88.06630\\\\\n",
       "\t CU-S0047  & 76.41667  & 128.04167 &  98.39410\\\\\n",
       "\t CU-S0050  & 55.42708  & 176.67708 & 112.31877\\\\\n",
       "\t CU-S0051  & 52.03125  & 191.25000 & 118.20401\\\\\n",
       "\t CU-S0052  & 56.37500  &  97.33333 &  81.89938\\\\\n",
       "\t CU-S0054  & 75.45455  & 169.11136 & 109.72700\\\\\n",
       "\t CU-S0056  & 59.51042  & 201.09375 & 132.51302\\\\\n",
       "\t CU-S0059  & 61.00000  & 132.48958 & 104.61215\\\\\n",
       "\t CU-S0060  & 84.01042  & 137.69792 & 107.99841\\\\\n",
       "\t CU-S0064  & 67.98958  & 113.94062 &  87.55454\\\\\n",
       "\t CU-S0070  & 53.34375  & 138.97917 &  93.36458\\\\\n",
       "\t CU-S0071  & 70.35417  & 126.40625 &  98.82422\\\\\n",
       "\t CU-S0073  & 85.69792  & 168.90625 & 115.08333\\\\\n",
       "\t CU-S0076  & 61.03125  & 133.07292 & 100.10050\\\\\n",
       "\t CU-S0085  & 82.33333  & 149.17045 & 109.32964\\\\\n",
       "\t CU-S0086  & 79.27083  & 140.14896 & 106.51783\\\\\n",
       "\t CU-S0090  & 76.51042  & 134.94792 & 108.57118\\\\\n",
       "\t CU-S0091  & 58.80208  & 114.46875 &  85.59121\\\\\n",
       "\t CU-S0093  & 63.39583  & 131.34375 &  95.60772\\\\\n",
       "\t CU-S0096  & 35.70833  &  92.15625 &  55.12358\\\\\n",
       "\t CU-S0098  & 63.08333  & 130.02083 &  98.46535\\\\\n",
       "\\end{tabular}\n"
      ],
      "text/markdown": [
       "\n",
       "sensorid | min(pm25) | max(pm25) | avg(pm25) | \n",
       "|---|---|---|---|---|---|---|---|---|---|---|---|---|---|---|---|---|---|---|---|---|---|---|---|---|---|---|---|---|---|---|---|---|---|---|---|---|---|---|---|---|---|---|---|---|\n",
       "| CU-S0002  | 54.89583  | 211.13542 | 103.33701 | \n",
       "| CU-S0003  | 81.94792  | 156.92708 | 114.85292 | \n",
       "| CU-S0004  | 78.12045  | 162.11458 | 115.60325 | \n",
       "| CU-S0005  | 74.27083  | 128.38542 |  98.63508 | \n",
       "| CU-S0006  | 76.26042  | 139.98958 |  96.90617 | \n",
       "| CU-S0014  | 81.64583  | 109.00000 |  94.01910 | \n",
       "| CU-S0015  | 57.27083  | 119.69792 |  99.19884 | \n",
       "| CU-S0017  | 80.47727  | 119.98958 | 101.82397 | \n",
       "| CU-S0018  | 73.77273  | 140.77500 |  98.00807 | \n",
       "| CU-S0021  | 80.78125  | 128.77083 | 104.08898 | \n",
       "| CU-S0023  | 54.27083  | 131.76042 |  88.26649 | \n",
       "| CU-S0024  | 30.89773  |  68.42708 |  47.34890 | \n",
       "| CU-S0025  | 70.00000  | 117.45833 |  93.98844 | \n",
       "| CU-S0026  | 59.12500  | 164.70833 | 102.95005 | \n",
       "| CU-S0027  | 54.00000  | 152.32955 |  96.16929 | \n",
       "| CU-S0028  | 37.96875  |  81.75000 |  57.67969 | \n",
       "| CU-S0029  | 79.52083  | 132.55208 | 109.11762 | \n",
       "| CU-S0030  | 60.43750  | 145.71875 | 107.69991 | \n",
       "| CU-S0032  | 61.69792  | 184.82292 | 122.36581 | \n",
       "| CU-S0033  | 60.83333  | 125.42708 |  95.54871 | \n",
       "| CU-S0035  | 55.17708  | 114.60417 |  87.57393 | \n",
       "| CU-S0040  | 69.14583  | 164.02083 | 112.63889 | \n",
       "| CU-S0042  | 75.70833  | 129.73958 |  97.45804 | \n",
       "| CU-S0045  | 60.53125  | 176.35417 | 116.57865 | \n",
       "| CU-S0046  | 57.88542  | 127.65625 |  88.06630 | \n",
       "| CU-S0047  | 76.41667  | 128.04167 |  98.39410 | \n",
       "| CU-S0050  | 55.42708  | 176.67708 | 112.31877 | \n",
       "| CU-S0051  | 52.03125  | 191.25000 | 118.20401 | \n",
       "| CU-S0052  | 56.37500  |  97.33333 |  81.89938 | \n",
       "| CU-S0054  | 75.45455  | 169.11136 | 109.72700 | \n",
       "| CU-S0056  | 59.51042  | 201.09375 | 132.51302 | \n",
       "| CU-S0059  | 61.00000  | 132.48958 | 104.61215 | \n",
       "| CU-S0060  | 84.01042  | 137.69792 | 107.99841 | \n",
       "| CU-S0064  | 67.98958  | 113.94062 |  87.55454 | \n",
       "| CU-S0070  | 53.34375  | 138.97917 |  93.36458 | \n",
       "| CU-S0071  | 70.35417  | 126.40625 |  98.82422 | \n",
       "| CU-S0073  | 85.69792  | 168.90625 | 115.08333 | \n",
       "| CU-S0076  | 61.03125  | 133.07292 | 100.10050 | \n",
       "| CU-S0085  | 82.33333  | 149.17045 | 109.32964 | \n",
       "| CU-S0086  | 79.27083  | 140.14896 | 106.51783 | \n",
       "| CU-S0090  | 76.51042  | 134.94792 | 108.57118 | \n",
       "| CU-S0091  | 58.80208  | 114.46875 |  85.59121 | \n",
       "| CU-S0093  | 63.39583  | 131.34375 |  95.60772 | \n",
       "| CU-S0096  | 35.70833  |  92.15625 |  55.12358 | \n",
       "| CU-S0098  | 63.08333  | 130.02083 |  98.46535 | \n",
       "\n",
       "\n"
      ],
      "text/plain": [
       "   sensorid min(pm25) max(pm25) avg(pm25)\n",
       "1  CU-S0002 54.89583  211.13542 103.33701\n",
       "2  CU-S0003 81.94792  156.92708 114.85292\n",
       "3  CU-S0004 78.12045  162.11458 115.60325\n",
       "4  CU-S0005 74.27083  128.38542  98.63508\n",
       "5  CU-S0006 76.26042  139.98958  96.90617\n",
       "6  CU-S0014 81.64583  109.00000  94.01910\n",
       "7  CU-S0015 57.27083  119.69792  99.19884\n",
       "8  CU-S0017 80.47727  119.98958 101.82397\n",
       "9  CU-S0018 73.77273  140.77500  98.00807\n",
       "10 CU-S0021 80.78125  128.77083 104.08898\n",
       "11 CU-S0023 54.27083  131.76042  88.26649\n",
       "12 CU-S0024 30.89773   68.42708  47.34890\n",
       "13 CU-S0025 70.00000  117.45833  93.98844\n",
       "14 CU-S0026 59.12500  164.70833 102.95005\n",
       "15 CU-S0027 54.00000  152.32955  96.16929\n",
       "16 CU-S0028 37.96875   81.75000  57.67969\n",
       "17 CU-S0029 79.52083  132.55208 109.11762\n",
       "18 CU-S0030 60.43750  145.71875 107.69991\n",
       "19 CU-S0032 61.69792  184.82292 122.36581\n",
       "20 CU-S0033 60.83333  125.42708  95.54871\n",
       "21 CU-S0035 55.17708  114.60417  87.57393\n",
       "22 CU-S0040 69.14583  164.02083 112.63889\n",
       "23 CU-S0042 75.70833  129.73958  97.45804\n",
       "24 CU-S0045 60.53125  176.35417 116.57865\n",
       "25 CU-S0046 57.88542  127.65625  88.06630\n",
       "26 CU-S0047 76.41667  128.04167  98.39410\n",
       "27 CU-S0050 55.42708  176.67708 112.31877\n",
       "28 CU-S0051 52.03125  191.25000 118.20401\n",
       "29 CU-S0052 56.37500   97.33333  81.89938\n",
       "30 CU-S0054 75.45455  169.11136 109.72700\n",
       "31 CU-S0056 59.51042  201.09375 132.51302\n",
       "32 CU-S0059 61.00000  132.48958 104.61215\n",
       "33 CU-S0060 84.01042  137.69792 107.99841\n",
       "34 CU-S0064 67.98958  113.94062  87.55454\n",
       "35 CU-S0070 53.34375  138.97917  93.36458\n",
       "36 CU-S0071 70.35417  126.40625  98.82422\n",
       "37 CU-S0073 85.69792  168.90625 115.08333\n",
       "38 CU-S0076 61.03125  133.07292 100.10050\n",
       "39 CU-S0085 82.33333  149.17045 109.32964\n",
       "40 CU-S0086 79.27083  140.14896 106.51783\n",
       "41 CU-S0090 76.51042  134.94792 108.57118\n",
       "42 CU-S0091 58.80208  114.46875  85.59121\n",
       "43 CU-S0093 63.39583  131.34375  95.60772\n",
       "44 CU-S0096 35.70833   92.15625  55.12358\n",
       "45 CU-S0098 63.08333  130.02083  98.46535"
      ]
     },
     "metadata": {},
     "output_type": "display_data"
    }
   ],
   "source": [
    "sqldf(\"select sensorid, min(pm25), max(pm25), avg(pm25) from newhour group by sensorid\")"
   ]
  },
  {
   "cell_type": "markdown",
   "metadata": {},
   "source": [
    "The model use 3 inputs:\n",
    "1. Unique datetime list in order (วันที่แบบเรียงลำดับ)\n",
    "2. Unique sensorid in order (id แบบ เรียงลำดับ)\n",
    "3. Sensor data order by sensorid and time respectively (ข้อมูลเรียงลำดับตาม id กับ เวลา เพื่อให้เชื่อมกับ 1 กับ 2)"
   ]
  },
  {
   "cell_type": "code",
   "execution_count": 11,
   "metadata": {
    "collapsed": true
   },
   "outputs": [],
   "source": [
    "datetime<-sqldf('select distinct(timepos) from newhour') #USE THIS\n",
    "sensorid<-subset(sensorlist,sensorid %in% sensorFull)\n",
    "sensorid <- sensorid[order(sensorid$sensorid),]\n",
    "row.names(sensorid) = sensorid$sensorid"
   ]
  },
  {
   "cell_type": "markdown",
   "metadata": {},
   "source": [
    "Create a SpatialPointsDataFrame"
   ]
  },
  {
   "cell_type": "code",
   "execution_count": 12,
   "metadata": {
    "collapsed": false
   },
   "outputs": [],
   "source": [
    "coordinates(sensorid)=~lon+lat\n",
    "proj4string(sensorid)=CRS(\"+init=epsg:4326\")"
   ]
  },
  {
   "cell_type": "code",
   "execution_count": 13,
   "metadata": {
    "collapsed": false
   },
   "outputs": [],
   "source": [
    "sensoridSP <- SpatialPoints(sensorid@coords,CRS(\"+init=epsg:4326\")) "
   ]
  },
  {
   "cell_type": "markdown",
   "metadata": {},
   "source": [
    "Create spatio-temporal using STFDF function from spacetime library"
   ]
  },
  {
   "cell_type": "code",
   "execution_count": 14,
   "metadata": {
    "collapsed": false,
    "scrolled": true
   },
   "outputs": [],
   "source": [
    "stdata<-STFDF(sensoridSP,datetime$timepos,data.frame(PM2.5=as.vector(newhour$pm25)),delta(datetime$timepos))"
   ]
  },
  {
   "cell_type": "markdown",
   "metadata": {},
   "source": [
    "Then plot it"
   ]
  },
  {
   "cell_type": "code",
   "execution_count": 15,
   "metadata": {
    "collapsed": false
   },
   "outputs": [
    {
     "data": {},
     "metadata": {},
     "output_type": "display_data"
    },
    {
     "data": {
      "image/png": "[encoded data removed]",
      "text/plain": [
       "plot without title"
      ]
     },
     "metadata": {},
     "output_type": "display_data"
    }
   ],
   "source": [
    "stplot(stdata,cuts=7)"
   ]
  },
  {
   "cell_type": "code",
   "execution_count": 16,
   "metadata": {
    "collapsed": false
   },
   "outputs": [
    {
     "data": {
      "text/plain": [
       "Object of class STFDF\n",
       " with Dimensions (s, t, attr): (45, 24, 1)\n",
       "[[Spatial:]]\n",
       "Object of class SpatialPoints\n",
       "Coordinates:\n",
       "         min      max\n",
       "lon 100.4356 101.2006\n",
       "lat  18.1609  19.5797\n",
       "Is projected: FALSE \n",
       "proj4string :\n",
       "[+init=epsg:4326 +proj=longlat +datum=WGS84 +no_defs +ellps=WGS84\n",
       "+towgs84=0,0,0]\n",
       "Number of points: 45\n",
       "[[Temporal:]]\n",
       "     Index                       timeIndex    \n",
       " Min.   :2018-03-08 00:00:00   Min.   : 1.00  \n",
       " 1st Qu.:2018-03-08 05:45:00   1st Qu.: 6.75  \n",
       " Median :2018-03-08 11:30:00   Median :12.50  \n",
       " Mean   :2018-03-08 11:30:00   Mean   :12.50  \n",
       " 3rd Qu.:2018-03-08 17:15:00   3rd Qu.:18.25  \n",
       " Max.   :2018-03-08 23:00:00   Max.   :24.00  \n",
       "[[Data attributes:]]\n",
       "     PM2.5       \n",
       " Min.   : 30.90  \n",
       " 1st Qu.: 77.31  \n",
       " Median : 95.48  \n",
       " Mean   : 99.33  \n",
       " 3rd Qu.:119.93  \n",
       " Max.   :211.14  "
      ]
     },
     "metadata": {},
     "output_type": "display_data"
    }
   ],
   "source": [
    "summary(stdata)"
   ]
  },
  {
   "cell_type": "markdown",
   "metadata": {},
   "source": [
    "เลือกกลุ่มแรกๆมาจากที่แบ่ง k-mean ใน 2018 Analysis"
   ]
  },
  {
   "cell_type": "code",
   "execution_count": 17,
   "metadata": {
    "collapsed": false
   },
   "outputs": [],
   "source": [
    "rn <- c(\"CU-S0059\",\"CU-S0064\",\"CU-S0046\",\"CU-S0081\",\"CU-S0093\",\"CU-S0072\")"
   ]
  },
  {
   "cell_type": "code",
   "execution_count": 18,
   "metadata": {
    "collapsed": false
   },
   "outputs": [
    {
     "data": {
      "image/png": "[encoded data removed]",
      "text/plain": [
       "Plot with title \"CU-S0093\""
      ]
     },
     "metadata": {},
     "output_type": "display_data"
    }
   ],
   "source": [
    "acf(na.omit(as(stdata[rn,],\"xts\")),lag=16)"
   ]
  },
  {
   "cell_type": "code",
   "execution_count": 24,
   "metadata": {
    "collapsed": false
   },
   "outputs": [],
   "source": [
    "library(gstat)\n",
    "vv = variogram(PM2.5~1, stdata, width=20, cutoff = 200, tlags=0:10)"
   ]
  },
  {
   "cell_type": "code",
   "execution_count": 25,
   "metadata": {
    "collapsed": false
   },
   "outputs": [
    {
     "data": {},
     "metadata": {},
     "output_type": "display_data"
    },
    {
     "data": {
      "image/png": "[encoded data removed]",
      "text/plain": [
       "plot without title"
      ]
     },
     "metadata": {},
     "output_type": "display_data"
    }
   ],
   "source": [
    "plot(vv)"
   ]
  },
  {
   "cell_type": "code",
   "execution_count": 26,
   "metadata": {
    "collapsed": false
   },
   "outputs": [
    {
     "data": {},
     "metadata": {},
     "output_type": "display_data"
    },
    {
     "data": {
      "image/png": "[encoded data removed]",
      "text/plain": [
       "plot without title"
      ]
     },
     "metadata": {},
     "output_type": "display_data"
    }
   ],
   "source": [
    "plot(vv, map = FALSE)"
   ]
  },
  {
   "cell_type": "code",
   "execution_count": 27,
   "metadata": {
    "collapsed": false
   },
   "outputs": [
    {
     "data": {},
     "metadata": {},
     "output_type": "display_data"
    },
    {
     "data": {
      "image/png": "[encoded data removed]",
      "text/plain": [
       "plot without title"
      ]
     },
     "metadata": {},
     "output_type": "display_data"
    }
   ],
   "source": [
    "library(lattice)\n",
    "plot(vv,all=T, wireframe=T)"
   ]
  }
 ],
 "metadata": {
  "kernelspec": {
   "display_name": "R",
   "language": "R",
   "name": "ir"
  },
  "language_info": {
   "codemirror_mode": "r",
   "file_extension": ".r",
   "mimetype": "text/x-r-source",
   "name": "R",
   "pygments_lexer": "r",
   "version": "3.3.3"
  }
 },
 "nbformat": 4,
 "nbformat_minor": 2
}
