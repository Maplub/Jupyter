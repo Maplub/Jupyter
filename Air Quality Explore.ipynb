{
 "cells": [
  {
   "cell_type": "markdown",
   "metadata": {},
   "source": [
    "# Air Quality Visualization\n",
    "\n",
    "### Plot daily average\n"
   ]
  },
  {
   "cell_type": "markdown",
   "metadata": {},
   "source": [
    "## 1.Clean the data"
   ]
  },
  {
   "cell_type": "code",
   "execution_count": 1,
   "metadata": {
    "collapsed": false
   },
   "outputs": [
    {
     "name": "stderr",
     "output_type": "stream",
     "text": [
      "Loading required package: gsubfn\n",
      "Loading required package: proto\n",
      "Loading required package: RSQLite\n"
     ]
    }
   ],
   "source": [
    "library(sqldf)"
   ]
  },
  {
   "cell_type": "code",
   "execution_count": 2,
   "metadata": {
    "collapsed": false
   },
   "outputs": [],
   "source": [
    "airq<-read.csv(\"C:\\\\Users\\\\garavig\\\\Documents\\\\express_map\\\\nan_daily.csv\")"
   ]
  },
  {
   "cell_type": "code",
   "execution_count": 3,
   "metadata": {
    "collapsed": false
   },
   "outputs": [
    {
     "data": {
      "text/html": [
       "<table>\n",
       "<thead><tr><th scope=col>id</th><th scope=col>y</th><th scope=col>m</th><th scope=col>d</th><th scope=col>doy</th><th scope=col>avgtemp</th><th scope=col>avghumid</th><th scope=col>avgpm1</th><th scope=col>avgpm25</th><th scope=col>avgpm10</th></tr></thead>\n",
       "<tbody>\n",
       "\t<tr><td>CU-S0001 </td><td>2016     </td><td>12       </td><td>13       </td><td>348      </td><td>29.76084 </td><td>52.75686 </td><td> 9.076708</td><td>18.696931</td><td>31.009752</td></tr>\n",
       "\t<tr><td>CU-S0001 </td><td>2016     </td><td>12       </td><td>14       </td><td>349      </td><td>25.02680 </td><td>46.91064 </td><td> 5.232055</td><td> 6.581523</td><td> 7.178168</td></tr>\n",
       "\t<tr><td>CU-S0001 </td><td>2016     </td><td>12       </td><td>15       </td><td>350      </td><td>21.84827 </td><td>67.65511 </td><td> 9.688295</td><td>12.462774</td><td>13.817642</td></tr>\n",
       "\t<tr><td>CU-S0001 </td><td>2016     </td><td>12       </td><td>16       </td><td>351      </td><td>20.24135 </td><td>78.71629 </td><td> 7.682900</td><td> 9.767872</td><td>10.637905</td></tr>\n",
       "\t<tr><td>CU-S0001 </td><td>2016     </td><td>12       </td><td>17       </td><td>352      </td><td>18.20701 </td><td>80.02571 </td><td> 1.031734</td><td> 1.322509</td><td> 1.462239</td></tr>\n",
       "\t<tr><td>CU-S0001 </td><td>2016     </td><td>12       </td><td>18       </td><td>353      </td><td>20.75683 </td><td>75.59185 </td><td>12.043110</td><td>16.343110</td><td>18.048031</td></tr>\n",
       "</tbody>\n",
       "</table>\n"
      ],
      "text/latex": [
       "\\begin{tabular}{r|llllllllll}\n",
       " id & y & m & d & doy & avgtemp & avghumid & avgpm1 & avgpm25 & avgpm10\\\\\n",
       "\\hline\n",
       "\t CU-S0001  & 2016      & 12        & 13        & 348       & 29.76084  & 52.75686  &  9.076708 & 18.696931 & 31.009752\\\\\n",
       "\t CU-S0001  & 2016      & 12        & 14        & 349       & 25.02680  & 46.91064  &  5.232055 &  6.581523 &  7.178168\\\\\n",
       "\t CU-S0001  & 2016      & 12        & 15        & 350       & 21.84827  & 67.65511  &  9.688295 & 12.462774 & 13.817642\\\\\n",
       "\t CU-S0001  & 2016      & 12        & 16        & 351       & 20.24135  & 78.71629  &  7.682900 &  9.767872 & 10.637905\\\\\n",
       "\t CU-S0001  & 2016      & 12        & 17        & 352       & 18.20701  & 80.02571  &  1.031734 &  1.322509 &  1.462239\\\\\n",
       "\t CU-S0001  & 2016      & 12        & 18        & 353       & 20.75683  & 75.59185  & 12.043110 & 16.343110 & 18.048031\\\\\n",
       "\\end{tabular}\n"
      ],
      "text/markdown": [
       "\n",
       "id | y | m | d | doy | avgtemp | avghumid | avgpm1 | avgpm25 | avgpm10 | \n",
       "|---|---|---|---|---|---|\n",
       "| CU-S0001  | 2016      | 12        | 13        | 348       | 29.76084  | 52.75686  |  9.076708 | 18.696931 | 31.009752 | \n",
       "| CU-S0001  | 2016      | 12        | 14        | 349       | 25.02680  | 46.91064  |  5.232055 |  6.581523 |  7.178168 | \n",
       "| CU-S0001  | 2016      | 12        | 15        | 350       | 21.84827  | 67.65511  |  9.688295 | 12.462774 | 13.817642 | \n",
       "| CU-S0001  | 2016      | 12        | 16        | 351       | 20.24135  | 78.71629  |  7.682900 |  9.767872 | 10.637905 | \n",
       "| CU-S0001  | 2016      | 12        | 17        | 352       | 18.20701  | 80.02571  |  1.031734 |  1.322509 |  1.462239 | \n",
       "| CU-S0001  | 2016      | 12        | 18        | 353       | 20.75683  | 75.59185  | 12.043110 | 16.343110 | 18.048031 | \n",
       "\n",
       "\n"
      ],
      "text/plain": [
       "  id       y    m  d  doy avgtemp  avghumid avgpm1    avgpm25   avgpm10  \n",
       "1 CU-S0001 2016 12 13 348 29.76084 52.75686  9.076708 18.696931 31.009752\n",
       "2 CU-S0001 2016 12 14 349 25.02680 46.91064  5.232055  6.581523  7.178168\n",
       "3 CU-S0001 2016 12 15 350 21.84827 67.65511  9.688295 12.462774 13.817642\n",
       "4 CU-S0001 2016 12 16 351 20.24135 78.71629  7.682900  9.767872 10.637905\n",
       "5 CU-S0001 2016 12 17 352 18.20701 80.02571  1.031734  1.322509  1.462239\n",
       "6 CU-S0001 2016 12 18 353 20.75683 75.59185 12.043110 16.343110 18.048031"
      ]
     },
     "metadata": {},
     "output_type": "display_data"
    }
   ],
   "source": [
    "head(airq)"
   ]
  },
  {
   "cell_type": "markdown",
   "metadata": {},
   "source": [
    "Create text month"
   ]
  },
  {
   "cell_type": "code",
   "execution_count": 4,
   "metadata": {
    "collapsed": true
   },
   "outputs": [],
   "source": [
    "airq$monthf<-factor(airq$m,levels=as.character(1:12),labels=c(\"Jan\",\"Feb\",\"Mar\",\"Apr\",\"May\",\"Jun\",\"Jul\",\"Aug\",\"Sep\",\"Oct\",\"Nov\",\"Dec\"),ordered=TRUE)"
   ]
  },
  {
   "cell_type": "markdown",
   "metadata": {},
   "source": [
    "Create date format column from y m d"
   ]
  },
  {
   "cell_type": "code",
   "execution_count": 5,
   "metadata": {
    "collapsed": false
   },
   "outputs": [],
   "source": [
    "airq$date<-as.Date(paste(airq$y,\"-\",airq$m,\"-\",airq$d,sep=\"\"))"
   ]
  },
  {
   "cell_type": "markdown",
   "metadata": {},
   "source": [
    "Find week of year for each day"
   ]
  },
  {
   "cell_type": "code",
   "execution_count": 6,
   "metadata": {
    "collapsed": false
   },
   "outputs": [],
   "source": [
    "airq$woy<-as.numeric(format(airq$date,\"%W\"))"
   ]
  },
  {
   "cell_type": "markdown",
   "metadata": {},
   "source": [
    "Then for each monthblock we normalize the week to start at 1"
   ]
  },
  {
   "cell_type": "code",
   "execution_count": 7,
   "metadata": {
    "collapsed": true
   },
   "outputs": [],
   "source": [
    "library(plyr)"
   ]
  },
  {
   "cell_type": "code",
   "execution_count": 8,
   "metadata": {
    "collapsed": false
   },
   "outputs": [],
   "source": [
    "airq<-ddply(airq,.(m),transform,monthweek=1+woy-min(woy))"
   ]
  },
  {
   "cell_type": "code",
   "execution_count": 9,
   "metadata": {
    "collapsed": false
   },
   "outputs": [
    {
     "data": {
      "text/html": [
       "<table>\n",
       "<thead><tr><th scope=col>id</th><th scope=col>y</th><th scope=col>m</th><th scope=col>d</th><th scope=col>doy</th><th scope=col>avgtemp</th><th scope=col>avghumid</th><th scope=col>avgpm1</th><th scope=col>avgpm25</th><th scope=col>avgpm10</th><th scope=col>monthf</th><th scope=col>date</th><th scope=col>woy</th><th scope=col>monthweek</th></tr></thead>\n",
       "<tbody>\n",
       "\t<tr><td>CU-S0001  </td><td>2017      </td><td>1         </td><td>1         </td><td>1         </td><td>19.89251  </td><td>73.87243  </td><td>16.172147 </td><td>21.976284 </td><td>24.786167 </td><td>Jan       </td><td>2017-01-01</td><td>0         </td><td>1         </td></tr>\n",
       "\t<tr><td>CU-S0002  </td><td>2017      </td><td>1         </td><td>1         </td><td>1         </td><td>26.88037  </td><td>60.75332  </td><td>20.988841 </td><td>29.594086 </td><td>33.736794 </td><td>Jan       </td><td>2017-01-01</td><td>0         </td><td>1         </td></tr>\n",
       "\t<tr><td>CU-S0002  </td><td>2017      </td><td>1         </td><td>2         </td><td>2         </td><td>29.10015  </td><td>56.65051  </td><td>12.574908 </td><td>16.610634 </td><td>17.751935 </td><td>Jan       </td><td>2017-01-02</td><td>1         </td><td>2         </td></tr>\n",
       "\t<tr><td>CU-S0002  </td><td>2017      </td><td>1         </td><td>3         </td><td>3         </td><td>30.03516  </td><td>54.81269  </td><td> 8.854387 </td><td>11.420412 </td><td>12.355431 </td><td>Jan       </td><td>2017-01-03</td><td>1         </td><td>2         </td></tr>\n",
       "\t<tr><td>CU-S0002  </td><td>2017      </td><td>1         </td><td>4         </td><td>4         </td><td>28.41016  </td><td>56.78717  </td><td> 9.699804 </td><td>12.743864 </td><td>14.233939 </td><td>Jan       </td><td>2017-01-04</td><td>1         </td><td>2         </td></tr>\n",
       "\t<tr><td>CU-S0002  </td><td>2017      </td><td>1         </td><td>5         </td><td>5         </td><td>24.19143  </td><td>70.63869  </td><td> 3.251032 </td><td> 4.081335 </td><td> 4.309922 </td><td>Jan       </td><td>2017-01-05</td><td>1         </td><td>2         </td></tr>\n",
       "</tbody>\n",
       "</table>\n"
      ],
      "text/latex": [
       "\\begin{tabular}{r|llllllllllllll}\n",
       " id & y & m & d & doy & avgtemp & avghumid & avgpm1 & avgpm25 & avgpm10 & monthf & date & woy & monthweek\\\\\n",
       "\\hline\n",
       "\t CU-S0001   & 2017       & 1          & 1          & 1          & 19.89251   & 73.87243   & 16.172147  & 21.976284  & 24.786167  & Jan        & 2017-01-01 & 0          & 1         \\\\\n",
       "\t CU-S0002   & 2017       & 1          & 1          & 1          & 26.88037   & 60.75332   & 20.988841  & 29.594086  & 33.736794  & Jan        & 2017-01-01 & 0          & 1         \\\\\n",
       "\t CU-S0002   & 2017       & 1          & 2          & 2          & 29.10015   & 56.65051   & 12.574908  & 16.610634  & 17.751935  & Jan        & 2017-01-02 & 1          & 2         \\\\\n",
       "\t CU-S0002   & 2017       & 1          & 3          & 3          & 30.03516   & 54.81269   &  8.854387  & 11.420412  & 12.355431  & Jan        & 2017-01-03 & 1          & 2         \\\\\n",
       "\t CU-S0002   & 2017       & 1          & 4          & 4          & 28.41016   & 56.78717   &  9.699804  & 12.743864  & 14.233939  & Jan        & 2017-01-04 & 1          & 2         \\\\\n",
       "\t CU-S0002   & 2017       & 1          & 5          & 5          & 24.19143   & 70.63869   &  3.251032  &  4.081335  &  4.309922  & Jan        & 2017-01-05 & 1          & 2         \\\\\n",
       "\\end{tabular}\n"
      ],
      "text/markdown": [
       "\n",
       "id | y | m | d | doy | avgtemp | avghumid | avgpm1 | avgpm25 | avgpm10 | monthf | date | woy | monthweek | \n",
       "|---|---|---|---|---|---|\n",
       "| CU-S0001   | 2017       | 1          | 1          | 1          | 19.89251   | 73.87243   | 16.172147  | 21.976284  | 24.786167  | Jan        | 2017-01-01 | 0          | 1          | \n",
       "| CU-S0002   | 2017       | 1          | 1          | 1          | 26.88037   | 60.75332   | 20.988841  | 29.594086  | 33.736794  | Jan        | 2017-01-01 | 0          | 1          | \n",
       "| CU-S0002   | 2017       | 1          | 2          | 2          | 29.10015   | 56.65051   | 12.574908  | 16.610634  | 17.751935  | Jan        | 2017-01-02 | 1          | 2          | \n",
       "| CU-S0002   | 2017       | 1          | 3          | 3          | 30.03516   | 54.81269   |  8.854387  | 11.420412  | 12.355431  | Jan        | 2017-01-03 | 1          | 2          | \n",
       "| CU-S0002   | 2017       | 1          | 4          | 4          | 28.41016   | 56.78717   |  9.699804  | 12.743864  | 14.233939  | Jan        | 2017-01-04 | 1          | 2          | \n",
       "| CU-S0002   | 2017       | 1          | 5          | 5          | 24.19143   | 70.63869   |  3.251032  |  4.081335  |  4.309922  | Jan        | 2017-01-05 | 1          | 2          | \n",
       "\n",
       "\n"
      ],
      "text/plain": [
       "  id       y    m d doy avgtemp  avghumid avgpm1    avgpm25   avgpm10   monthf\n",
       "1 CU-S0001 2017 1 1 1   19.89251 73.87243 16.172147 21.976284 24.786167 Jan   \n",
       "2 CU-S0002 2017 1 1 1   26.88037 60.75332 20.988841 29.594086 33.736794 Jan   \n",
       "3 CU-S0002 2017 1 2 2   29.10015 56.65051 12.574908 16.610634 17.751935 Jan   \n",
       "4 CU-S0002 2017 1 3 3   30.03516 54.81269  8.854387 11.420412 12.355431 Jan   \n",
       "5 CU-S0002 2017 1 4 4   28.41016 56.78717  9.699804 12.743864 14.233939 Jan   \n",
       "6 CU-S0002 2017 1 5 5   24.19143 70.63869  3.251032  4.081335  4.309922 Jan   \n",
       "  date       woy monthweek\n",
       "1 2017-01-01 0   1        \n",
       "2 2017-01-01 0   1        \n",
       "3 2017-01-02 1   2        \n",
       "4 2017-01-03 1   2        \n",
       "5 2017-01-04 1   2        \n",
       "6 2017-01-05 1   2        "
      ]
     },
     "metadata": {},
     "output_type": "display_data"
    }
   ],
   "source": [
    "head(airq)"
   ]
  },
  {
   "cell_type": "markdown",
   "metadata": {},
   "source": [
    "Create day of week (dow) column"
   ]
  },
  {
   "cell_type": "code",
   "execution_count": 10,
   "metadata": {
    "collapsed": false
   },
   "outputs": [],
   "source": [
    "airq$dow<-as.POSIXlt(airq$date)$wday"
   ]
  },
  {
   "cell_type": "code",
   "execution_count": 11,
   "metadata": {
    "collapsed": false
   },
   "outputs": [
    {
     "data": {
      "text/html": [
       "<table>\n",
       "<thead><tr><th scope=col>id</th><th scope=col>y</th><th scope=col>m</th><th scope=col>d</th><th scope=col>doy</th><th scope=col>avgtemp</th><th scope=col>avghumid</th><th scope=col>avgpm1</th><th scope=col>avgpm25</th><th scope=col>avgpm10</th><th scope=col>monthf</th><th scope=col>date</th><th scope=col>woy</th><th scope=col>monthweek</th><th scope=col>dow</th></tr></thead>\n",
       "<tbody>\n",
       "\t<tr><td>CU-S0001  </td><td>2017      </td><td>1         </td><td>1         </td><td>1         </td><td>19.89251  </td><td>73.87243  </td><td>16.172147 </td><td>21.976284 </td><td>24.786167 </td><td>Jan       </td><td>2017-01-01</td><td>0         </td><td>1         </td><td>0         </td></tr>\n",
       "\t<tr><td>CU-S0002  </td><td>2017      </td><td>1         </td><td>1         </td><td>1         </td><td>26.88037  </td><td>60.75332  </td><td>20.988841 </td><td>29.594086 </td><td>33.736794 </td><td>Jan       </td><td>2017-01-01</td><td>0         </td><td>1         </td><td>0         </td></tr>\n",
       "\t<tr><td>CU-S0002  </td><td>2017      </td><td>1         </td><td>2         </td><td>2         </td><td>29.10015  </td><td>56.65051  </td><td>12.574908 </td><td>16.610634 </td><td>17.751935 </td><td>Jan       </td><td>2017-01-02</td><td>1         </td><td>2         </td><td>1         </td></tr>\n",
       "\t<tr><td>CU-S0002  </td><td>2017      </td><td>1         </td><td>3         </td><td>3         </td><td>30.03516  </td><td>54.81269  </td><td> 8.854387 </td><td>11.420412 </td><td>12.355431 </td><td>Jan       </td><td>2017-01-03</td><td>1         </td><td>2         </td><td>2         </td></tr>\n",
       "\t<tr><td>CU-S0002  </td><td>2017      </td><td>1         </td><td>4         </td><td>4         </td><td>28.41016  </td><td>56.78717  </td><td> 9.699804 </td><td>12.743864 </td><td>14.233939 </td><td>Jan       </td><td>2017-01-04</td><td>1         </td><td>2         </td><td>3         </td></tr>\n",
       "\t<tr><td>CU-S0002  </td><td>2017      </td><td>1         </td><td>5         </td><td>5         </td><td>24.19143  </td><td>70.63869  </td><td> 3.251032 </td><td> 4.081335 </td><td> 4.309922 </td><td>Jan       </td><td>2017-01-05</td><td>1         </td><td>2         </td><td>4         </td></tr>\n",
       "</tbody>\n",
       "</table>\n"
      ],
      "text/latex": [
       "\\begin{tabular}{r|lllllllllllllll}\n",
       " id & y & m & d & doy & avgtemp & avghumid & avgpm1 & avgpm25 & avgpm10 & monthf & date & woy & monthweek & dow\\\\\n",
       "\\hline\n",
       "\t CU-S0001   & 2017       & 1          & 1          & 1          & 19.89251   & 73.87243   & 16.172147  & 21.976284  & 24.786167  & Jan        & 2017-01-01 & 0          & 1          & 0         \\\\\n",
       "\t CU-S0002   & 2017       & 1          & 1          & 1          & 26.88037   & 60.75332   & 20.988841  & 29.594086  & 33.736794  & Jan        & 2017-01-01 & 0          & 1          & 0         \\\\\n",
       "\t CU-S0002   & 2017       & 1          & 2          & 2          & 29.10015   & 56.65051   & 12.574908  & 16.610634  & 17.751935  & Jan        & 2017-01-02 & 1          & 2          & 1         \\\\\n",
       "\t CU-S0002   & 2017       & 1          & 3          & 3          & 30.03516   & 54.81269   &  8.854387  & 11.420412  & 12.355431  & Jan        & 2017-01-03 & 1          & 2          & 2         \\\\\n",
       "\t CU-S0002   & 2017       & 1          & 4          & 4          & 28.41016   & 56.78717   &  9.699804  & 12.743864  & 14.233939  & Jan        & 2017-01-04 & 1          & 2          & 3         \\\\\n",
       "\t CU-S0002   & 2017       & 1          & 5          & 5          & 24.19143   & 70.63869   &  3.251032  &  4.081335  &  4.309922  & Jan        & 2017-01-05 & 1          & 2          & 4         \\\\\n",
       "\\end{tabular}\n"
      ],
      "text/markdown": [
       "\n",
       "id | y | m | d | doy | avgtemp | avghumid | avgpm1 | avgpm25 | avgpm10 | monthf | date | woy | monthweek | dow | \n",
       "|---|---|---|---|---|---|\n",
       "| CU-S0001   | 2017       | 1          | 1          | 1          | 19.89251   | 73.87243   | 16.172147  | 21.976284  | 24.786167  | Jan        | 2017-01-01 | 0          | 1          | 0          | \n",
       "| CU-S0002   | 2017       | 1          | 1          | 1          | 26.88037   | 60.75332   | 20.988841  | 29.594086  | 33.736794  | Jan        | 2017-01-01 | 0          | 1          | 0          | \n",
       "| CU-S0002   | 2017       | 1          | 2          | 2          | 29.10015   | 56.65051   | 12.574908  | 16.610634  | 17.751935  | Jan        | 2017-01-02 | 1          | 2          | 1          | \n",
       "| CU-S0002   | 2017       | 1          | 3          | 3          | 30.03516   | 54.81269   |  8.854387  | 11.420412  | 12.355431  | Jan        | 2017-01-03 | 1          | 2          | 2          | \n",
       "| CU-S0002   | 2017       | 1          | 4          | 4          | 28.41016   | 56.78717   |  9.699804  | 12.743864  | 14.233939  | Jan        | 2017-01-04 | 1          | 2          | 3          | \n",
       "| CU-S0002   | 2017       | 1          | 5          | 5          | 24.19143   | 70.63869   |  3.251032  |  4.081335  |  4.309922  | Jan        | 2017-01-05 | 1          | 2          | 4          | \n",
       "\n",
       "\n"
      ],
      "text/plain": [
       "  id       y    m d doy avgtemp  avghumid avgpm1    avgpm25   avgpm10   monthf\n",
       "1 CU-S0001 2017 1 1 1   19.89251 73.87243 16.172147 21.976284 24.786167 Jan   \n",
       "2 CU-S0002 2017 1 1 1   26.88037 60.75332 20.988841 29.594086 33.736794 Jan   \n",
       "3 CU-S0002 2017 1 2 2   29.10015 56.65051 12.574908 16.610634 17.751935 Jan   \n",
       "4 CU-S0002 2017 1 3 3   30.03516 54.81269  8.854387 11.420412 12.355431 Jan   \n",
       "5 CU-S0002 2017 1 4 4   28.41016 56.78717  9.699804 12.743864 14.233939 Jan   \n",
       "6 CU-S0002 2017 1 5 5   24.19143 70.63869  3.251032  4.081335  4.309922 Jan   \n",
       "  date       woy monthweek dow\n",
       "1 2017-01-01 0   1         0  \n",
       "2 2017-01-01 0   1         0  \n",
       "3 2017-01-02 1   2         1  \n",
       "4 2017-01-03 1   2         2  \n",
       "5 2017-01-04 1   2         3  \n",
       "6 2017-01-05 1   2         4  "
      ]
     },
     "metadata": {},
     "output_type": "display_data"
    }
   ],
   "source": [
    "head(airq)"
   ]
  },
  {
   "cell_type": "code",
   "execution_count": 12,
   "metadata": {
    "collapsed": false
   },
   "outputs": [],
   "source": [
    "library(ggplot2)"
   ]
  },
  {
   "cell_type": "markdown",
   "metadata": {},
   "source": [
    "Check dow"
   ]
  },
  {
   "cell_type": "code",
   "execution_count": 13,
   "metadata": {
    "collapsed": false
   },
   "outputs": [
    {
     "data": {
      "text/html": [
       "0"
      ],
      "text/latex": [
       "0"
      ],
      "text/markdown": [
       "0"
      ],
      "text/plain": [
       "[1] 0"
      ]
     },
     "metadata": {},
     "output_type": "display_data"
    },
    {
     "data": {
      "text/html": [
       "6"
      ],
      "text/latex": [
       "6"
      ],
      "text/markdown": [
       "6"
      ],
      "text/plain": [
       "[1] 6"
      ]
     },
     "metadata": {},
     "output_type": "display_data"
    }
   ],
   "source": [
    "min(airq$dow)\n",
    "max(airq$dow)"
   ]
  },
  {
   "cell_type": "markdown",
   "metadata": {},
   "source": [
    "Create day of week text (dowf) column. We will use it in the plot. "
   ]
  },
  {
   "cell_type": "code",
   "execution_count": 14,
   "metadata": {
    "collapsed": true
   },
   "outputs": [],
   "source": [
    "airq$dowf<-factor(airq$dow,levels=rev(0:6),labels=rev(c(\"Sun\",\"Mon\",\"Tue\",\"Wed\",\"Thu\",\"Fri\",\"Sat\")),ordered=TRUE)"
   ]
  },
  {
   "cell_type": "code",
   "execution_count": 15,
   "metadata": {
    "collapsed": false
   },
   "outputs": [
    {
     "data": {
      "text/html": [
       "<table>\n",
       "<thead><tr><th scope=col>id</th><th scope=col>y</th><th scope=col>m</th><th scope=col>d</th><th scope=col>doy</th><th scope=col>avgtemp</th><th scope=col>avghumid</th><th scope=col>avgpm1</th><th scope=col>avgpm25</th><th scope=col>avgpm10</th><th scope=col>monthf</th><th scope=col>date</th><th scope=col>woy</th><th scope=col>monthweek</th><th scope=col>dow</th><th scope=col>dowf</th></tr></thead>\n",
       "<tbody>\n",
       "\t<tr><td>CU-S0001  </td><td>2017      </td><td>1         </td><td>1         </td><td>1         </td><td>19.89251  </td><td>73.87243  </td><td>16.172147 </td><td>21.976284 </td><td>24.786167 </td><td>Jan       </td><td>2017-01-01</td><td>0         </td><td>1         </td><td>0         </td><td>Sun       </td></tr>\n",
       "\t<tr><td>CU-S0002  </td><td>2017      </td><td>1         </td><td>1         </td><td>1         </td><td>26.88037  </td><td>60.75332  </td><td>20.988841 </td><td>29.594086 </td><td>33.736794 </td><td>Jan       </td><td>2017-01-01</td><td>0         </td><td>1         </td><td>0         </td><td>Sun       </td></tr>\n",
       "\t<tr><td>CU-S0002  </td><td>2017      </td><td>1         </td><td>2         </td><td>2         </td><td>29.10015  </td><td>56.65051  </td><td>12.574908 </td><td>16.610634 </td><td>17.751935 </td><td>Jan       </td><td>2017-01-02</td><td>1         </td><td>2         </td><td>1         </td><td>Mon       </td></tr>\n",
       "\t<tr><td>CU-S0002  </td><td>2017      </td><td>1         </td><td>3         </td><td>3         </td><td>30.03516  </td><td>54.81269  </td><td> 8.854387 </td><td>11.420412 </td><td>12.355431 </td><td>Jan       </td><td>2017-01-03</td><td>1         </td><td>2         </td><td>2         </td><td>Tue       </td></tr>\n",
       "\t<tr><td>CU-S0002  </td><td>2017      </td><td>1         </td><td>4         </td><td>4         </td><td>28.41016  </td><td>56.78717  </td><td> 9.699804 </td><td>12.743864 </td><td>14.233939 </td><td>Jan       </td><td>2017-01-04</td><td>1         </td><td>2         </td><td>3         </td><td>Wed       </td></tr>\n",
       "\t<tr><td>CU-S0002  </td><td>2017      </td><td>1         </td><td>5         </td><td>5         </td><td>24.19143  </td><td>70.63869  </td><td> 3.251032 </td><td> 4.081335 </td><td> 4.309922 </td><td>Jan       </td><td>2017-01-05</td><td>1         </td><td>2         </td><td>4         </td><td>Thu       </td></tr>\n",
       "</tbody>\n",
       "</table>\n"
      ],
      "text/latex": [
       "\\begin{tabular}{r|llllllllllllllll}\n",
       " id & y & m & d & doy & avgtemp & avghumid & avgpm1 & avgpm25 & avgpm10 & monthf & date & woy & monthweek & dow & dowf\\\\\n",
       "\\hline\n",
       "\t CU-S0001   & 2017       & 1          & 1          & 1          & 19.89251   & 73.87243   & 16.172147  & 21.976284  & 24.786167  & Jan        & 2017-01-01 & 0          & 1          & 0          & Sun       \\\\\n",
       "\t CU-S0002   & 2017       & 1          & 1          & 1          & 26.88037   & 60.75332   & 20.988841  & 29.594086  & 33.736794  & Jan        & 2017-01-01 & 0          & 1          & 0          & Sun       \\\\\n",
       "\t CU-S0002   & 2017       & 1          & 2          & 2          & 29.10015   & 56.65051   & 12.574908  & 16.610634  & 17.751935  & Jan        & 2017-01-02 & 1          & 2          & 1          & Mon       \\\\\n",
       "\t CU-S0002   & 2017       & 1          & 3          & 3          & 30.03516   & 54.81269   &  8.854387  & 11.420412  & 12.355431  & Jan        & 2017-01-03 & 1          & 2          & 2          & Tue       \\\\\n",
       "\t CU-S0002   & 2017       & 1          & 4          & 4          & 28.41016   & 56.78717   &  9.699804  & 12.743864  & 14.233939  & Jan        & 2017-01-04 & 1          & 2          & 3          & Wed       \\\\\n",
       "\t CU-S0002   & 2017       & 1          & 5          & 5          & 24.19143   & 70.63869   &  3.251032  &  4.081335  &  4.309922  & Jan        & 2017-01-05 & 1          & 2          & 4          & Thu       \\\\\n",
       "\\end{tabular}\n"
      ],
      "text/markdown": [
       "\n",
       "id | y | m | d | doy | avgtemp | avghumid | avgpm1 | avgpm25 | avgpm10 | monthf | date | woy | monthweek | dow | dowf | \n",
       "|---|---|---|---|---|---|\n",
       "| CU-S0001   | 2017       | 1          | 1          | 1          | 19.89251   | 73.87243   | 16.172147  | 21.976284  | 24.786167  | Jan        | 2017-01-01 | 0          | 1          | 0          | Sun        | \n",
       "| CU-S0002   | 2017       | 1          | 1          | 1          | 26.88037   | 60.75332   | 20.988841  | 29.594086  | 33.736794  | Jan        | 2017-01-01 | 0          | 1          | 0          | Sun        | \n",
       "| CU-S0002   | 2017       | 1          | 2          | 2          | 29.10015   | 56.65051   | 12.574908  | 16.610634  | 17.751935  | Jan        | 2017-01-02 | 1          | 2          | 1          | Mon        | \n",
       "| CU-S0002   | 2017       | 1          | 3          | 3          | 30.03516   | 54.81269   |  8.854387  | 11.420412  | 12.355431  | Jan        | 2017-01-03 | 1          | 2          | 2          | Tue        | \n",
       "| CU-S0002   | 2017       | 1          | 4          | 4          | 28.41016   | 56.78717   |  9.699804  | 12.743864  | 14.233939  | Jan        | 2017-01-04 | 1          | 2          | 3          | Wed        | \n",
       "| CU-S0002   | 2017       | 1          | 5          | 5          | 24.19143   | 70.63869   |  3.251032  |  4.081335  |  4.309922  | Jan        | 2017-01-05 | 1          | 2          | 4          | Thu        | \n",
       "\n",
       "\n"
      ],
      "text/plain": [
       "  id       y    m d doy avgtemp  avghumid avgpm1    avgpm25   avgpm10   monthf\n",
       "1 CU-S0001 2017 1 1 1   19.89251 73.87243 16.172147 21.976284 24.786167 Jan   \n",
       "2 CU-S0002 2017 1 1 1   26.88037 60.75332 20.988841 29.594086 33.736794 Jan   \n",
       "3 CU-S0002 2017 1 2 2   29.10015 56.65051 12.574908 16.610634 17.751935 Jan   \n",
       "4 CU-S0002 2017 1 3 3   30.03516 54.81269  8.854387 11.420412 12.355431 Jan   \n",
       "5 CU-S0002 2017 1 4 4   28.41016 56.78717  9.699804 12.743864 14.233939 Jan   \n",
       "6 CU-S0002 2017 1 5 5   24.19143 70.63869  3.251032  4.081335  4.309922 Jan   \n",
       "  date       woy monthweek dow dowf\n",
       "1 2017-01-01 0   1         0   Sun \n",
       "2 2017-01-01 0   1         0   Sun \n",
       "3 2017-01-02 1   2         1   Mon \n",
       "4 2017-01-03 1   2         2   Tue \n",
       "5 2017-01-04 1   2         3   Wed \n",
       "6 2017-01-05 1   2         4   Thu "
      ]
     },
     "metadata": {},
     "output_type": "display_data"
    }
   ],
   "source": [
    "head(airq)"
   ]
  },
  {
   "cell_type": "code",
   "execution_count": 16,
   "metadata": {
    "collapsed": false
   },
   "outputs": [
    {
     "data": {
      "text/html": [
       "6"
      ],
      "text/latex": [
       "6"
      ],
      "text/markdown": [
       "6"
      ],
      "text/plain": [
       "[1] 6"
      ]
     },
     "metadata": {},
     "output_type": "display_data"
    },
    {
     "data": {
      "text/html": [
       "1"
      ],
      "text/latex": [
       "1"
      ],
      "text/markdown": [
       "1"
      ],
      "text/plain": [
       "[1] 1"
      ]
     },
     "metadata": {},
     "output_type": "display_data"
    }
   ],
   "source": [
    "max(airq$monthweek)\n",
    "min(airq$monthweek)"
   ]
  },
  {
   "cell_type": "markdown",
   "metadata": {},
   "source": [
    "Monthweek is still wtrong in Jan. Edit it"
   ]
  },
  {
   "cell_type": "code",
   "execution_count": 17,
   "metadata": {
    "collapsed": false
   },
   "outputs": [],
   "source": [
    "airq[airq$doy>=1 & airq$doy<=7,14]<-1"
   ]
  },
  {
   "cell_type": "markdown",
   "metadata": {},
   "source": [
    "Check the result"
   ]
  },
  {
   "cell_type": "code",
   "execution_count": 18,
   "metadata": {
    "collapsed": false
   },
   "outputs": [
    {
     "name": "stderr",
     "output_type": "stream",
     "text": [
      "Loading required package: tcltk\n",
      "Warning message:\n",
      "\"Quoted identifiers should have class SQL, use DBI::SQL() if the caller performs the quoting.\""
     ]
    },
    {
     "data": {
      "text/html": [
       "<table>\n",
       "<thead><tr><th scope=col>id</th><th scope=col>y</th><th scope=col>m</th><th scope=col>d</th><th scope=col>doy</th><th scope=col>avgtemp</th><th scope=col>avghumid</th><th scope=col>avgpm1</th><th scope=col>avgpm25</th><th scope=col>avgpm10</th><th scope=col>monthf</th><th scope=col>date</th><th scope=col>woy</th><th scope=col>monthweek</th><th scope=col>dow</th><th scope=col>dowf</th></tr></thead>\n",
       "<tbody>\n",
       "\t<tr><td>CU-S0003  </td><td>2017      </td><td>1         </td><td> 1        </td><td> 1        </td><td>26.22564  </td><td>60.78534  </td><td>24.480435 </td><td>33.852565 </td><td>39.112336 </td><td>Jan       </td><td>2017-01-01</td><td>0         </td><td>1         </td><td>0         </td><td>Sun       </td></tr>\n",
       "\t<tr><td>CU-S0003  </td><td>2017      </td><td>1         </td><td> 2        </td><td> 2        </td><td>28.98399  </td><td>60.02772  </td><td>13.509759 </td><td>16.990107 </td><td>18.106070 </td><td>Jan       </td><td>2017-01-02</td><td>1         </td><td>1         </td><td>1         </td><td>Mon       </td></tr>\n",
       "\t<tr><td>CU-S0003  </td><td>2017      </td><td>1         </td><td> 3        </td><td> 3        </td><td>29.57416  </td><td>58.02827  </td><td>12.765383 </td><td>16.063203 </td><td>17.352638 </td><td>Jan       </td><td>2017-01-03</td><td>1         </td><td>1         </td><td>2         </td><td>Tue       </td></tr>\n",
       "\t<tr><td>CU-S0003  </td><td>2017      </td><td>1         </td><td> 4        </td><td> 4        </td><td>26.90557  </td><td>59.84468  </td><td>12.839933 </td><td>16.969480 </td><td>19.186336 </td><td>Jan       </td><td>2017-01-04</td><td>1         </td><td>1         </td><td>3         </td><td>Wed       </td></tr>\n",
       "\t<tr><td>CU-S0003  </td><td>2017      </td><td>1         </td><td> 5        </td><td> 5        </td><td>25.17165  </td><td>66.08777  </td><td> 4.721033 </td><td> 5.617501 </td><td> 5.973642 </td><td>Jan       </td><td>2017-01-05</td><td>1         </td><td>1         </td><td>4         </td><td>Thu       </td></tr>\n",
       "\t<tr><td>CU-S0003  </td><td>2017      </td><td>1         </td><td> 6        </td><td> 6        </td><td>25.76541  </td><td>66.17984  </td><td> 6.090636 </td><td> 7.468087 </td><td> 7.958496 </td><td>Jan       </td><td>2017-01-06</td><td>1         </td><td>1         </td><td>5         </td><td>Fri       </td></tr>\n",
       "\t<tr><td>CU-S0003  </td><td>2017      </td><td>1         </td><td> 7        </td><td> 7        </td><td>27.99230  </td><td>62.01024  </td><td> 7.578818 </td><td> 9.396202 </td><td>10.071302 </td><td>Jan       </td><td>2017-01-07</td><td>1         </td><td>1         </td><td>6         </td><td>Sat       </td></tr>\n",
       "\t<tr><td>CU-S0003  </td><td>2017      </td><td>1         </td><td> 8        </td><td> 8        </td><td>28.72287  </td><td>54.82860  </td><td>15.964473 </td><td>21.070439 </td><td>23.958855 </td><td>Jan       </td><td>2017-01-08</td><td>1         </td><td>2         </td><td>0         </td><td>Sun       </td></tr>\n",
       "\t<tr><td>CU-S0003  </td><td>2017      </td><td>1         </td><td> 9        </td><td> 9        </td><td>28.18391  </td><td>59.78172  </td><td>15.814282 </td><td>20.353070 </td><td>23.260198 </td><td>Jan       </td><td>2017-01-09</td><td>2         </td><td>3         </td><td>1         </td><td>Mon       </td></tr>\n",
       "\t<tr><td>CU-S0003  </td><td>2017      </td><td>1         </td><td>10        </td><td>10        </td><td>27.85655  </td><td>65.87230  </td><td>20.746444 </td><td>26.800357 </td><td>29.558321 </td><td>Jan       </td><td>2017-01-10</td><td>2         </td><td>3         </td><td>2         </td><td>Tue       </td></tr>\n",
       "\t<tr><td>CU-S0003  </td><td>2017      </td><td>1         </td><td>13        </td><td>13        </td><td>30.63446  </td><td>60.00216  </td><td>17.191062 </td><td>22.246536 </td><td>24.609199 </td><td>Jan       </td><td>2017-01-13</td><td>2         </td><td>3         </td><td>5         </td><td>Fri       </td></tr>\n",
       "\t<tr><td>CU-S0003  </td><td>2017      </td><td>1         </td><td>14        </td><td>14        </td><td>29.35599  </td><td>57.80626  </td><td>17.160096 </td><td>22.485406 </td><td>24.762616 </td><td>Jan       </td><td>2017-01-14</td><td>2         </td><td>3         </td><td>6         </td><td>Sat       </td></tr>\n",
       "\t<tr><td>CU-S0003  </td><td>2017      </td><td>1         </td><td>15        </td><td>15        </td><td>26.29889  </td><td>59.42556  </td><td>21.822222 </td><td>29.066667 </td><td>31.977778 </td><td>Jan       </td><td>2017-01-15</td><td>2         </td><td>3         </td><td>0         </td><td>Sun       </td></tr>\n",
       "\t<tr><td>CU-S0003  </td><td>2017      </td><td>1         </td><td>16        </td><td>16        </td><td>28.56388  </td><td>54.12198  </td><td>20.677630 </td><td>27.690953 </td><td>32.431566 </td><td>Jan       </td><td>2017-01-16</td><td>3         </td><td>4         </td><td>1         </td><td>Mon       </td></tr>\n",
       "\t<tr><td>CU-S0003  </td><td>2017      </td><td>1         </td><td>17        </td><td>17        </td><td>27.50387  </td><td>56.05037  </td><td>20.784255 </td><td>26.699595 </td><td>29.514660 </td><td>Jan       </td><td>2017-01-17</td><td>3         </td><td>4         </td><td>2         </td><td>Tue       </td></tr>\n",
       "\t<tr><td>CU-S0003  </td><td>2017      </td><td>1         </td><td>18        </td><td>18        </td><td>30.65592  </td><td>53.08575  </td><td>20.105180 </td><td>25.711468 </td><td>29.122466 </td><td>Jan       </td><td>2017-01-18</td><td>3         </td><td>4         </td><td>3         </td><td>Wed       </td></tr>\n",
       "\t<tr><td>CU-S0003  </td><td>2017      </td><td>1         </td><td>19        </td><td>19        </td><td>30.28992  </td><td>54.72043  </td><td>21.170056 </td><td>27.348908 </td><td>30.512976 </td><td>Jan       </td><td>2017-01-19</td><td>3         </td><td>4         </td><td>4         </td><td>Thu       </td></tr>\n",
       "\t<tr><td>CU-S0003  </td><td>2017      </td><td>1         </td><td>20        </td><td>20        </td><td>29.71202  </td><td>54.78913  </td><td>22.342542 </td><td>29.010766 </td><td>33.397506 </td><td>Jan       </td><td>2017-01-20</td><td>3         </td><td>4         </td><td>5         </td><td>Fri       </td></tr>\n",
       "\t<tr><td>CU-S0003  </td><td>2017      </td><td>1         </td><td>21        </td><td>21        </td><td>29.41873  </td><td>55.09557  </td><td>24.223358 </td><td>32.834429 </td><td>39.640657 </td><td>Jan       </td><td>2017-01-21</td><td>3         </td><td>4         </td><td>6         </td><td>Sat       </td></tr>\n",
       "\t<tr><td>CU-S0003  </td><td>2017      </td><td>1         </td><td>22        </td><td>22        </td><td>29.32884  </td><td>53.98553  </td><td>21.378720 </td><td>28.583984 </td><td>33.563901 </td><td>Jan       </td><td>2017-01-22</td><td>3         </td><td>4         </td><td>0         </td><td>Sun       </td></tr>\n",
       "\t<tr><td>CU-S0003  </td><td>2017      </td><td>1         </td><td>23        </td><td>23        </td><td>28.81323  </td><td>54.35643  </td><td>20.055947 </td><td>26.166541 </td><td>29.556532 </td><td>Jan       </td><td>2017-01-23</td><td>4         </td><td>5         </td><td>1         </td><td>Mon       </td></tr>\n",
       "\t<tr><td>CU-S0003  </td><td>2017      </td><td>1         </td><td>24        </td><td>24        </td><td>28.54305  </td><td>52.94310  </td><td>17.357984 </td><td>22.028368 </td><td>24.356540 </td><td>Jan       </td><td>2017-01-24</td><td>4         </td><td>5         </td><td>2         </td><td>Tue       </td></tr>\n",
       "\t<tr><td>CU-S0003  </td><td>2017      </td><td>1         </td><td>25        </td><td>25        </td><td>29.24923  </td><td>51.17163  </td><td>18.219539 </td><td>23.739250 </td><td>26.684181 </td><td>Jan       </td><td>2017-01-25</td><td>4         </td><td>5         </td><td>3         </td><td>Wed       </td></tr>\n",
       "\t<tr><td>CU-S0003  </td><td>2017      </td><td>1         </td><td>31        </td><td>31        </td><td>29.84267  </td><td>52.96479  </td><td>32.836762 </td><td>45.138909 </td><td>55.684258 </td><td>Jan       </td><td>2017-01-31</td><td>5         </td><td>6         </td><td>2         </td><td>Tue       </td></tr>\n",
       "</tbody>\n",
       "</table>\n"
      ],
      "text/latex": [
       "\\begin{tabular}{r|llllllllllllllll}\n",
       " id & y & m & d & doy & avgtemp & avghumid & avgpm1 & avgpm25 & avgpm10 & monthf & date & woy & monthweek & dow & dowf\\\\\n",
       "\\hline\n",
       "\t CU-S0003   & 2017       & 1          &  1         &  1         & 26.22564   & 60.78534   & 24.480435  & 33.852565  & 39.112336  & Jan        & 2017-01-01 & 0          & 1          & 0          & Sun       \\\\\n",
       "\t CU-S0003   & 2017       & 1          &  2         &  2         & 28.98399   & 60.02772   & 13.509759  & 16.990107  & 18.106070  & Jan        & 2017-01-02 & 1          & 1          & 1          & Mon       \\\\\n",
       "\t CU-S0003   & 2017       & 1          &  3         &  3         & 29.57416   & 58.02827   & 12.765383  & 16.063203  & 17.352638  & Jan        & 2017-01-03 & 1          & 1          & 2          & Tue       \\\\\n",
       "\t CU-S0003   & 2017       & 1          &  4         &  4         & 26.90557   & 59.84468   & 12.839933  & 16.969480  & 19.186336  & Jan        & 2017-01-04 & 1          & 1          & 3          & Wed       \\\\\n",
       "\t CU-S0003   & 2017       & 1          &  5         &  5         & 25.17165   & 66.08777   &  4.721033  &  5.617501  &  5.973642  & Jan        & 2017-01-05 & 1          & 1          & 4          & Thu       \\\\\n",
       "\t CU-S0003   & 2017       & 1          &  6         &  6         & 25.76541   & 66.17984   &  6.090636  &  7.468087  &  7.958496  & Jan        & 2017-01-06 & 1          & 1          & 5          & Fri       \\\\\n",
       "\t CU-S0003   & 2017       & 1          &  7         &  7         & 27.99230   & 62.01024   &  7.578818  &  9.396202  & 10.071302  & Jan        & 2017-01-07 & 1          & 1          & 6          & Sat       \\\\\n",
       "\t CU-S0003   & 2017       & 1          &  8         &  8         & 28.72287   & 54.82860   & 15.964473  & 21.070439  & 23.958855  & Jan        & 2017-01-08 & 1          & 2          & 0          & Sun       \\\\\n",
       "\t CU-S0003   & 2017       & 1          &  9         &  9         & 28.18391   & 59.78172   & 15.814282  & 20.353070  & 23.260198  & Jan        & 2017-01-09 & 2          & 3          & 1          & Mon       \\\\\n",
       "\t CU-S0003   & 2017       & 1          & 10         & 10         & 27.85655   & 65.87230   & 20.746444  & 26.800357  & 29.558321  & Jan        & 2017-01-10 & 2          & 3          & 2          & Tue       \\\\\n",
       "\t CU-S0003   & 2017       & 1          & 13         & 13         & 30.63446   & 60.00216   & 17.191062  & 22.246536  & 24.609199  & Jan        & 2017-01-13 & 2          & 3          & 5          & Fri       \\\\\n",
       "\t CU-S0003   & 2017       & 1          & 14         & 14         & 29.35599   & 57.80626   & 17.160096  & 22.485406  & 24.762616  & Jan        & 2017-01-14 & 2          & 3          & 6          & Sat       \\\\\n",
       "\t CU-S0003   & 2017       & 1          & 15         & 15         & 26.29889   & 59.42556   & 21.822222  & 29.066667  & 31.977778  & Jan        & 2017-01-15 & 2          & 3          & 0          & Sun       \\\\\n",
       "\t CU-S0003   & 2017       & 1          & 16         & 16         & 28.56388   & 54.12198   & 20.677630  & 27.690953  & 32.431566  & Jan        & 2017-01-16 & 3          & 4          & 1          & Mon       \\\\\n",
       "\t CU-S0003   & 2017       & 1          & 17         & 17         & 27.50387   & 56.05037   & 20.784255  & 26.699595  & 29.514660  & Jan        & 2017-01-17 & 3          & 4          & 2          & Tue       \\\\\n",
       "\t CU-S0003   & 2017       & 1          & 18         & 18         & 30.65592   & 53.08575   & 20.105180  & 25.711468  & 29.122466  & Jan        & 2017-01-18 & 3          & 4          & 3          & Wed       \\\\\n",
       "\t CU-S0003   & 2017       & 1          & 19         & 19         & 30.28992   & 54.72043   & 21.170056  & 27.348908  & 30.512976  & Jan        & 2017-01-19 & 3          & 4          & 4          & Thu       \\\\\n",
       "\t CU-S0003   & 2017       & 1          & 20         & 20         & 29.71202   & 54.78913   & 22.342542  & 29.010766  & 33.397506  & Jan        & 2017-01-20 & 3          & 4          & 5          & Fri       \\\\\n",
       "\t CU-S0003   & 2017       & 1          & 21         & 21         & 29.41873   & 55.09557   & 24.223358  & 32.834429  & 39.640657  & Jan        & 2017-01-21 & 3          & 4          & 6          & Sat       \\\\\n",
       "\t CU-S0003   & 2017       & 1          & 22         & 22         & 29.32884   & 53.98553   & 21.378720  & 28.583984  & 33.563901  & Jan        & 2017-01-22 & 3          & 4          & 0          & Sun       \\\\\n",
       "\t CU-S0003   & 2017       & 1          & 23         & 23         & 28.81323   & 54.35643   & 20.055947  & 26.166541  & 29.556532  & Jan        & 2017-01-23 & 4          & 5          & 1          & Mon       \\\\\n",
       "\t CU-S0003   & 2017       & 1          & 24         & 24         & 28.54305   & 52.94310   & 17.357984  & 22.028368  & 24.356540  & Jan        & 2017-01-24 & 4          & 5          & 2          & Tue       \\\\\n",
       "\t CU-S0003   & 2017       & 1          & 25         & 25         & 29.24923   & 51.17163   & 18.219539  & 23.739250  & 26.684181  & Jan        & 2017-01-25 & 4          & 5          & 3          & Wed       \\\\\n",
       "\t CU-S0003   & 2017       & 1          & 31         & 31         & 29.84267   & 52.96479   & 32.836762  & 45.138909  & 55.684258  & Jan        & 2017-01-31 & 5          & 6          & 2          & Tue       \\\\\n",
       "\\end{tabular}\n"
      ],
      "text/markdown": [
       "\n",
       "id | y | m | d | doy | avgtemp | avghumid | avgpm1 | avgpm25 | avgpm10 | monthf | date | woy | monthweek | dow | dowf | \n",
       "|---|---|---|---|---|---|---|---|---|---|---|---|---|---|---|---|---|---|---|---|---|---|---|---|\n",
       "| CU-S0003   | 2017       | 1          |  1         |  1         | 26.22564   | 60.78534   | 24.480435  | 33.852565  | 39.112336  | Jan        | 2017-01-01 | 0          | 1          | 0          | Sun        | \n",
       "| CU-S0003   | 2017       | 1          |  2         |  2         | 28.98399   | 60.02772   | 13.509759  | 16.990107  | 18.106070  | Jan        | 2017-01-02 | 1          | 1          | 1          | Mon        | \n",
       "| CU-S0003   | 2017       | 1          |  3         |  3         | 29.57416   | 58.02827   | 12.765383  | 16.063203  | 17.352638  | Jan        | 2017-01-03 | 1          | 1          | 2          | Tue        | \n",
       "| CU-S0003   | 2017       | 1          |  4         |  4         | 26.90557   | 59.84468   | 12.839933  | 16.969480  | 19.186336  | Jan        | 2017-01-04 | 1          | 1          | 3          | Wed        | \n",
       "| CU-S0003   | 2017       | 1          |  5         |  5         | 25.17165   | 66.08777   |  4.721033  |  5.617501  |  5.973642  | Jan        | 2017-01-05 | 1          | 1          | 4          | Thu        | \n",
       "| CU-S0003   | 2017       | 1          |  6         |  6         | 25.76541   | 66.17984   |  6.090636  |  7.468087  |  7.958496  | Jan        | 2017-01-06 | 1          | 1          | 5          | Fri        | \n",
       "| CU-S0003   | 2017       | 1          |  7         |  7         | 27.99230   | 62.01024   |  7.578818  |  9.396202  | 10.071302  | Jan        | 2017-01-07 | 1          | 1          | 6          | Sat        | \n",
       "| CU-S0003   | 2017       | 1          |  8         |  8         | 28.72287   | 54.82860   | 15.964473  | 21.070439  | 23.958855  | Jan        | 2017-01-08 | 1          | 2          | 0          | Sun        | \n",
       "| CU-S0003   | 2017       | 1          |  9         |  9         | 28.18391   | 59.78172   | 15.814282  | 20.353070  | 23.260198  | Jan        | 2017-01-09 | 2          | 3          | 1          | Mon        | \n",
       "| CU-S0003   | 2017       | 1          | 10         | 10         | 27.85655   | 65.87230   | 20.746444  | 26.800357  | 29.558321  | Jan        | 2017-01-10 | 2          | 3          | 2          | Tue        | \n",
       "| CU-S0003   | 2017       | 1          | 13         | 13         | 30.63446   | 60.00216   | 17.191062  | 22.246536  | 24.609199  | Jan        | 2017-01-13 | 2          | 3          | 5          | Fri        | \n",
       "| CU-S0003   | 2017       | 1          | 14         | 14         | 29.35599   | 57.80626   | 17.160096  | 22.485406  | 24.762616  | Jan        | 2017-01-14 | 2          | 3          | 6          | Sat        | \n",
       "| CU-S0003   | 2017       | 1          | 15         | 15         | 26.29889   | 59.42556   | 21.822222  | 29.066667  | 31.977778  | Jan        | 2017-01-15 | 2          | 3          | 0          | Sun        | \n",
       "| CU-S0003   | 2017       | 1          | 16         | 16         | 28.56388   | 54.12198   | 20.677630  | 27.690953  | 32.431566  | Jan        | 2017-01-16 | 3          | 4          | 1          | Mon        | \n",
       "| CU-S0003   | 2017       | 1          | 17         | 17         | 27.50387   | 56.05037   | 20.784255  | 26.699595  | 29.514660  | Jan        | 2017-01-17 | 3          | 4          | 2          | Tue        | \n",
       "| CU-S0003   | 2017       | 1          | 18         | 18         | 30.65592   | 53.08575   | 20.105180  | 25.711468  | 29.122466  | Jan        | 2017-01-18 | 3          | 4          | 3          | Wed        | \n",
       "| CU-S0003   | 2017       | 1          | 19         | 19         | 30.28992   | 54.72043   | 21.170056  | 27.348908  | 30.512976  | Jan        | 2017-01-19 | 3          | 4          | 4          | Thu        | \n",
       "| CU-S0003   | 2017       | 1          | 20         | 20         | 29.71202   | 54.78913   | 22.342542  | 29.010766  | 33.397506  | Jan        | 2017-01-20 | 3          | 4          | 5          | Fri        | \n",
       "| CU-S0003   | 2017       | 1          | 21         | 21         | 29.41873   | 55.09557   | 24.223358  | 32.834429  | 39.640657  | Jan        | 2017-01-21 | 3          | 4          | 6          | Sat        | \n",
       "| CU-S0003   | 2017       | 1          | 22         | 22         | 29.32884   | 53.98553   | 21.378720  | 28.583984  | 33.563901  | Jan        | 2017-01-22 | 3          | 4          | 0          | Sun        | \n",
       "| CU-S0003   | 2017       | 1          | 23         | 23         | 28.81323   | 54.35643   | 20.055947  | 26.166541  | 29.556532  | Jan        | 2017-01-23 | 4          | 5          | 1          | Mon        | \n",
       "| CU-S0003   | 2017       | 1          | 24         | 24         | 28.54305   | 52.94310   | 17.357984  | 22.028368  | 24.356540  | Jan        | 2017-01-24 | 4          | 5          | 2          | Tue        | \n",
       "| CU-S0003   | 2017       | 1          | 25         | 25         | 29.24923   | 51.17163   | 18.219539  | 23.739250  | 26.684181  | Jan        | 2017-01-25 | 4          | 5          | 3          | Wed        | \n",
       "| CU-S0003   | 2017       | 1          | 31         | 31         | 29.84267   | 52.96479   | 32.836762  | 45.138909  | 55.684258  | Jan        | 2017-01-31 | 5          | 6          | 2          | Tue        | \n",
       "\n",
       "\n"
      ],
      "text/plain": [
       "   id       y    m d  doy avgtemp  avghumid avgpm1    avgpm25   avgpm10  \n",
       "1  CU-S0003 2017 1  1  1  26.22564 60.78534 24.480435 33.852565 39.112336\n",
       "2  CU-S0003 2017 1  2  2  28.98399 60.02772 13.509759 16.990107 18.106070\n",
       "3  CU-S0003 2017 1  3  3  29.57416 58.02827 12.765383 16.063203 17.352638\n",
       "4  CU-S0003 2017 1  4  4  26.90557 59.84468 12.839933 16.969480 19.186336\n",
       "5  CU-S0003 2017 1  5  5  25.17165 66.08777  4.721033  5.617501  5.973642\n",
       "6  CU-S0003 2017 1  6  6  25.76541 66.17984  6.090636  7.468087  7.958496\n",
       "7  CU-S0003 2017 1  7  7  27.99230 62.01024  7.578818  9.396202 10.071302\n",
       "8  CU-S0003 2017 1  8  8  28.72287 54.82860 15.964473 21.070439 23.958855\n",
       "9  CU-S0003 2017 1  9  9  28.18391 59.78172 15.814282 20.353070 23.260198\n",
       "10 CU-S0003 2017 1 10 10  27.85655 65.87230 20.746444 26.800357 29.558321\n",
       "11 CU-S0003 2017 1 13 13  30.63446 60.00216 17.191062 22.246536 24.609199\n",
       "12 CU-S0003 2017 1 14 14  29.35599 57.80626 17.160096 22.485406 24.762616\n",
       "13 CU-S0003 2017 1 15 15  26.29889 59.42556 21.822222 29.066667 31.977778\n",
       "14 CU-S0003 2017 1 16 16  28.56388 54.12198 20.677630 27.690953 32.431566\n",
       "15 CU-S0003 2017 1 17 17  27.50387 56.05037 20.784255 26.699595 29.514660\n",
       "16 CU-S0003 2017 1 18 18  30.65592 53.08575 20.105180 25.711468 29.122466\n",
       "17 CU-S0003 2017 1 19 19  30.28992 54.72043 21.170056 27.348908 30.512976\n",
       "18 CU-S0003 2017 1 20 20  29.71202 54.78913 22.342542 29.010766 33.397506\n",
       "19 CU-S0003 2017 1 21 21  29.41873 55.09557 24.223358 32.834429 39.640657\n",
       "20 CU-S0003 2017 1 22 22  29.32884 53.98553 21.378720 28.583984 33.563901\n",
       "21 CU-S0003 2017 1 23 23  28.81323 54.35643 20.055947 26.166541 29.556532\n",
       "22 CU-S0003 2017 1 24 24  28.54305 52.94310 17.357984 22.028368 24.356540\n",
       "23 CU-S0003 2017 1 25 25  29.24923 51.17163 18.219539 23.739250 26.684181\n",
       "24 CU-S0003 2017 1 31 31  29.84267 52.96479 32.836762 45.138909 55.684258\n",
       "   monthf date       woy monthweek dow dowf\n",
       "1  Jan    2017-01-01 0   1         0   Sun \n",
       "2  Jan    2017-01-02 1   1         1   Mon \n",
       "3  Jan    2017-01-03 1   1         2   Tue \n",
       "4  Jan    2017-01-04 1   1         3   Wed \n",
       "5  Jan    2017-01-05 1   1         4   Thu \n",
       "6  Jan    2017-01-06 1   1         5   Fri \n",
       "7  Jan    2017-01-07 1   1         6   Sat \n",
       "8  Jan    2017-01-08 1   2         0   Sun \n",
       "9  Jan    2017-01-09 2   3         1   Mon \n",
       "10 Jan    2017-01-10 2   3         2   Tue \n",
       "11 Jan    2017-01-13 2   3         5   Fri \n",
       "12 Jan    2017-01-14 2   3         6   Sat \n",
       "13 Jan    2017-01-15 2   3         0   Sun \n",
       "14 Jan    2017-01-16 3   4         1   Mon \n",
       "15 Jan    2017-01-17 3   4         2   Tue \n",
       "16 Jan    2017-01-18 3   4         3   Wed \n",
       "17 Jan    2017-01-19 3   4         4   Thu \n",
       "18 Jan    2017-01-20 3   4         5   Fri \n",
       "19 Jan    2017-01-21 3   4         6   Sat \n",
       "20 Jan    2017-01-22 3   4         0   Sun \n",
       "21 Jan    2017-01-23 4   5         1   Mon \n",
       "22 Jan    2017-01-24 4   5         2   Tue \n",
       "23 Jan    2017-01-25 4   5         3   Wed \n",
       "24 Jan    2017-01-31 5   6         2   Tue "
      ]
     },
     "metadata": {},
     "output_type": "display_data"
    }
   ],
   "source": [
    "sqldf('select * from airq where m=1 and id=\"CU-S0003\"')"
   ]
  },
  {
   "cell_type": "markdown",
   "metadata": {},
   "source": [
    "## 2. Use ggplot to create heatmap"
   ]
  },
  {
   "cell_type": "markdown",
   "metadata": {},
   "source": [
    "Check min and max of temperature"
   ]
  },
  {
   "cell_type": "code",
   "execution_count": 19,
   "metadata": {
    "collapsed": false
   },
   "outputs": [
    {
     "data": {
      "text/html": [
       "8.63333333333333"
      ],
      "text/latex": [
       "8.63333333333333"
      ],
      "text/markdown": [
       "8.63333333333333"
      ],
      "text/plain": [
       "[1] 8.633333"
      ]
     },
     "metadata": {},
     "output_type": "display_data"
    },
    {
     "data": {
      "text/html": [
       "337991756.178849"
      ],
      "text/latex": [
       "337991756.178849"
      ],
      "text/markdown": [
       "337991756.178849"
      ],
      "text/plain": [
       "[1] 337991756"
      ]
     },
     "metadata": {},
     "output_type": "display_data"
    }
   ],
   "source": [
    "min(airq$avgtemp)\n",
    "max(airq$avgtemp)"
   ]
  },
  {
   "cell_type": "markdown",
   "metadata": {},
   "source": [
    "Convert temp into categorical data by cutting it into chunks."
   ]
  },
  {
   "cell_type": "code",
   "execution_count": 20,
   "metadata": {
    "collapsed": false
   },
   "outputs": [],
   "source": [
    "maxtemp<-max(airq$avgtemp)\n",
    "airq$tempcat<-cut(airq$avgtemp,c(0,10,20,30,40,max(airq$avgtemp)))"
   ]
  },
  {
   "cell_type": "code",
   "execution_count": 21,
   "metadata": {
    "collapsed": false
   },
   "outputs": [
    {
     "data": {
      "text/html": [
       "<table>\n",
       "<thead><tr><th scope=col>id</th><th scope=col>y</th><th scope=col>m</th><th scope=col>d</th><th scope=col>doy</th><th scope=col>avgtemp</th><th scope=col>avghumid</th><th scope=col>avgpm1</th><th scope=col>avgpm25</th><th scope=col>avgpm10</th><th scope=col>monthf</th><th scope=col>date</th><th scope=col>woy</th><th scope=col>monthweek</th><th scope=col>dow</th><th scope=col>dowf</th><th scope=col>tempcat</th></tr></thead>\n",
       "<tbody>\n",
       "\t<tr><td>CU-S0001  </td><td>2017      </td><td>1         </td><td>1         </td><td>1         </td><td>19.89251  </td><td>73.87243  </td><td>16.172147 </td><td>21.976284 </td><td>24.786167 </td><td>Jan       </td><td>2017-01-01</td><td>0         </td><td>1         </td><td>0         </td><td>Sun       </td><td>(10,20]   </td></tr>\n",
       "\t<tr><td>CU-S0002  </td><td>2017      </td><td>1         </td><td>1         </td><td>1         </td><td>26.88037  </td><td>60.75332  </td><td>20.988841 </td><td>29.594086 </td><td>33.736794 </td><td>Jan       </td><td>2017-01-01</td><td>0         </td><td>1         </td><td>0         </td><td>Sun       </td><td>(20,30]   </td></tr>\n",
       "\t<tr><td>CU-S0002  </td><td>2017      </td><td>1         </td><td>2         </td><td>2         </td><td>29.10015  </td><td>56.65051  </td><td>12.574908 </td><td>16.610634 </td><td>17.751935 </td><td>Jan       </td><td>2017-01-02</td><td>1         </td><td>1         </td><td>1         </td><td>Mon       </td><td>(20,30]   </td></tr>\n",
       "\t<tr><td>CU-S0002  </td><td>2017      </td><td>1         </td><td>3         </td><td>3         </td><td>30.03516  </td><td>54.81269  </td><td> 8.854387 </td><td>11.420412 </td><td>12.355431 </td><td>Jan       </td><td>2017-01-03</td><td>1         </td><td>1         </td><td>2         </td><td>Tue       </td><td>(30,40]   </td></tr>\n",
       "\t<tr><td>CU-S0002  </td><td>2017      </td><td>1         </td><td>4         </td><td>4         </td><td>28.41016  </td><td>56.78717  </td><td> 9.699804 </td><td>12.743864 </td><td>14.233939 </td><td>Jan       </td><td>2017-01-04</td><td>1         </td><td>1         </td><td>3         </td><td>Wed       </td><td>(20,30]   </td></tr>\n",
       "\t<tr><td>CU-S0002  </td><td>2017      </td><td>1         </td><td>5         </td><td>5         </td><td>24.19143  </td><td>70.63869  </td><td> 3.251032 </td><td> 4.081335 </td><td> 4.309922 </td><td>Jan       </td><td>2017-01-05</td><td>1         </td><td>1         </td><td>4         </td><td>Thu       </td><td>(20,30]   </td></tr>\n",
       "</tbody>\n",
       "</table>\n"
      ],
      "text/latex": [
       "\\begin{tabular}{r|lllllllllllllllll}\n",
       " id & y & m & d & doy & avgtemp & avghumid & avgpm1 & avgpm25 & avgpm10 & monthf & date & woy & monthweek & dow & dowf & tempcat\\\\\n",
       "\\hline\n",
       "\t CU-S0001   & 2017       & 1          & 1          & 1          & 19.89251   & 73.87243   & 16.172147  & 21.976284  & 24.786167  & Jan        & 2017-01-01 & 0          & 1          & 0          & Sun        & (10,20{]} \\\\\n",
       "\t CU-S0002   & 2017       & 1          & 1          & 1          & 26.88037   & 60.75332   & 20.988841  & 29.594086  & 33.736794  & Jan        & 2017-01-01 & 0          & 1          & 0          & Sun        & (20,30{]} \\\\\n",
       "\t CU-S0002   & 2017       & 1          & 2          & 2          & 29.10015   & 56.65051   & 12.574908  & 16.610634  & 17.751935  & Jan        & 2017-01-02 & 1          & 1          & 1          & Mon        & (20,30{]} \\\\\n",
       "\t CU-S0002   & 2017       & 1          & 3          & 3          & 30.03516   & 54.81269   &  8.854387  & 11.420412  & 12.355431  & Jan        & 2017-01-03 & 1          & 1          & 2          & Tue        & (30,40{]} \\\\\n",
       "\t CU-S0002   & 2017       & 1          & 4          & 4          & 28.41016   & 56.78717   &  9.699804  & 12.743864  & 14.233939  & Jan        & 2017-01-04 & 1          & 1          & 3          & Wed        & (20,30{]} \\\\\n",
       "\t CU-S0002   & 2017       & 1          & 5          & 5          & 24.19143   & 70.63869   &  3.251032  &  4.081335  &  4.309922  & Jan        & 2017-01-05 & 1          & 1          & 4          & Thu        & (20,30{]} \\\\\n",
       "\\end{tabular}\n"
      ],
      "text/markdown": [
       "\n",
       "id | y | m | d | doy | avgtemp | avghumid | avgpm1 | avgpm25 | avgpm10 | monthf | date | woy | monthweek | dow | dowf | tempcat | \n",
       "|---|---|---|---|---|---|\n",
       "| CU-S0001   | 2017       | 1          | 1          | 1          | 19.89251   | 73.87243   | 16.172147  | 21.976284  | 24.786167  | Jan        | 2017-01-01 | 0          | 1          | 0          | Sun        | (10,20]    | \n",
       "| CU-S0002   | 2017       | 1          | 1          | 1          | 26.88037   | 60.75332   | 20.988841  | 29.594086  | 33.736794  | Jan        | 2017-01-01 | 0          | 1          | 0          | Sun        | (20,30]    | \n",
       "| CU-S0002   | 2017       | 1          | 2          | 2          | 29.10015   | 56.65051   | 12.574908  | 16.610634  | 17.751935  | Jan        | 2017-01-02 | 1          | 1          | 1          | Mon        | (20,30]    | \n",
       "| CU-S0002   | 2017       | 1          | 3          | 3          | 30.03516   | 54.81269   |  8.854387  | 11.420412  | 12.355431  | Jan        | 2017-01-03 | 1          | 1          | 2          | Tue        | (30,40]    | \n",
       "| CU-S0002   | 2017       | 1          | 4          | 4          | 28.41016   | 56.78717   |  9.699804  | 12.743864  | 14.233939  | Jan        | 2017-01-04 | 1          | 1          | 3          | Wed        | (20,30]    | \n",
       "| CU-S0002   | 2017       | 1          | 5          | 5          | 24.19143   | 70.63869   |  3.251032  |  4.081335  |  4.309922  | Jan        | 2017-01-05 | 1          | 1          | 4          | Thu        | (20,30]    | \n",
       "\n",
       "\n"
      ],
      "text/plain": [
       "  id       y    m d doy avgtemp  avghumid avgpm1    avgpm25   avgpm10   monthf\n",
       "1 CU-S0001 2017 1 1 1   19.89251 73.87243 16.172147 21.976284 24.786167 Jan   \n",
       "2 CU-S0002 2017 1 1 1   26.88037 60.75332 20.988841 29.594086 33.736794 Jan   \n",
       "3 CU-S0002 2017 1 2 2   29.10015 56.65051 12.574908 16.610634 17.751935 Jan   \n",
       "4 CU-S0002 2017 1 3 3   30.03516 54.81269  8.854387 11.420412 12.355431 Jan   \n",
       "5 CU-S0002 2017 1 4 4   28.41016 56.78717  9.699804 12.743864 14.233939 Jan   \n",
       "6 CU-S0002 2017 1 5 5   24.19143 70.63869  3.251032  4.081335  4.309922 Jan   \n",
       "  date       woy monthweek dow dowf tempcat\n",
       "1 2017-01-01 0   1         0   Sun  (10,20]\n",
       "2 2017-01-01 0   1         0   Sun  (20,30]\n",
       "3 2017-01-02 1   1         1   Mon  (20,30]\n",
       "4 2017-01-03 1   1         2   Tue  (30,40]\n",
       "5 2017-01-04 1   1         3   Wed  (20,30]\n",
       "6 2017-01-05 1   1         4   Thu  (20,30]"
      ]
     },
     "metadata": {},
     "output_type": "display_data"
    }
   ],
   "source": [
    "head(airq)"
   ]
  },
  {
   "cell_type": "markdown",
   "metadata": {},
   "source": [
    "Try plotting"
   ]
  },
  {
   "cell_type": "code",
   "execution_count": 22,
   "metadata": {
    "collapsed": false
   },
   "outputs": [
    {
     "data": {},
     "metadata": {},
     "output_type": "display_data"
    },
    {
     "data": {
      "image/png": "[encoded data removed]",
      "text/plain": [
       "plot without title"
      ]
     },
     "metadata": {},
     "output_type": "display_data"
    }
   ],
   "source": [
    "ggplot(airq, aes(monthweek,dowf)) + geom_tile(aes(fill = tempcat),colour = \"white\") + scale_fill_brewer(palette = \"PuRd\",labels = c(\"<10\", \"10-20\", \"20-30\",\"30-40\",\">=40\"))+ facet_grid(y~monthf) + xlab(\"Week of Month\") + ylab(\"\")"
   ]
  },
  {
   "cell_type": "markdown",
   "metadata": {},
   "source": [
    "There are temp more than 50 which are impossible. If the data is more than 50, mark it as invalid."
   ]
  },
  {
   "cell_type": "code",
   "execution_count": 23,
   "metadata": {
    "collapsed": true
   },
   "outputs": [],
   "source": [
    "maxtemp<-max(airq$avgtemp)\n",
    "airq$tempcat<-cut(airq$avgtemp,c(0,10,20,30,40,50,max(airq$avgtemp)))"
   ]
  },
  {
   "cell_type": "code",
   "execution_count": 24,
   "metadata": {
    "collapsed": false
   },
   "outputs": [
    {
     "data": {},
     "metadata": {},
     "output_type": "display_data"
    },
    {
     "data": {
      "image/png": "[encoded data removed]",
      "text/plain": [
       "plot without title"
      ]
     },
     "metadata": {},
     "output_type": "display_data"
    }
   ],
   "source": [
    "ggplot(airq, aes(monthweek,dowf)) + geom_tile(aes(fill = tempcat),colour = \"white\") + scale_fill_manual(values=c(\"blue\",\"green\",\"yellow\",\"orange\",\"red\",\"grey\"),labels = c(\"<10\", \"10-20\", \"20-30\",\"30-40\",\">=40\",\"Invalid Data\"))+ facet_grid(y~monthf) + xlab(\"Week of Month\") + ylab(\"\")"
   ]
  },
  {
   "cell_type": "markdown",
   "metadata": {},
   "source": [
    "Something wrong with the color--very high value was assigned to 30-40 degree. Try to average the data manually."
   ]
  },
  {
   "cell_type": "code",
   "execution_count": 25,
   "metadata": {
    "collapsed": true
   },
   "outputs": [],
   "source": [
    "airqdaily<-sqldf('select date,y,monthf,monthweek,dowf,avg(avgtemp) from airq group by y,doy')"
   ]
  },
  {
   "cell_type": "code",
   "execution_count": 26,
   "metadata": {
    "collapsed": false,
    "scrolled": true
   },
   "outputs": [
    {
     "data": {
      "text/html": [
       "<table>\n",
       "<thead><tr><th scope=col>date</th><th scope=col>y</th><th scope=col>monthf</th><th scope=col>monthweek</th><th scope=col>dowf</th><th scope=col>avg(avgtemp)</th></tr></thead>\n",
       "<tbody>\n",
       "\t<tr><td>2016-12-11</td><td>2016      </td><td>Dec       </td><td>1         </td><td>Sun       </td><td>31.27250  </td></tr>\n",
       "\t<tr><td>2016-12-12</td><td>2016      </td><td>Dec       </td><td>2         </td><td>Mon       </td><td>30.55400  </td></tr>\n",
       "\t<tr><td>2016-12-13</td><td>2016      </td><td>Dec       </td><td>2         </td><td>Tue       </td><td>31.56401  </td></tr>\n",
       "\t<tr><td>2016-12-14</td><td>2016      </td><td>Dec       </td><td>2         </td><td>Wed       </td><td>34.93037  </td></tr>\n",
       "\t<tr><td>2016-12-15</td><td>2016      </td><td>Dec       </td><td>2         </td><td>Thu       </td><td>25.83115  </td></tr>\n",
       "\t<tr><td>2016-12-16</td><td>2016      </td><td>Dec       </td><td>2         </td><td>Fri       </td><td>25.67758  </td></tr>\n",
       "</tbody>\n",
       "</table>\n"
      ],
      "text/latex": [
       "\\begin{tabular}{r|llllll}\n",
       " date & y & monthf & monthweek & dowf & avg(avgtemp)\\\\\n",
       "\\hline\n",
       "\t 2016-12-11 & 2016       & Dec        & 1          & Sun        & 31.27250  \\\\\n",
       "\t 2016-12-12 & 2016       & Dec        & 2          & Mon        & 30.55400  \\\\\n",
       "\t 2016-12-13 & 2016       & Dec        & 2          & Tue        & 31.56401  \\\\\n",
       "\t 2016-12-14 & 2016       & Dec        & 2          & Wed        & 34.93037  \\\\\n",
       "\t 2016-12-15 & 2016       & Dec        & 2          & Thu        & 25.83115  \\\\\n",
       "\t 2016-12-16 & 2016       & Dec        & 2          & Fri        & 25.67758  \\\\\n",
       "\\end{tabular}\n"
      ],
      "text/markdown": [
       "\n",
       "date | y | monthf | monthweek | dowf | avg(avgtemp) | \n",
       "|---|---|---|---|---|---|\n",
       "| 2016-12-11 | 2016       | Dec        | 1          | Sun        | 31.27250   | \n",
       "| 2016-12-12 | 2016       | Dec        | 2          | Mon        | 30.55400   | \n",
       "| 2016-12-13 | 2016       | Dec        | 2          | Tue        | 31.56401   | \n",
       "| 2016-12-14 | 2016       | Dec        | 2          | Wed        | 34.93037   | \n",
       "| 2016-12-15 | 2016       | Dec        | 2          | Thu        | 25.83115   | \n",
       "| 2016-12-16 | 2016       | Dec        | 2          | Fri        | 25.67758   | \n",
       "\n",
       "\n"
      ],
      "text/plain": [
       "  date       y    monthf monthweek dowf avg(avgtemp)\n",
       "1 2016-12-11 2016 Dec    1         Sun  31.27250    \n",
       "2 2016-12-12 2016 Dec    2         Mon  30.55400    \n",
       "3 2016-12-13 2016 Dec    2         Tue  31.56401    \n",
       "4 2016-12-14 2016 Dec    2         Wed  34.93037    \n",
       "5 2016-12-15 2016 Dec    2         Thu  25.83115    \n",
       "6 2016-12-16 2016 Dec    2         Fri  25.67758    "
      ]
     },
     "metadata": {},
     "output_type": "display_data"
    }
   ],
   "source": [
    "head(airqdaily)"
   ]
  },
  {
   "cell_type": "code",
   "execution_count": 27,
   "metadata": {
    "collapsed": true
   },
   "outputs": [],
   "source": [
    "colnames(airqdaily)[6]<-\"avgtemp\"\n",
    "maxtemp<-max(airqdaily$avgtemp)\n",
    "airqdaily$tempcat<-cut(airqdaily$avgtemp,c(0,10,20,30,40,50,max(airqdaily$avgtemp)))"
   ]
  },
  {
   "cell_type": "markdown",
   "metadata": {},
   "source": [
    "Please check the number of classes before assign the color. If the number of color is more than the number of class, false assigning occurred"
   ]
  },
  {
   "cell_type": "code",
   "execution_count": 28,
   "metadata": {
    "collapsed": false,
    "scrolled": true
   },
   "outputs": [
    {
     "data": {
      "text/html": [
       "<table>\n",
       "<thead><tr><th scope=col>tempcat</th></tr></thead>\n",
       "<tbody>\n",
       "\t<tr><td>(30,40]      </td></tr>\n",
       "\t<tr><td>(20,30]      </td></tr>\n",
       "\t<tr><td>(50,7.56e+06]</td></tr>\n",
       "</tbody>\n",
       "</table>\n"
      ],
      "text/latex": [
       "\\begin{tabular}{r|l}\n",
       " tempcat\\\\\n",
       "\\hline\n",
       "\t (30,40{]}      \\\\\n",
       "\t (20,30{]}      \\\\\n",
       "\t (50,7.56e+06{]}\\\\\n",
       "\\end{tabular}\n"
      ],
      "text/markdown": [
       "\n",
       "tempcat | \n",
       "|---|---|---|\n",
       "| (30,40]       | \n",
       "| (20,30]       | \n",
       "| (50,7.56e+06] | \n",
       "\n",
       "\n"
      ],
      "text/plain": [
       "  tempcat      \n",
       "1 (30,40]      \n",
       "2 (20,30]      \n",
       "3 (50,7.56e+06]"
      ]
     },
     "metadata": {},
     "output_type": "display_data"
    }
   ],
   "source": [
    "sqldf('select distinct(tempcat) from airqdaily')"
   ]
  },
  {
   "cell_type": "code",
   "execution_count": 29,
   "metadata": {
    "collapsed": false
   },
   "outputs": [
    {
     "data": {},
     "metadata": {},
     "output_type": "display_data"
    },
    {
     "data": {
      "image/png": "[encoded data removed]",
      "text/plain": [
       "plot without title"
      ]
     },
     "metadata": {},
     "output_type": "display_data"
    }
   ],
   "source": [
    "ggplot(airqdaily, aes(monthweek,dowf)) + geom_tile(aes(fill = tempcat),colour = \"white\") + scale_fill_manual(values=c(\"yellow\",\"orange\",\"grey\"),labels = c(\"20-30\",\"30-40\",\"Invalid Data\"))+ facet_grid(y~monthf) + xlab(\"Week of Month\") + ylab(\"\")"
   ]
  },
  {
   "cell_type": "markdown",
   "metadata": {},
   "source": [
    "Now,visualize humidity"
   ]
  },
  {
   "cell_type": "code",
   "execution_count": 30,
   "metadata": {
    "collapsed": false
   },
   "outputs": [],
   "source": [
    "airqdaily<-sqldf('select date,y,monthf,monthweek,dowf,avg(avghumid) from airq group by y,doy')\n",
    "colnames(airqdaily)[6]<-\"avghumid\"\n",
    "maxhumid<-max(airqdaily$avghumid)\n",
    "airqdaily$humidity<-cut(airqdaily$avghumid,c(0,20,30,50,80,maxhumid))"
   ]
  },
  {
   "cell_type": "code",
   "execution_count": 31,
   "metadata": {
    "collapsed": false
   },
   "outputs": [
    {
     "data": {
      "text/html": [
       "<table>\n",
       "<thead><tr><th scope=col>humidity</th></tr></thead>\n",
       "<tbody>\n",
       "\t<tr><td>(30,50]      </td></tr>\n",
       "\t<tr><td>(50,80]      </td></tr>\n",
       "\t<tr><td>(80,8.06e+06]</td></tr>\n",
       "</tbody>\n",
       "</table>\n"
      ],
      "text/latex": [
       "\\begin{tabular}{r|l}\n",
       " humidity\\\\\n",
       "\\hline\n",
       "\t (30,50{]}      \\\\\n",
       "\t (50,80{]}      \\\\\n",
       "\t (80,8.06e+06{]}\\\\\n",
       "\\end{tabular}\n"
      ],
      "text/markdown": [
       "\n",
       "humidity | \n",
       "|---|---|---|\n",
       "| (30,50]       | \n",
       "| (50,80]       | \n",
       "| (80,8.06e+06] | \n",
       "\n",
       "\n"
      ],
      "text/plain": [
       "  humidity     \n",
       "1 (30,50]      \n",
       "2 (50,80]      \n",
       "3 (80,8.06e+06]"
      ]
     },
     "metadata": {},
     "output_type": "display_data"
    }
   ],
   "source": [
    "sqldf('select distinct(humidity) from airqdaily')"
   ]
  },
  {
   "cell_type": "code",
   "execution_count": 32,
   "metadata": {
    "collapsed": false
   },
   "outputs": [
    {
     "data": {},
     "metadata": {},
     "output_type": "display_data"
    },
    {
     "data": {
      "image/png": "[encoded data removed]",
      "text/plain": [
       "plot without title"
      ]
     },
     "metadata": {},
     "output_type": "display_data"
    }
   ],
   "source": [
    "ggplot(airqdaily, aes(monthweek,dowf)) + geom_tile(aes(fill = humidity),colour = \"white\") + scale_fill_manual(values=c(\"#0e1cd6\",\"#4f58d1\",\"grey\"),labels = c(\"30-50\",\"50-80\",\"Invalid Data\"))+ facet_grid(y~monthf) + xlab(\"Week of Month\") + ylab(\"\")"
   ]
  },
  {
   "cell_type": "markdown",
   "metadata": {},
   "source": [
    "Visualze pm1"
   ]
  },
  {
   "cell_type": "code",
   "execution_count": 33,
   "metadata": {
    "collapsed": true
   },
   "outputs": [],
   "source": [
    "airqdaily<-sqldf('select date,y,monthf,monthweek,dowf,avg(avgpm1) from airq group by y,doy')\n",
    "colnames(airqdaily)[6]<-\"avgpm1\"\n",
    "maxpm1<-max(airqdaily$avgpm1)\n",
    "airqdaily$pm1<-cut(airqdaily$avgpm1,c(0,50,120,200,300,maxpm1))"
   ]
  },
  {
   "cell_type": "code",
   "execution_count": 34,
   "metadata": {
    "collapsed": false
   },
   "outputs": [
    {
     "data": {
      "text/html": [
       "<table>\n",
       "<thead><tr><th scope=col>pm1</th></tr></thead>\n",
       "<tbody>\n",
       "\t<tr><td>(0,50]   </td></tr>\n",
       "\t<tr><td>(50,78.2]</td></tr>\n",
       "</tbody>\n",
       "</table>\n"
      ],
      "text/latex": [
       "\\begin{tabular}{r|l}\n",
       " pm1\\\\\n",
       "\\hline\n",
       "\t (0,50{]}   \\\\\n",
       "\t (50,78.2{]}\\\\\n",
       "\\end{tabular}\n"
      ],
      "text/markdown": [
       "\n",
       "pm1 | \n",
       "|---|---|\n",
       "| (0,50]    | \n",
       "| (50,78.2] | \n",
       "\n",
       "\n"
      ],
      "text/plain": [
       "  pm1      \n",
       "1 (0,50]   \n",
       "2 (50,78.2]"
      ]
     },
     "metadata": {},
     "output_type": "display_data"
    }
   ],
   "source": [
    "sqldf('select distinct(pm1) from airqdaily')"
   ]
  },
  {
   "cell_type": "code",
   "execution_count": 35,
   "metadata": {
    "collapsed": false
   },
   "outputs": [
    {
     "data": {},
     "metadata": {},
     "output_type": "display_data"
    },
    {
     "data": {
      "image/png": "[encoded data removed]",
      "text/plain": [
       "plot without title"
      ]
     },
     "metadata": {},
     "output_type": "display_data"
    }
   ],
   "source": [
    "ggplot(airqdaily, aes(monthweek,dowf)) + geom_tile(aes(fill = pm1),colour = \"white\") + scale_fill_manual(values=c(\"#ffeda0\",\"#feb24c\"),labels = c(\"<50\",\"50-120\"))+ facet_grid(y~monthf) + xlab(\"Week of Month\") + ylab(\"\")"
   ]
  },
  {
   "cell_type": "markdown",
   "metadata": {},
   "source": [
    "visualize pm2.5"
   ]
  },
  {
   "cell_type": "code",
   "execution_count": 36,
   "metadata": {
    "collapsed": true
   },
   "outputs": [],
   "source": [
    "airqdaily<-sqldf('select date,y,monthf,monthweek,dowf,avg(avgpm25) from airq group by y,doy')\n",
    "colnames(airqdaily)[6]<-\"avgpm25\"\n",
    "maxpm25<-max(airqdaily$avgpm25)\n",
    "airqdaily$pm25<-cut(airqdaily$avgpm25,c(0,50,120,200,300,maxpm25))"
   ]
  },
  {
   "cell_type": "code",
   "execution_count": 37,
   "metadata": {
    "collapsed": false
   },
   "outputs": [
    {
     "data": {
      "text/html": [
       "<table>\n",
       "<thead><tr><th scope=col>pm25</th></tr></thead>\n",
       "<tbody>\n",
       "\t<tr><td>(0,50]   </td></tr>\n",
       "\t<tr><td>(120,124]</td></tr>\n",
       "\t<tr><td>(50,120] </td></tr>\n",
       "</tbody>\n",
       "</table>\n"
      ],
      "text/latex": [
       "\\begin{tabular}{r|l}\n",
       " pm25\\\\\n",
       "\\hline\n",
       "\t (0,50{]}   \\\\\n",
       "\t (120,124{]}\\\\\n",
       "\t (50,120{]} \\\\\n",
       "\\end{tabular}\n"
      ],
      "text/markdown": [
       "\n",
       "pm25 | \n",
       "|---|---|---|\n",
       "| (0,50]    | \n",
       "| (120,124] | \n",
       "| (50,120]  | \n",
       "\n",
       "\n"
      ],
      "text/plain": [
       "  pm25     \n",
       "1 (0,50]   \n",
       "2 (120,124]\n",
       "3 (50,120] "
      ]
     },
     "metadata": {},
     "output_type": "display_data"
    }
   ],
   "source": [
    "sqldf('select distinct(pm25) from airqdaily')"
   ]
  },
  {
   "cell_type": "code",
   "execution_count": 38,
   "metadata": {
    "collapsed": false
   },
   "outputs": [
    {
     "data": {},
     "metadata": {},
     "output_type": "display_data"
    },
    {
     "data": {
      "image/png": "[encoded data removed]",
      "text/plain": [
       "plot without title"
      ]
     },
     "metadata": {},
     "output_type": "display_data"
    }
   ],
   "source": [
    "ggplot(airqdaily, aes(monthweek,dowf)) + geom_tile(aes(fill = pm25),colour = \"white\") + scale_fill_manual(values=c(\"#ffffb2\",\"#fecc5c\",\"#fd8d3c\"),labels = c(\"<50\",\"50-120\",\"120-200\"))+ facet_grid(y~monthf) + xlab(\"Week of Month\") + ylab(\"\")"
   ]
  },
  {
   "cell_type": "markdown",
   "metadata": {},
   "source": [
    "visualize pm10"
   ]
  },
  {
   "cell_type": "code",
   "execution_count": 39,
   "metadata": {
    "collapsed": true
   },
   "outputs": [],
   "source": [
    "airqdaily<-sqldf('select date,y,monthf,monthweek,dowf,avg(avgpm10) from airq group by y,doy')\n",
    "colnames(airqdaily)[6]<-\"avgpm10\"\n",
    "maxpm10<-max(airqdaily$avgpm10)\n",
    "airqdaily$pm10<-cut(airqdaily$avgpm10,c(0,50,120,200,300,maxpm10))"
   ]
  },
  {
   "cell_type": "code",
   "execution_count": 40,
   "metadata": {
    "collapsed": false
   },
   "outputs": [
    {
     "data": {
      "text/html": [
       "<table>\n",
       "<thead><tr><th scope=col>pm10</th></tr></thead>\n",
       "<tbody>\n",
       "\t<tr><td>(0,50]   </td></tr>\n",
       "\t<tr><td>(200,245]</td></tr>\n",
       "\t<tr><td>(120,200]</td></tr>\n",
       "\t<tr><td>(50,120] </td></tr>\n",
       "</tbody>\n",
       "</table>\n"
      ],
      "text/latex": [
       "\\begin{tabular}{r|l}\n",
       " pm10\\\\\n",
       "\\hline\n",
       "\t (0,50{]}   \\\\\n",
       "\t (200,245{]}\\\\\n",
       "\t (120,200{]}\\\\\n",
       "\t (50,120{]} \\\\\n",
       "\\end{tabular}\n"
      ],
      "text/markdown": [
       "\n",
       "pm10 | \n",
       "|---|---|---|---|\n",
       "| (0,50]    | \n",
       "| (200,245] | \n",
       "| (120,200] | \n",
       "| (50,120]  | \n",
       "\n",
       "\n"
      ],
      "text/plain": [
       "  pm10     \n",
       "1 (0,50]   \n",
       "2 (200,245]\n",
       "3 (120,200]\n",
       "4 (50,120] "
      ]
     },
     "metadata": {},
     "output_type": "display_data"
    }
   ],
   "source": [
    "sqldf('select distinct(pm10) from airqdaily')"
   ]
  },
  {
   "cell_type": "code",
   "execution_count": 41,
   "metadata": {
    "collapsed": false
   },
   "outputs": [
    {
     "data": {},
     "metadata": {},
     "output_type": "display_data"
    },
    {
     "data": {
      "image/png": "[encoded data removed]",
      "text/plain": [
       "plot without title"
      ]
     },
     "metadata": {},
     "output_type": "display_data"
    }
   ],
   "source": [
    "ggplot(airqdaily, aes(monthweek,dowf)) + geom_tile(aes(fill = pm10),colour = \"white\") + scale_fill_manual(values=c(\"#ffffb2\",\"#fecc5c\",\"#fd8d3c\",\"#f03b20\"),labels = c(\"<50\",\"50-120\",\"120-200\",\"200-300\"))+ facet_grid(y~monthf) + xlab(\"Week of Month\") + ylab(\"\")"
   ]
  },
  {
   "cell_type": "code",
   "execution_count": 42,
   "metadata": {
    "collapsed": false
   },
   "outputs": [
    {
     "data": {
      "text/html": [
       "<table>\n",
       "<thead><tr><th scope=col>pm1cat</th></tr></thead>\n",
       "<tbody>\n",
       "\t<tr><td>[0,50]   </td></tr>\n",
       "\t<tr><td>(200,300]</td></tr>\n",
       "\t<tr><td>(120,200]</td></tr>\n",
       "\t<tr><td>(50,120] </td></tr>\n",
       "</tbody>\n",
       "</table>\n"
      ],
      "text/latex": [
       "\\begin{tabular}{r|l}\n",
       " pm1cat\\\\\n",
       "\\hline\n",
       "\t {[}0,50{]}   \\\\\n",
       "\t (200,300{]}\\\\\n",
       "\t (120,200{]}\\\\\n",
       "\t (50,120{]} \\\\\n",
       "\\end{tabular}\n"
      ],
      "text/markdown": [
       "\n",
       "pm1cat | \n",
       "|---|---|---|---|\n",
       "| [0,50]    | \n",
       "| (200,300] | \n",
       "| (120,200] | \n",
       "| (50,120]  | \n",
       "\n",
       "\n"
      ],
      "text/plain": [
       "  pm1cat   \n",
       "1 [0,50]   \n",
       "2 (200,300]\n",
       "3 (120,200]\n",
       "4 (50,120] "
      ]
     },
     "metadata": {},
     "output_type": "display_data"
    }
   ],
   "source": [
    "airq$pm1cat<-cut(airq$avgpm1,c(0,50,120,200,300),include.lowest=TRUE)\n",
    "sqldf('select distinct(pm1cat) from airq')"
   ]
  },
  {
   "cell_type": "code",
   "execution_count": 43,
   "metadata": {
    "collapsed": false,
    "scrolled": true
   },
   "outputs": [
    {
     "data": {},
     "metadata": {},
     "output_type": "display_data"
    },
    {
     "data": {
      "image/png": "[encoded data removed]",
      "text/plain": [
       "plot without title"
      ]
     },
     "metadata": {},
     "output_type": "display_data"
    }
   ],
   "source": [
    "ggplot(airq, aes(d,id)) +geom_tile(aes(fill = pm1cat))+facet_grid(.~ monthf)+ scale_fill_manual(values=c(\"#ffffb2\",\"#fecc5c\",\"#fd8d3c\",\"#f03b20\",\"#bd0026\"),labels = c(\"less than 50\",\"50-120\",\"120-200\",\"200-300\",\"more than 300\"))"
   ]
  },
  {
   "cell_type": "code",
   "execution_count": 44,
   "metadata": {
    "collapsed": false
   },
   "outputs": [],
   "source": [
    "subairq<-sqldf('select * from airq where m=3')"
   ]
  },
  {
   "cell_type": "markdown",
   "metadata": {},
   "source": [
    "Plot only March data"
   ]
  },
  {
   "cell_type": "code",
   "execution_count": 45,
   "metadata": {
    "collapsed": false
   },
   "outputs": [
    {
     "data": {},
     "metadata": {},
     "output_type": "display_data"
    },
    {
     "data": {
      "image/png": "[encoded data removed]",
      "text/plain": [
       "plot without title"
      ]
     },
     "metadata": {},
     "output_type": "display_data"
    }
   ],
   "source": [
    "ggplot(subairq, aes(d,id)) +geom_tile(aes(fill = pm1cat),colour=\"white\")+theme (axis.text.y = element_text(size=6))+ scale_fill_manual(values=c(\"#ffffb2\",\"#fecc5c\",\"#fd8d3c\",\"#f03b20\",\"#bd0026\"),labels = c(\"less than 50\",\"50-120\",\"120-200\",\"200-300\",\"more than 300\"))"
   ]
  },
  {
   "cell_type": "code",
   "execution_count": 47,
   "metadata": {
    "collapsed": false
   },
   "outputs": [
    {
     "data": {
      "text/html": [
       "0"
      ],
      "text/latex": [
       "0"
      ],
      "text/markdown": [
       "0"
      ],
      "text/plain": [
       "[1] 0"
      ]
     },
     "metadata": {},
     "output_type": "display_data"
    },
    {
     "data": {
      "text/html": [
       "293.67"
      ],
      "text/latex": [
       "293.67"
      ],
      "text/markdown": [
       "293.67"
      ],
      "text/plain": [
       "[1] 293.67"
      ]
     },
     "metadata": {},
     "output_type": "display_data"
    },
    {
     "data": {
      "text/html": [
       "0"
      ],
      "text/latex": [
       "0"
      ],
      "text/markdown": [
       "0"
      ],
      "text/plain": [
       "[1] 0"
      ]
     },
     "metadata": {},
     "output_type": "display_data"
    },
    {
     "data": {
      "text/html": [
       "1161.3"
      ],
      "text/latex": [
       "1161.3"
      ],
      "text/markdown": [
       "1161.3"
      ],
      "text/plain": [
       "[1] 1161.3"
      ]
     },
     "metadata": {},
     "output_type": "display_data"
    },
    {
     "data": {
      "text/html": [
       "0"
      ],
      "text/latex": [
       "0"
      ],
      "text/markdown": [
       "0"
      ],
      "text/plain": [
       "[1] 0"
      ]
     },
     "metadata": {},
     "output_type": "display_data"
    },
    {
     "data": {
      "text/html": [
       "3110.78"
      ],
      "text/latex": [
       "3110.78"
      ],
      "text/markdown": [
       "3110.78"
      ],
      "text/plain": [
       "[1] 3110.78"
      ]
     },
     "metadata": {},
     "output_type": "display_data"
    }
   ],
   "source": [
    "min(airq$avgpm1)\n",
    "max(airq$avgpm1)\n",
    "min(airq$avgpm25)\n",
    "max(airq$avgpm25)\n",
    "min(airq$avgpm10)\n",
    "max(airq$avgpm10)"
   ]
  },
  {
   "cell_type": "markdown",
   "metadata": {},
   "source": [
    "Choose some tambol in the middle of Nan to plot violin"
   ]
  },
  {
   "cell_type": "code",
   "execution_count": 57,
   "metadata": {
    "collapsed": false
   },
   "outputs": [
    {
     "data": {},
     "metadata": {},
     "output_type": "display_data"
    },
    {
     "data": {
      "image/png": "[encoded data removed]",
      "text/plain": [
       "plot without title"
      ]
     },
     "metadata": {},
     "output_type": "display_data"
    }
   ],
   "source": [
    "airqsub<-sqldf('select * from airq where id=\"CU-S0074\" or id=\"CU-S0066\" or id=\"CU-S0091\" or id=\"CU-S0087\" or id=\"CU-S0080\" or id=\"CU-S0078\"')\n",
    "p <- ggplot(airqsub, aes(id,avgpm25))\n",
    "p + geom_violin(aes(fill=id))"
   ]
  }
 ],
 "metadata": {
  "kernelspec": {
   "display_name": "R",
   "language": "R",
   "name": "ir"
  },
  "language_info": {
   "codemirror_mode": "r",
   "file_extension": ".r",
   "mimetype": "text/x-r-source",
   "name": "R",
   "pygments_lexer": "r",
   "version": "3.3.3"
  }
 },
 "nbformat": 4,
 "nbformat_minor": 2
}
